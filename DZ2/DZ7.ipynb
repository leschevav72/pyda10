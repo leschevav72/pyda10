{
 "cells": [
  {
   "cell_type": "code",
   "execution_count": 20,
   "metadata": {},
   "outputs": [],
   "source": [
    "\"\"\"Задание 1: Для каждой газеты из списка напишите формат указанной даты для перевода в объект datetime\n",
    "The Moscow Times - Wednesday, October 2, 2002\n",
    "The Guardian - Friday, 11.10.13\n",
    "Daily News - Thursday, 18 August 1977\"\"\""
   ]
  },
  {
   "cell_type": "code",
   "execution_count": 37,
   "metadata": {},
   "outputs": [
    {
     "name": "stdout",
     "output_type": "stream",
     "text": [
      "The Moscow Times 2002-10-02 00:00:00\n",
      "The Guardian 2013-11-10 00:00:00\n",
      "Daily News 1977-08-18 00:00:00\n"
     ]
    }
   ],
   "source": [
    "from datetime import datetime\n",
    "pap={'The Moscow Times':'Wednesday, October 2, 2002',\n",
    "    'The Guardian':'Friday, 11.10.13',\n",
    "    'Daily News':'Thursday, 18 August 1977'}\n",
    "i=0\n",
    "for npaper_formats in pap.keys():\n",
    "    if i==0:\n",
    "        print(npaper_formats,datetime.strptime('Wednesday, October 2, 2002','%A, %B %d, %Y'))\n",
    "        i+=1\n",
    "    elif i==1:\n",
    "        print(npaper_formats,datetime.strptime('Friday, 11.10.13','%A, %m.%d.%y'))\n",
    "        i+=1\n",
    "    elif i==2:\n",
    "        print(npaper_formats,datetime.strptime('Thursday, 18 August 1977','%A, %d %B %Y'))\n",
    "    "
   ]
  },
  {
   "cell_type": "code",
   "execution_count": 44,
   "metadata": {},
   "outputs": [
    {
     "name": "stdout",
     "output_type": "stream",
     "text": [
      "True\n",
      "Формат даты не соответствует заданному.Формат: %Y-%m-%d\n",
      "False\n",
      "Формат даты не соответствует заданному.Формат: %Y-%m-%d\n",
      "False\n"
     ]
    }
   ],
   "source": [
    "\"\"\"Задание 2\n",
    "Дан поток дат в формате YYYY-MM-DD, в которых встречаются некорректные значения:\n",
    "stream = ['2018-04-02', '2018-02-29', '2018-19-02']\"\"\"\n",
    "\n",
    "#date_string='2018-04-02'\n",
    "from datetime import datetime\n",
    "def is_valid_date(date_string,format='%Y-%m-%d'):\n",
    "    try:\n",
    "        datetime.strptime(date_string,format)\n",
    "        return True\n",
    "    except ValueError:\n",
    "        print(\"Формат даты не соответствует заданному.Формат: {}\".format(format))    \n",
    "        return False\n",
    "\n",
    "def check(stream=['2018-04-02', '2018-02-29', '2018-19-02']):\n",
    "    for date_string in stream:\n",
    "        print(is_valid_date(date_string))\n",
    "        \n",
    "#is_valid_date(date_string,format='%Y-%m-%d')\n",
    "check()"
   ]
  },
  {
   "cell_type": "code",
   "execution_count": 55,
   "metadata": {},
   "outputs": [
    {
     "name": "stdout",
     "output_type": "stream",
     "text": [
      "Формат даты не соответствует заданному.Формат: YYYY-MM-DD\n"
     ]
    },
    {
     "data": {
      "text/plain": [
       "[]"
      ]
     },
     "execution_count": 55,
     "metadata": {},
     "output_type": "execute_result"
    }
   ],
   "source": [
    "\"\"\"Задание 3\n",
    "Напишите функцию date_range, которая возвращает список дат за период от start_date до end_date. \n",
    "Даты должны вводиться в формате YYYY-MM-DD. В случае неверного формата или при start_date > end_date должен возвращаться пустой список.\"\"\"\n",
    "\n",
    "import datetime\n",
    "start_date = '2018-01-01'\n",
    "end_date = '2018.01.07'\n",
    "\n",
    "def date_range(start_date,end_date,format='%Y-%m-%d'):\n",
    "    try:\n",
    "        start= datetime.datetime.strptime(start_date,format)\n",
    "        end= datetime.datetime.strptime(end_date,format)\n",
    "        if start > end:\n",
    "            print([],\"Неверно указаны даты.\")\n",
    "            return []\n",
    "        else:\n",
    "            return [start+datetime.timedelta(days=i) for i in range((end-start).days+1)]\n",
    "    except ValueError:\n",
    "        print(\"Формат даты не соответствует заданному.Формат: YYYY-MM-DD\")\n",
    "        return []\n",
    "    \n",
    "date_range(start_date,end_date)"
   ]
  },
  {
   "cell_type": "code",
   "execution_count": null,
   "metadata": {},
   "outputs": [],
   "source": []
  },
  {
   "cell_type": "code",
   "execution_count": null,
   "metadata": {},
   "outputs": [],
   "source": []
  }
 ],
 "metadata": {
  "kernelspec": {
   "display_name": "Python 3",
   "language": "python",
   "name": "python3"
  },
  "language_info": {
   "codemirror_mode": {
    "name": "ipython",
    "version": 3
   },
   "file_extension": ".py",
   "mimetype": "text/x-python",
   "name": "python",
   "nbconvert_exporter": "python",
   "pygments_lexer": "ipython3",
   "version": "3.7.6"
  }
 },
 "nbformat": 4,
 "nbformat_minor": 4
}
