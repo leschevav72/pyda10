{
 "cells": [
  {
   "cell_type": "markdown",
   "metadata": {},
   "source": [
    "# Домашняя работа №2"
   ]
  },
  {
   "cell_type": "code",
   "execution_count": 25,
   "metadata": {},
   "outputs": [],
   "source": [
    "import numpy as np\n",
    "from scipy.optimize import approx_fprime\n",
    "from scipy.misc import derivative\n",
    "import sympy"
   ]
  },
  {
   "cell_type": "markdown",
   "metadata": {},
   "source": [
    "### Задание 1"
   ]
  },
  {
   "cell_type": "markdown",
   "metadata": {},
   "source": [
    "Придумайте функции со следующими свойствами a) b) c) область определения X любая, какая вам удобна, главное - функция с нужными свойствами):\n",
    "\n",
    "a) бесконечное количество локальных экстремумов\n",
    "\n",
    "b) 2 локальных экстремума\n",
    "\n",
    "с) 3 локальных экстремума\n",
    "\n",
    "d*) область определения функции - 1 точка"
   ]
  },
  {
   "cell_type": "code",
   "execution_count": null,
   "metadata": {},
   "outputs": [],
   "source": [
    "а) f(x)=sin(x)\n",
    "b)y=x^2*e^(-x),  \n",
    "c)y=sin(x)+cos(x/2) в области определения (-5,10)\n"
   ]
  },
  {
   "cell_type": "markdown",
   "metadata": {},
   "source": [
    "### Задание 2"
   ]
  },
  {
   "cell_type": "markdown",
   "metadata": {},
   "source": [
    "Посчитайте 1-ую и 2-ую производные функции (на бумажке):\n",
    "\n",
    "$f(x) = sin^2(2x+1)$\n"
   ]
  },
  {
   "cell_type": "code",
   "execution_count": null,
   "metadata": {},
   "outputs": [],
   "source": [
    "f1=2x+1\n",
    "f2=𝑠𝑖𝑛^2(f1)\n",
    "f'(x)=f2'*f1'=2*sin(2x+1)*cos(2x+1)*2=4*cos(2x+1)*sin(2x+1)\n",
    "f''(x)=4*(-2*sin(2x+1)*sin(2x+1)+2*cos(2x+1)*sin(2x+1))"
   ]
  },
  {
   "cell_type": "markdown",
   "metadata": {},
   "source": [
    "### Задание 3: \n",
    "Посчитайте частные производные функции в точкe\n",
    "(на бумажке или в LaTeX и на numpy):"
   ]
  },
  {
   "cell_type": "markdown",
   "metadata": {},
   "source": [
    "$f(x,y)=2x^2y^3 + 1/x + y^2x + 7$ в точке $(1,2)$"
   ]
  },
  {
   "cell_type": "code",
   "execution_count": 66,
   "metadata": {},
   "outputs": [
    {
     "name": "stdout",
     "output_type": "stream",
     "text": [
      "df(x,y)/dx = 4*x*y**3 + y**2 - 1/x**2:\n",
      "df(x,y)/dy = 6*x**2*y**2 + 2*x*y:\n",
      "Value of df(1,2)/dx = 35.0\n",
      "Value of df(1,2)/dy = 28\n",
      "\n",
      "Derivatives dx and dy respectively: 62.99179967998478 and 62.99179967998478\n"
     ]
    },
    {
     "name": "stderr",
     "output_type": "stream",
     "text": [
      "/Users/alex/Desktop/Anaconda/anaconda3/lib/python3.7/site-packages/ipykernel_launcher.py:33: RuntimeWarning: divide by zero encountered in double_scalars\n"
     ]
    }
   ],
   "source": [
    "from sympy.abc import x,y\n",
    "f = 2*(x**2)*y**3+(1/x)+(y**2)*x+7\n",
    "\n",
    "dfdx = sympy.diff(f,x)\n",
    "dfdy = sympy.diff(f,y)\n",
    "\n",
    "print(\"df(x,y)/dx = {}:\".format(dfdx))\n",
    "print(\"df(x,y)/dy = {}:\".format(dfdy))\n",
    "x = 1\n",
    "y = 2\n",
    "print(\"Value of df(1,2)/dx = {}\".format(eval(str(dfdx))))\n",
    "print(\"Value of df(1,2)/dy = {}\\n\".format(eval(str(dfdy))))\n",
    "\n",
    "\n",
    "\n",
    "def func(x,y):\n",
    "    return 2*(x**2)*y**3+(1/x)+(y**2)*x+7\n",
    "x_space = np.linspace(0,1,10000)\n",
    "y_space = np.linspace(1,2,10000)\n",
    "f = [func(x,y) for x,y in zip(x_space,y_space)]\n",
    "\n",
    "dx = np.diff(f)/np.diff(x_space)\n",
    "dy = np.diff(f)/np.diff(y_space)\n",
    "\n",
    "print(\"Derivatives dx and dy respectively: {} and {}\".format(dx[-1],dy[-1]))"
   ]
  },
  {
   "cell_type": "markdown",
   "metadata": {},
   "source": [
    "### Задание 4:\n",
    "\n",
    "Градиентный спуск своими руками"
   ]
  },
  {
   "cell_type": "code",
   "execution_count": null,
   "metadata": {},
   "outputs": [],
   "source": [
    "#Пояснение к решению домашней работы (в ноутбуке к дз говориться,\n",
    "#что функция для вычисления градиента есть в лекционном ноутбуке.  Использовать нужно функцию approx_fprime)"
   ]
  },
  {
   "cell_type": "code",
   "execution_count": 79,
   "metadata": {},
   "outputs": [],
   "source": [
    "def f(x):\n",
    "    return (x[0]**2) + (x[1]**2)\n",
    "def df(x):\n",
    "    return np.array([(2*x[0]),(2*x[1])])"
   ]
  },
  {
   "cell_type": "code",
   "execution_count": 80,
   "metadata": {},
   "outputs": [],
   "source": [
    "x = np.array([100, 200])\n",
    "x_ini=x\n",
    "lr = 0.1"
   ]
  },
  {
   "cell_type": "code",
   "execution_count": 81,
   "metadata": {},
   "outputs": [
    {
     "name": "stdout",
     "output_type": "stream",
     "text": [
      "Gradient [200 400]\n"
     ]
    }
   ],
   "source": [
    "for i in range(100):\n",
    "    # Calculate gradient\n",
    "    grad = df(x)\n",
    "    \n",
    "    #Проверка работы approx_fprime (аппроксимация градиентов)\n",
    "    if i == 0:\n",
    "        print(\"Gradient {}\".format(grad))\n",
    "    \n",
    "    # Update x with gradient\n",
    "    x = x - lr * grad\n",
    "    "
   ]
  },
  {
   "cell_type": "code",
   "execution_count": 82,
   "metadata": {},
   "outputs": [
    {
     "name": "stdout",
     "output_type": "stream",
     "text": [
      "Минимум достигается в:  [2.03703598e-08 4.07407195e-08]\n",
      "Значение функции в минимуме:  2.0747577844404994e-15\n"
     ]
    }
   ],
   "source": [
    "print(\"Минимум достигается в: \", x)\n",
    "print(\"Значение функции в минимуме: \", f(x))"
   ]
  },
  {
   "cell_type": "markdown",
   "metadata": {},
   "source": [
    "Проверка с помощью встроенной функции scipy: "
   ]
  },
  {
   "cell_type": "code",
   "execution_count": 84,
   "metadata": {},
   "outputs": [
    {
     "data": {
      "text/plain": [
       "array([200.        , 400.00000381])"
      ]
     },
     "execution_count": 84,
     "metadata": {},
     "output_type": "execute_result"
    }
   ],
   "source": [
    "def func(x, c0, c1):\n",
    "    \"Coordinate vector `x` should be an array of size two.\"\n",
    "    return c0 * x[0]**2 + c1*x[1]**2\n",
    "\n",
    "x = np.ones(2)\n",
    "c0, c1 = (100, 200)\n",
    "eps = np.sqrt(np.finfo(float).eps)\n",
    "approx_fprime(x, func, [eps,eps], c0, c1)"
   ]
  },
  {
   "cell_type": "code",
   "execution_count": null,
   "metadata": {},
   "outputs": [],
   "source": []
  }
 ],
 "metadata": {
  "kernelspec": {
   "display_name": "Python 3",
   "language": "python",
   "name": "python3"
  },
  "language_info": {
   "codemirror_mode": {
    "name": "ipython",
    "version": 3
   },
   "file_extension": ".py",
   "mimetype": "text/x-python",
   "name": "python",
   "nbconvert_exporter": "python",
   "pygments_lexer": "ipython3",
   "version": "3.7.6"
  }
 },
 "nbformat": 4,
 "nbformat_minor": 2
}
