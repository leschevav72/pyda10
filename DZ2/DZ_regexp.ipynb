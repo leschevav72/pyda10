{
 "cells": [
  {
   "cell_type": "code",
   "execution_count": null,
   "metadata": {},
   "outputs": [],
   "source": [
    "#Напишите функцию, которая принимает на вход строку и проверяет является ли она валидным транспортным номером. \n",
    "#Если да, то функция должна возвращать отдельно номер и регион."
   ]
  },
  {
   "cell_type": "code",
   "execution_count": 270,
   "metadata": {},
   "outputs": [],
   "source": [
    "import re"
   ]
  },
  {
   "cell_type": "code",
   "execution_count": 102,
   "metadata": {},
   "outputs": [
    {
     "name": "stdout",
     "output_type": "stream",
     "text": [
      "ввдите номер транспортного средства - q111ww222\n"
     ]
    }
   ],
   "source": [
    "\n",
    "def control():\n",
    "    if re.match(r'\\D\\d{3}\\D{2}\\d{3}', number):\n",
    "        print(number[:-3])\n",
    "        print(number[-3:])\n",
    "    else:\n",
    "        print('не корректный номер')"
   ]
  },
  {
   "cell_type": "code",
   "execution_count": 104,
   "metadata": {},
   "outputs": [
    {
     "name": "stdout",
     "output_type": "stream",
     "text": [
      "ввдите номер транспортного средства - e333tt345\n",
      "e333tt\n",
      "345\n"
     ]
    }
   ],
   "source": [
    "number=input('ввдите номер транспортного средства - ')\n",
    "control()"
   ]
  },
  {
   "cell_type": "code",
   "execution_count": null,
   "metadata": {},
   "outputs": [],
   "source": []
  },
  {
   "cell_type": "code",
   "execution_count": null,
   "metadata": {},
   "outputs": [],
   "source": [
    "#Постарайтесь написать (в крайнем случае найти) самый полный шаблон для проверки e-mail адресов через \n",
    "#регулярное выражение, которая проверяет e-mail адрес на валидность. \n",
    "#Можно руководствоваться следующими минимальными требованиями:\n",
    "#• адрес должен содержать специальный символ “@”, который отделяет имя пользователя почтовой системы от \n",
    "#доменного имени;\n",
    "#• адрес не должен содержать следующие символы: “пробел”, “,”, “:”, “;”, “!”, “#”, “%”, “*”, “(”, “)”, “=”, \n",
    "“+”, “{”, “}”, \" \" \", \" ’ \", \" / \", \" \\ \" и “|”;\n",
    "#• адрес должен состоять только из латинских символов;\n",
    "#• после символа “@” должна быть как минимум одна “.”;\n",
    "#• после последней точки должно быть не менее 2-х и не более 4-х символов, причем наличие цифр не допускается;\n",
    "#• между последней точкой и символом “@” должно быть не менее 2-х символов\n",
    "#• слева от “@” должно быть не менее четырех символов\n"
   ]
  },
  {
   "cell_type": "code",
   "execution_count": 299,
   "metadata": {},
   "outputs": [],
   "source": [
    "mail='cmcbmmvb@gmail.com.tr.rr.tyt, fhffhh@dr.mail, ваваррошрв47389рвт1о21111!!!!!;;;;;;;;ёё'"
   ]
  },
  {
   "cell_type": "code",
   "execution_count": 300,
   "metadata": {},
   "outputs": [
    {
     "data": {
      "text/plain": [
       "<re.Match object; span=(0, 28), match='cmcbmmvb@gmail.com.tr.rr.tyt'>"
      ]
     },
     "execution_count": 300,
     "metadata": {},
     "output_type": "execute_result"
    }
   ],
   "source": [
    "re.match(r'\\b[A-Za-z_0123456789]{4,}@([A-Za-z_0123456789]{2,}\\.)+([A-Za-z_0123456789]{2,4})', mail)"
   ]
  },
  {
   "cell_type": "code",
   "execution_count": null,
   "metadata": {},
   "outputs": [],
   "source": [
    "#Напишите функцию, которая будет удалять все последовательные повторы слов из заданной строки \n",
    "#при помощи регулярных выражений."
   ]
  },
  {
   "cell_type": "code",
   "execution_count": 123,
   "metadata": {},
   "outputs": [],
   "source": [
    "def deldup(str1):\n",
    "    print(re.sub(r'\\b(\\w+)(\\s+\\1\\b)+', r'\\1',str1))\n",
    "    "
   ]
  },
  {
   "cell_type": "code",
   "execution_count": 125,
   "metadata": {},
   "outputs": [
    {
     "name": "stdout",
     "output_type": "stream",
     "text": [
      "три один два четыре\n"
     ]
    }
   ],
   "source": [
    "str1='три три три один один два четыре'\n",
    "deldup(str1)"
   ]
  },
  {
   "cell_type": "code",
   "execution_count": null,
   "metadata": {},
   "outputs": [],
   "source": [
    "#Напишите функцию, которая будет проверять номер сотового телефона на валидность, \n",
    "#если он валиден, то переводить его в формат:\n",
    "#+7(xxx)-xxx-xx-xx\n",
    "#Постарайтесь предусмотреть как можно больше адекватных форматов изначального ввода номера. Примеры валидных форматов:\n",
    "\n",
    "#• +7 955 555-55-55;\n",
    "#• 9555555555;\n",
    "#• 8(955)555-55-55;\n",
    "#• +7 955 555 55 55;\n",
    "#• 7(955) 555-55-55;\n",
    "#• +7 955+555+55+55."
   ]
  },
  {
   "cell_type": "code",
   "execution_count": 320,
   "metadata": {},
   "outputs": [],
   "source": [
    "n1 = '+7 955 555 55 55'\n",
    "re.findall(r'\\+[+,7,8]\\s\\d{3}\\s\\d{3}\\s\\d{2}\\s\\d{2}', n1)\n",
    "n2 = '9555555555'\n",
    "re.findall(r'\\d{10}', n2)\n",
    "n3='+7 955 555-55-55'\n",
    "re.findall(r'\\+[+,7,8]\\s\\d{3}\\s\\d{3}-\\d{2}-\\d{2}', n3)\n",
    "n4='8(955)555-55-55'\n",
    "re.findall(r'[+,7,8]\\S\\d{3}\\S\\d{3}-\\d{2}-\\d{2}', n4)\n",
    "n5='7(955) 555-55-55'\n",
    "re.findall(r'[+,7,8]\\S\\d{3}\\S\\s\\d{3}-\\d{2}-\\d{2}', n5)\n",
    "n6='+7 955+555+55+55'\n",
    "re.findall(r'\\+[+,7,8]\\s\\d{3}\\+\\d{3}\\+\\d{2}\\+\\d{2}', n6)"
   ]
  },
  {
   "cell_type": "code",
   "execution_count": 472,
   "metadata": {},
   "outputs": [],
   "source": [
    "patterns=[r'\\+[+,7,8]\\s\\d{3}\\s\\d{3}\\s\\d{2}\\s\\d{2}',r'\\+[+,7,8]\\s\\d{3}\\s\\d{3}-\\d{2}-\\d{2}',\n",
    "          r'[+,7,8]\\S\\d{3}\\S\\d{3}-\\d{2}-\\d{2}', r'[+,7,8]\\S\\d{3}\\S\\s\\d{3}-\\d{2}-\\d{2}',\n",
    "          r'\\+[+,7,8]\\s\\d{3}\\+\\d{3}\\+\\d{2}\\+\\d{2}',r'\\d{10}']\n"
   ]
  },
  {
   "cell_type": "code",
   "execution_count": 450,
   "metadata": {},
   "outputs": [
    {
     "name": "stdout",
     "output_type": "stream",
     "text": [
      "введите номер - 1\n"
     ]
    }
   ],
   "source": [
    "def phon(n):\n",
    "    for i in patterns:\n",
    "        if re.findall(i,n):\n",
    "            h=''.join(re.split(r'[\\+\\-\\s()]', n))\n",
    "            if len(h)==11:\n",
    "                h=h[1:]\n",
    "            h='+7('+h[0:3]+')-'+h[3:6]+'-'+h[6:8]+'-'+h[8:]\n",
    "            print(h)\n",
    "            return\n",
    "    print('не валидный номер')"
   ]
  },
  {
   "cell_type": "code",
   "execution_count": 476,
   "metadata": {},
   "outputs": [
    {
     "name": "stdout",
     "output_type": "stream",
     "text": [
      "введите номер - 7(955) 555-55-55\n",
      "+7(955)-555-55-55\n"
     ]
    }
   ],
   "source": [
    "n=input('введите номер - ')\n",
    "phon(n)"
   ]
  },
  {
   "cell_type": "code",
   "execution_count": null,
   "metadata": {},
   "outputs": [],
   "source": []
  }
 ],
 "metadata": {
  "kernelspec": {
   "display_name": "Python 3",
   "language": "python",
   "name": "python3"
  },
  "language_info": {
   "codemirror_mode": {
    "name": "ipython",
    "version": 3
   },
   "file_extension": ".py",
   "mimetype": "text/x-python",
   "name": "python",
   "nbconvert_exporter": "python",
   "pygments_lexer": "ipython3",
   "version": "3.7.6"
  }
 },
 "nbformat": 4,
 "nbformat_minor": 4
}
