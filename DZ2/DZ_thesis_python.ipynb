{
 "cells": [
  {
   "cell_type": "markdown",
   "metadata": {},
   "source": [
    "Дипломная работа по курсу «Python для анализа данных»\n",
    "\n",
    "1.Загрузить файл hr.csv.\n",
    "2. Рассчитать основные статистики для переменных (среднее,медиана,мода,мин/макс,сред.отклонение).\n",
    "3.Рассчитать и визуализировать корреляционную матрицу для переменных.\n",
    "4.Визуализировать несколько взаимосвязей между переменными.\n",
    "5.С использованием t-test статистики проверить взаимосвязи между несколькими переменными.\n",
    "6.Рассчитать сколько работников работает в каждом департаменте.\n",
    "7.Показать распределение сотрудников по зарплатам.\n",
    "8.Показать распределение сотрудников по зарплатам совместно с департаментами.\n",
    "9.Сколько сотрудников покинули компанию.\n",
    "10.Проверить несколько гипотез для данных, чтобы понять почему сотрудники покидают компанию.\n",
    "11.Загрузить результат (в формате .ipynb ноутбука) в репозиторий. Разместить ссылку на репозиторий в Личном кабинете"
   ]
  },
  {
   "cell_type": "code",
   "execution_count": 1,
   "metadata": {},
   "outputs": [],
   "source": [
    "import numpy as np\n",
    "from scipy.stats import t\n",
    "from scipy.stats import norm\n",
    "import matplotlib.pyplot as plt\n",
    "from scipy import stats\n",
    "import pandas as pd\n",
    "import io\n",
    "import requests\n",
    "import seaborn as sns\n",
    "import statistics"
   ]
  },
  {
   "cell_type": "code",
   "execution_count": 5,
   "metadata": {},
   "outputs": [],
   "source": [
    "df=pd.read_csv('HR.csv')\n"
   ]
  },
  {
   "cell_type": "code",
   "execution_count": 6,
   "metadata": {},
   "outputs": [
    {
     "data": {
      "text/html": [
       "<div>\n",
       "<style scoped>\n",
       "    .dataframe tbody tr th:only-of-type {\n",
       "        vertical-align: middle;\n",
       "    }\n",
       "\n",
       "    .dataframe tbody tr th {\n",
       "        vertical-align: top;\n",
       "    }\n",
       "\n",
       "    .dataframe thead th {\n",
       "        text-align: right;\n",
       "    }\n",
       "</style>\n",
       "<table border=\"1\" class=\"dataframe\">\n",
       "  <thead>\n",
       "    <tr style=\"text-align: right;\">\n",
       "      <th></th>\n",
       "      <th>satisfaction_level</th>\n",
       "      <th>last_evaluation</th>\n",
       "      <th>number_project</th>\n",
       "      <th>average_montly_hours</th>\n",
       "      <th>time_spend_company</th>\n",
       "      <th>Work_accident</th>\n",
       "      <th>left</th>\n",
       "      <th>promotion_last_5years</th>\n",
       "      <th>sales</th>\n",
       "      <th>salary</th>\n",
       "    </tr>\n",
       "  </thead>\n",
       "  <tbody>\n",
       "    <tr>\n",
       "      <th>0</th>\n",
       "      <td>0.38</td>\n",
       "      <td>0.53</td>\n",
       "      <td>2</td>\n",
       "      <td>157</td>\n",
       "      <td>3</td>\n",
       "      <td>0</td>\n",
       "      <td>1</td>\n",
       "      <td>0</td>\n",
       "      <td>sales</td>\n",
       "      <td>low</td>\n",
       "    </tr>\n",
       "    <tr>\n",
       "      <th>1</th>\n",
       "      <td>0.80</td>\n",
       "      <td>0.86</td>\n",
       "      <td>5</td>\n",
       "      <td>262</td>\n",
       "      <td>6</td>\n",
       "      <td>0</td>\n",
       "      <td>1</td>\n",
       "      <td>0</td>\n",
       "      <td>sales</td>\n",
       "      <td>medium</td>\n",
       "    </tr>\n",
       "    <tr>\n",
       "      <th>2</th>\n",
       "      <td>0.11</td>\n",
       "      <td>0.88</td>\n",
       "      <td>7</td>\n",
       "      <td>272</td>\n",
       "      <td>4</td>\n",
       "      <td>0</td>\n",
       "      <td>1</td>\n",
       "      <td>0</td>\n",
       "      <td>sales</td>\n",
       "      <td>medium</td>\n",
       "    </tr>\n",
       "    <tr>\n",
       "      <th>3</th>\n",
       "      <td>0.72</td>\n",
       "      <td>0.87</td>\n",
       "      <td>5</td>\n",
       "      <td>223</td>\n",
       "      <td>5</td>\n",
       "      <td>0</td>\n",
       "      <td>1</td>\n",
       "      <td>0</td>\n",
       "      <td>sales</td>\n",
       "      <td>low</td>\n",
       "    </tr>\n",
       "    <tr>\n",
       "      <th>4</th>\n",
       "      <td>0.37</td>\n",
       "      <td>0.52</td>\n",
       "      <td>2</td>\n",
       "      <td>159</td>\n",
       "      <td>3</td>\n",
       "      <td>0</td>\n",
       "      <td>1</td>\n",
       "      <td>0</td>\n",
       "      <td>sales</td>\n",
       "      <td>low</td>\n",
       "    </tr>\n",
       "  </tbody>\n",
       "</table>\n",
       "</div>"
      ],
      "text/plain": [
       "   satisfaction_level  last_evaluation  number_project  average_montly_hours  \\\n",
       "0                0.38             0.53               2                   157   \n",
       "1                0.80             0.86               5                   262   \n",
       "2                0.11             0.88               7                   272   \n",
       "3                0.72             0.87               5                   223   \n",
       "4                0.37             0.52               2                   159   \n",
       "\n",
       "   time_spend_company  Work_accident  left  promotion_last_5years  sales  \\\n",
       "0                   3              0     1                      0  sales   \n",
       "1                   6              0     1                      0  sales   \n",
       "2                   4              0     1                      0  sales   \n",
       "3                   5              0     1                      0  sales   \n",
       "4                   3              0     1                      0  sales   \n",
       "\n",
       "   salary  \n",
       "0     low  \n",
       "1  medium  \n",
       "2  medium  \n",
       "3     low  \n",
       "4     low  "
      ]
     },
     "execution_count": 6,
     "metadata": {},
     "output_type": "execute_result"
    }
   ],
   "source": [
    "df.head()"
   ]
  },
  {
   "cell_type": "code",
   "execution_count": 12,
   "metadata": {},
   "outputs": [
    {
     "data": {
      "text/html": [
       "<div>\n",
       "<style scoped>\n",
       "    .dataframe tbody tr th:only-of-type {\n",
       "        vertical-align: middle;\n",
       "    }\n",
       "\n",
       "    .dataframe tbody tr th {\n",
       "        vertical-align: top;\n",
       "    }\n",
       "\n",
       "    .dataframe thead th {\n",
       "        text-align: right;\n",
       "    }\n",
       "</style>\n",
       "<table border=\"1\" class=\"dataframe\">\n",
       "  <thead>\n",
       "    <tr style=\"text-align: right;\">\n",
       "      <th></th>\n",
       "      <th>satisfaction_level</th>\n",
       "      <th>last_evaluation</th>\n",
       "      <th>number_project</th>\n",
       "      <th>average_montly_hours</th>\n",
       "      <th>time_spend_company</th>\n",
       "      <th>Work_accident</th>\n",
       "      <th>left</th>\n",
       "      <th>promotion_last_5years</th>\n",
       "      <th>sales</th>\n",
       "      <th>salary</th>\n",
       "      <th>new_salary</th>\n",
       "    </tr>\n",
       "  </thead>\n",
       "  <tbody>\n",
       "    <tr>\n",
       "      <th>0</th>\n",
       "      <td>0.38</td>\n",
       "      <td>0.53</td>\n",
       "      <td>2</td>\n",
       "      <td>157</td>\n",
       "      <td>3</td>\n",
       "      <td>0</td>\n",
       "      <td>1</td>\n",
       "      <td>0</td>\n",
       "      <td>sales</td>\n",
       "      <td>low</td>\n",
       "      <td>0</td>\n",
       "    </tr>\n",
       "    <tr>\n",
       "      <th>1</th>\n",
       "      <td>0.80</td>\n",
       "      <td>0.86</td>\n",
       "      <td>5</td>\n",
       "      <td>262</td>\n",
       "      <td>6</td>\n",
       "      <td>0</td>\n",
       "      <td>1</td>\n",
       "      <td>0</td>\n",
       "      <td>sales</td>\n",
       "      <td>medium</td>\n",
       "      <td>1</td>\n",
       "    </tr>\n",
       "    <tr>\n",
       "      <th>2</th>\n",
       "      <td>0.11</td>\n",
       "      <td>0.88</td>\n",
       "      <td>7</td>\n",
       "      <td>272</td>\n",
       "      <td>4</td>\n",
       "      <td>0</td>\n",
       "      <td>1</td>\n",
       "      <td>0</td>\n",
       "      <td>sales</td>\n",
       "      <td>medium</td>\n",
       "      <td>1</td>\n",
       "    </tr>\n",
       "    <tr>\n",
       "      <th>3</th>\n",
       "      <td>0.72</td>\n",
       "      <td>0.87</td>\n",
       "      <td>5</td>\n",
       "      <td>223</td>\n",
       "      <td>5</td>\n",
       "      <td>0</td>\n",
       "      <td>1</td>\n",
       "      <td>0</td>\n",
       "      <td>sales</td>\n",
       "      <td>low</td>\n",
       "      <td>0</td>\n",
       "    </tr>\n",
       "    <tr>\n",
       "      <th>4</th>\n",
       "      <td>0.37</td>\n",
       "      <td>0.52</td>\n",
       "      <td>2</td>\n",
       "      <td>159</td>\n",
       "      <td>3</td>\n",
       "      <td>0</td>\n",
       "      <td>1</td>\n",
       "      <td>0</td>\n",
       "      <td>sales</td>\n",
       "      <td>low</td>\n",
       "      <td>0</td>\n",
       "    </tr>\n",
       "  </tbody>\n",
       "</table>\n",
       "</div>"
      ],
      "text/plain": [
       "   satisfaction_level  last_evaluation  number_project  average_montly_hours  \\\n",
       "0                0.38             0.53               2                   157   \n",
       "1                0.80             0.86               5                   262   \n",
       "2                0.11             0.88               7                   272   \n",
       "3                0.72             0.87               5                   223   \n",
       "4                0.37             0.52               2                   159   \n",
       "\n",
       "   time_spend_company  Work_accident  left  promotion_last_5years  sales  \\\n",
       "0                   3              0     1                      0  sales   \n",
       "1                   6              0     1                      0  sales   \n",
       "2                   4              0     1                      0  sales   \n",
       "3                   5              0     1                      0  sales   \n",
       "4                   3              0     1                      0  sales   \n",
       "\n",
       "   salary  new_salary  \n",
       "0     low           0  \n",
       "1  medium           1  \n",
       "2  medium           1  \n",
       "3     low           0  \n",
       "4     low           0  "
      ]
     },
     "execution_count": 12,
     "metadata": {},
     "output_type": "execute_result"
    }
   ],
   "source": [
    "# добавим колонку с значениями 0,1,2 для уровней зараьотной платы (salary) \n",
    "# low - 0, medium -1, high - 2\n",
    "\n",
    "df['new_salary'] = 0\n",
    "for val in df['salary'].unique():\n",
    "    df.loc[df['salary']==val,'new_salary'] =  list(df['salary'].unique()).index(val)\n",
    "\n",
    "df.head()\n"
   ]
  },
  {
   "cell_type": "markdown",
   "metadata": {},
   "source": [
    "2. Рассчитать основные статистики для переменных (среднее,медиана,мода,мин/макс,сред.отклонение)"
   ]
  },
  {
   "cell_type": "code",
   "execution_count": 16,
   "metadata": {},
   "outputs": [
    {
     "name": "stdout",
     "output_type": "stream",
     "text": [
      "satisfaction_level:\n",
      "Матожидание:  0.6128335222348157\n",
      "Максимум:  1.0\n",
      "Минимум:  0.09\n",
      "размах:  0.91\n",
      "стандартное отклонение:  0.2486223626820733\n",
      "дисперсия:  0.061813079225616394\n",
      "Медиана:  0.64\n",
      "Значение моды:  0.1\n"
     ]
    }
   ],
   "source": [
    "print('satisfaction_level:')\n",
    "print('Матожидание: ',statistics.mean(df['satisfaction_level']))\n",
    "print('Максимум: ',max(df['satisfaction_level']))\n",
    "print('Минимум: ',min(df['satisfaction_level']))\n",
    "print('размах: ',max(df['satisfaction_level'])-min(df['satisfaction_level']))\n",
    "print('стандартное отклонение: ',statistics.pstdev(df['satisfaction_level']))\n",
    "print('дисперсия: ',statistics.pvariance(df['satisfaction_level']))\n",
    "print('Медиана: ', statistics.median(df['satisfaction_level']))\n",
    "print('Значение моды: ', statistics.mode(df['satisfaction_level']))"
   ]
  },
  {
   "cell_type": "code",
   "execution_count": 17,
   "metadata": {},
   "outputs": [
    {
     "name": "stdout",
     "output_type": "stream",
     "text": [
      "last_evaluation:\n",
      "Матожидание:  0.7161017401160077\n",
      "Максимум:  1.0\n",
      "Минимум:  0.36\n",
      "размах:  0.64\n",
      "стандартное отклонение:  0.1711634045107436\n",
      "дисперсия:  0.029296911043708445\n",
      "Медиана:  0.72\n",
      "Значение моды:  0.55\n"
     ]
    }
   ],
   "source": [
    "print('last_evaluation:')\n",
    "print('Матожидание: ',statistics.mean(df['last_evaluation']))\n",
    "print('Максимум: ',max(df['last_evaluation']))\n",
    "print('Минимум: ',min(df['last_evaluation']))\n",
    "print('размах: ',max(df['last_evaluation'])-min(df['last_evaluation']))\n",
    "print('стандартное отклонение: ',statistics.pstdev(df['last_evaluation']))\n",
    "print('дисперсия: ',statistics.pvariance(df['last_evaluation']))\n",
    "print('Медиана: ', statistics.median(df['last_evaluation']))\n",
    "print('Значение моды: ', statistics.mode(df['last_evaluation']))"
   ]
  },
  {
   "cell_type": "code",
   "execution_count": 18,
   "metadata": {},
   "outputs": [
    {
     "name": "stdout",
     "output_type": "stream",
     "text": [
      "number_project:\n",
      "Матожидание:  3.80305353690246\n",
      "Максимум:  7\n",
      "Минимум:  2\n",
      "размах:  5\n",
      "стандартное отклонение:  1.2325512654823438\n",
      "дисперсия:  1.5191826220421274\n",
      "Медиана:  4\n",
      "Значение моды:  4\n"
     ]
    }
   ],
   "source": [
    "print('number_project:')\n",
    "print('Матожидание: ',statistics.mean(df['number_project']))\n",
    "print('Максимум: ',max(df['number_project']))\n",
    "print('Минимум: ',min(df['number_project']))\n",
    "print('размах: ',max(df['number_project'])-min(df['number_project']))\n",
    "print('стандартное отклонение: ',statistics.pstdev(df['number_project']))\n",
    "print('дисперсия: ',statistics.pvariance(df['number_project']))\n",
    "print('Медиана: ', statistics.median(df['number_project']))\n",
    "print('Значение моды: ', statistics.mode(df['number_project']))"
   ]
  },
  {
   "cell_type": "code",
   "execution_count": 20,
   "metadata": {},
   "outputs": [
    {
     "name": "stdout",
     "output_type": "stream",
     "text": [
      "average_montly_hours:\n",
      "Матожидание:  201.0503366891126\n",
      "Максимум:  310\n",
      "Минимум:  96\n",
      "размах:  214\n",
      "стандартное отклонение:  49.94143446256218\n",
      "дисперсия:  2494.146876178393\n",
      "Медиана:  200\n"
     ]
    },
    {
     "ename": "StatisticsError",
     "evalue": "no unique mode; found 2 equally common values",
     "output_type": "error",
     "traceback": [
      "\u001b[0;31m---------------------------------------------------------------------------\u001b[0m",
      "\u001b[0;31mStatisticsError\u001b[0m                           Traceback (most recent call last)",
      "\u001b[0;32m<ipython-input-20-a0610854d83c>\u001b[0m in \u001b[0;36m<module>\u001b[0;34m\u001b[0m\n\u001b[1;32m      7\u001b[0m \u001b[0mprint\u001b[0m\u001b[0;34m(\u001b[0m\u001b[0;34m'дисперсия: '\u001b[0m\u001b[0;34m,\u001b[0m\u001b[0mstatistics\u001b[0m\u001b[0;34m.\u001b[0m\u001b[0mpvariance\u001b[0m\u001b[0;34m(\u001b[0m\u001b[0mdf\u001b[0m\u001b[0;34m[\u001b[0m\u001b[0;34m'average_montly_hours'\u001b[0m\u001b[0;34m]\u001b[0m\u001b[0;34m)\u001b[0m\u001b[0;34m)\u001b[0m\u001b[0;34m\u001b[0m\u001b[0;34m\u001b[0m\u001b[0m\n\u001b[1;32m      8\u001b[0m \u001b[0mprint\u001b[0m\u001b[0;34m(\u001b[0m\u001b[0;34m'Медиана: '\u001b[0m\u001b[0;34m,\u001b[0m \u001b[0mstatistics\u001b[0m\u001b[0;34m.\u001b[0m\u001b[0mmedian\u001b[0m\u001b[0;34m(\u001b[0m\u001b[0mdf\u001b[0m\u001b[0;34m[\u001b[0m\u001b[0;34m'average_montly_hours'\u001b[0m\u001b[0;34m]\u001b[0m\u001b[0;34m)\u001b[0m\u001b[0;34m)\u001b[0m\u001b[0;34m\u001b[0m\u001b[0;34m\u001b[0m\u001b[0m\n\u001b[0;32m----> 9\u001b[0;31m \u001b[0mprint\u001b[0m\u001b[0;34m(\u001b[0m\u001b[0;34m'Значение моды: '\u001b[0m\u001b[0;34m,\u001b[0m \u001b[0mstatistics\u001b[0m\u001b[0;34m.\u001b[0m\u001b[0mmode\u001b[0m\u001b[0;34m(\u001b[0m\u001b[0mdf\u001b[0m\u001b[0;34m[\u001b[0m\u001b[0;34m'average_montly_hours'\u001b[0m\u001b[0;34m]\u001b[0m\u001b[0;34m)\u001b[0m\u001b[0;34m)\u001b[0m\u001b[0;34m\u001b[0m\u001b[0;34m\u001b[0m\u001b[0m\n\u001b[0m",
      "\u001b[0;32m~/Desktop/Anaconda/anaconda3/lib/python3.7/statistics.py\u001b[0m in \u001b[0;36mmode\u001b[0;34m(data)\u001b[0m\n\u001b[1;32m    504\u001b[0m     \u001b[0;32melif\u001b[0m \u001b[0mtable\u001b[0m\u001b[0;34m:\u001b[0m\u001b[0;34m\u001b[0m\u001b[0;34m\u001b[0m\u001b[0m\n\u001b[1;32m    505\u001b[0m         raise StatisticsError(\n\u001b[0;32m--> 506\u001b[0;31m                 \u001b[0;34m'no unique mode; found %d equally common values'\u001b[0m \u001b[0;34m%\u001b[0m \u001b[0mlen\u001b[0m\u001b[0;34m(\u001b[0m\u001b[0mtable\u001b[0m\u001b[0;34m)\u001b[0m\u001b[0;34m\u001b[0m\u001b[0;34m\u001b[0m\u001b[0m\n\u001b[0m\u001b[1;32m    507\u001b[0m                 )\n\u001b[1;32m    508\u001b[0m     \u001b[0;32melse\u001b[0m\u001b[0;34m:\u001b[0m\u001b[0;34m\u001b[0m\u001b[0;34m\u001b[0m\u001b[0m\n",
      "\u001b[0;31mStatisticsError\u001b[0m: no unique mode; found 2 equally common values"
     ]
    }
   ],
   "source": [
    "print('average_montly_hours:')\n",
    "print('Матожидание: ',statistics.mean(df['average_montly_hours']))\n",
    "print('Максимум: ',max(df['average_montly_hours']))\n",
    "print('Минимум: ',min(df['average_montly_hours']))\n",
    "print('размах: ',max(df['average_montly_hours'])-min(df['average_montly_hours']))\n",
    "print('стандартное отклонение: ',statistics.pstdev(df['average_montly_hours']))\n",
    "print('дисперсия: ',statistics.pvariance(df['average_montly_hours']))\n",
    "print('Медиана: ', statistics.median(df['average_montly_hours']))\n",
    "print('Значение моды: ', statistics.mode(df['average_montly_hours']))"
   ]
  },
  {
   "cell_type": "code",
   "execution_count": 25,
   "metadata": {},
   "outputs": [
    {
     "data": {
      "text/plain": [
       "14999"
      ]
     },
     "execution_count": 25,
     "metadata": {},
     "output_type": "execute_result"
    }
   ],
   "source": [
    "len(df.average_montly_hours)"
   ]
  },
  {
   "cell_type": "code",
   "execution_count": 26,
   "metadata": {},
   "outputs": [
    {
     "data": {
      "text/plain": [
       "array([157, 262, 272, 223, 159, 153, 247, 259, 224, 142, 135, 305, 234,\n",
       "       148, 137, 143, 160, 255, 282, 147, 304, 139, 158, 242, 239, 128,\n",
       "       132, 294, 134, 145, 140, 246, 126, 306, 152, 269, 127, 281, 276,\n",
       "       182, 273, 307, 309, 225, 226, 308, 244, 286, 161, 264, 277, 275,\n",
       "       149, 295, 151, 249, 291, 232, 130, 129, 155, 265, 279, 284, 221,\n",
       "       154, 150, 267, 257, 177, 144, 289, 258, 263, 251, 133, 216, 300,\n",
       "       138, 260, 183, 250, 292, 283, 245, 256, 278, 240, 136, 301, 243,\n",
       "       296, 274, 164, 146, 261, 285, 141, 297, 156, 287, 219, 254, 228,\n",
       "       131, 252, 236, 270, 298, 192, 248, 266, 238, 229, 233, 268, 231,\n",
       "       253, 302, 271, 290, 235, 293, 241, 218, 199, 180, 195, 237, 227,\n",
       "       172, 206, 181, 217, 310, 214, 198, 211, 222, 213, 202, 184, 204,\n",
       "       288, 220, 299, 303, 212, 196, 179, 205, 230, 203, 280, 169, 188,\n",
       "       178, 175, 166, 163, 168, 165, 189, 162, 215, 193, 176, 191, 174,\n",
       "       201, 208, 171, 111, 104, 106, 100, 194, 209, 185, 200, 207, 187,\n",
       "       210, 186, 167, 108, 122, 110, 115, 197, 102, 109, 190,  99, 101,\n",
       "        97, 173, 121, 170, 105, 118, 119, 117, 114,  96,  98, 107, 123,\n",
       "       116, 125, 113, 120, 112, 124, 103])"
      ]
     },
     "execution_count": 26,
     "metadata": {},
     "output_type": "execute_result"
    }
   ],
   "source": [
    "df.average_montly_hours.unique()"
   ]
  },
  {
   "cell_type": "code",
   "execution_count": 21,
   "metadata": {},
   "outputs": [
    {
     "data": {
      "text/plain": [
       "<matplotlib.axes._subplots.AxesSubplot at 0x1a1ae7bd10>"
      ]
     },
     "execution_count": 21,
     "metadata": {},
     "output_type": "execute_result"
    },
    {
     "data": {
      "image/png": "[encoded data removed]",
      "text/plain": [
       "<Figure size 432x288 with 1 Axes>"
      ]
     },
     "metadata": {
      "needs_background": "light"
     },
     "output_type": "display_data"
    }
   ],
   "source": [
    "df['average_montly_hours'].hist()"
   ]
  },
  {
   "cell_type": "code",
   "execution_count": 27,
   "metadata": {},
   "outputs": [
    {
     "name": "stdout",
     "output_type": "stream",
     "text": [
      "time_spend_company:\n",
      "Матожидание:  3.498233215547703\n",
      "Максимум:  10\n",
      "Минимум:  2\n",
      "размах:  8\n",
      "стандартное отклонение:  1.4600875552715114\n",
      "дисперсия:  2.1318556690587385\n",
      "Медиана:  3\n",
      "Значение моды:  3\n"
     ]
    }
   ],
   "source": [
    "print('time_spend_company:')\n",
    "print('Матожидание: ',statistics.mean(df['time_spend_company']))\n",
    "print('Максимум: ',max(df['time_spend_company']))\n",
    "print('Минимум: ',min(df['time_spend_company']))\n",
    "print('размах: ',max(df['time_spend_company'])-min(df['time_spend_company']))\n",
    "print('стандартное отклонение: ',statistics.pstdev(df['time_spend_company']))\n",
    "print('дисперсия: ',statistics.pvariance(df['time_spend_company']))\n",
    "print('Медиана: ', statistics.median(df['time_spend_company']))\n",
    "print('Значение моды: ', statistics.mode(df['time_spend_company']))"
   ]
  },
  {
   "cell_type": "code",
   "execution_count": 28,
   "metadata": {},
   "outputs": [
    {
     "name": "stdout",
     "output_type": "stream",
     "text": [
      "Work_accident:\n",
      "Матожидание:  0.1446096406427095\n",
      "Максимум:  1\n",
      "Минимум:  0\n",
      "размах:  1\n",
      "стандартное отклонение:  0.3517068274513532\n",
      "дисперсия:  0.12369769247589593\n",
      "Медиана:  0\n",
      "Значение моды:  0\n"
     ]
    }
   ],
   "source": [
    "print('Work_accident:')\n",
    "print('Матожидание: ',statistics.mean(df['Work_accident']))\n",
    "print('Максимум: ',max(df['Work_accident']))\n",
    "print('Минимум: ',min(df['Work_accident']))\n",
    "print('размах: ',max(df['Work_accident'])-min(df['Work_accident']))\n",
    "print('стандартное отклонение: ',statistics.pstdev(df['Work_accident']))\n",
    "print('дисперсия: ',statistics.pvariance(df['Work_accident']))\n",
    "print('Медиана: ', statistics.median(df['Work_accident']))\n",
    "print('Значение моды: ', statistics.mode(df['Work_accident']))"
   ]
  },
  {
   "cell_type": "code",
   "execution_count": 29,
   "metadata": {},
   "outputs": [
    {
     "name": "stdout",
     "output_type": "stream",
     "text": [
      "left:\n",
      "Матожидание:  0.2380825388359224\n",
      "Максимум:  1\n",
      "Минимум:  0\n",
      "размах:  1\n",
      "стандартное отклонение:  0.42590990072709495\n",
      "дисперсия:  0.1813992435373639\n",
      "Медиана:  0\n",
      "Значение моды:  0\n"
     ]
    }
   ],
   "source": [
    "print('left:')\n",
    "print('Матожидание: ',statistics.mean(df['left']))\n",
    "print('Максимум: ',max(df['left']))\n",
    "print('Минимум: ',min(df['left']))\n",
    "print('размах: ',max(df['left'])-min(df['left']))\n",
    "print('стандартное отклонение: ',statistics.pstdev(df['left']))\n",
    "print('дисперсия: ',statistics.pvariance(df['left']))\n",
    "print('Медиана: ', statistics.median(df['left']))\n",
    "print('Значение моды: ', statistics.mode(df['left']))"
   ]
  },
  {
   "cell_type": "code",
   "execution_count": 30,
   "metadata": {},
   "outputs": [
    {
     "name": "stdout",
     "output_type": "stream",
     "text": [
      "promotion_last_5years:\n",
      "Матожидание:  0.021268084538969265\n",
      "Максимум:  1\n",
      "Минимум:  0\n",
      "размах:  1\n",
      "стандартное отклонение:  0.14427665479561314\n",
      "дисперсия:  0.02081575311901252\n",
      "Медиана:  0\n",
      "Значение моды:  0\n"
     ]
    }
   ],
   "source": [
    "print('promotion_last_5years:')\n",
    "print('Матожидание: ',statistics.mean(df['promotion_last_5years']))\n",
    "print('Максимум: ',max(df['promotion_last_5years']))\n",
    "print('Минимум: ',min(df['promotion_last_5years']))\n",
    "print('размах: ',max(df['promotion_last_5years'])-min(df['promotion_last_5years']))\n",
    "print('стандартное отклонение: ',statistics.pstdev(df['promotion_last_5years']))\n",
    "print('дисперсия: ',statistics.pvariance(df['promotion_last_5years']))\n",
    "print('Медиана: ', statistics.median(df['promotion_last_5years']))\n",
    "print('Значение моды: ', statistics.mode(df['promotion_last_5years']))"
   ]
  },
  {
   "cell_type": "code",
   "execution_count": 13,
   "metadata": {},
   "outputs": [
    {
     "name": "stdout",
     "output_type": "stream",
     "text": [
      "new_salary:\n",
      "Матожидание:  0.5947063137542503\n",
      "Максимум:  2\n",
      "Минимум:  0\n",
      "размах:  2\n",
      "стандартное отклонение:  0.6371617092677936\n",
      "дисперсия:  0.4059750437570563\n",
      "Медиана:  1\n",
      "Значение моды:  0\n"
     ]
    }
   ],
   "source": [
    "print('new_salary:')\n",
    "print('Матожидание: ',statistics.mean(df['new_salary']))\n",
    "print('Максимум: ',max(df['new_salary']))\n",
    "print('Минимум: ',min(df['new_salary']))\n",
    "print('размах: ',max(df['new_salary'])-min(df['new_salary']))\n",
    "print('стандартное отклонение: ',statistics.pstdev(df['new_salary']))\n",
    "print('дисперсия: ',statistics.pvariance(df['new_salary']))\n",
    "print('Медиана: ', statistics.median(df['new_salary']))\n",
    "print('Значение моды: ', statistics.mode(df['new_salary']))"
   ]
  },
  {
   "cell_type": "markdown",
   "metadata": {},
   "source": [
    "3.Рассчитать и визуализировать корреляционную матрицу для переменных."
   ]
  },
  {
   "cell_type": "code",
   "execution_count": 14,
   "metadata": {},
   "outputs": [
    {
     "data": {
      "text/html": [
       "<div>\n",
       "<style scoped>\n",
       "    .dataframe tbody tr th:only-of-type {\n",
       "        vertical-align: middle;\n",
       "    }\n",
       "\n",
       "    .dataframe tbody tr th {\n",
       "        vertical-align: top;\n",
       "    }\n",
       "\n",
       "    .dataframe thead th {\n",
       "        text-align: right;\n",
       "    }\n",
       "</style>\n",
       "<table border=\"1\" class=\"dataframe\">\n",
       "  <thead>\n",
       "    <tr style=\"text-align: right;\">\n",
       "      <th></th>\n",
       "      <th>satisfaction_level</th>\n",
       "      <th>last_evaluation</th>\n",
       "      <th>number_project</th>\n",
       "      <th>average_montly_hours</th>\n",
       "      <th>time_spend_company</th>\n",
       "      <th>Work_accident</th>\n",
       "      <th>left</th>\n",
       "      <th>promotion_last_5years</th>\n",
       "      <th>new_salary</th>\n",
       "    </tr>\n",
       "  </thead>\n",
       "  <tbody>\n",
       "    <tr>\n",
       "      <th>satisfaction_level</th>\n",
       "      <td>1.000000</td>\n",
       "      <td>0.105021</td>\n",
       "      <td>-0.142970</td>\n",
       "      <td>-0.020048</td>\n",
       "      <td>-0.100866</td>\n",
       "      <td>0.058697</td>\n",
       "      <td>-0.388375</td>\n",
       "      <td>0.025605</td>\n",
       "      <td>0.050022</td>\n",
       "    </tr>\n",
       "    <tr>\n",
       "      <th>last_evaluation</th>\n",
       "      <td>0.105021</td>\n",
       "      <td>1.000000</td>\n",
       "      <td>0.349333</td>\n",
       "      <td>0.339742</td>\n",
       "      <td>0.131591</td>\n",
       "      <td>-0.007104</td>\n",
       "      <td>0.006567</td>\n",
       "      <td>-0.008684</td>\n",
       "      <td>-0.013002</td>\n",
       "    </tr>\n",
       "    <tr>\n",
       "      <th>number_project</th>\n",
       "      <td>-0.142970</td>\n",
       "      <td>0.349333</td>\n",
       "      <td>1.000000</td>\n",
       "      <td>0.417211</td>\n",
       "      <td>0.196786</td>\n",
       "      <td>-0.004741</td>\n",
       "      <td>0.023787</td>\n",
       "      <td>-0.006064</td>\n",
       "      <td>-0.001803</td>\n",
       "    </tr>\n",
       "    <tr>\n",
       "      <th>average_montly_hours</th>\n",
       "      <td>-0.020048</td>\n",
       "      <td>0.339742</td>\n",
       "      <td>0.417211</td>\n",
       "      <td>1.000000</td>\n",
       "      <td>0.127755</td>\n",
       "      <td>-0.010143</td>\n",
       "      <td>0.071287</td>\n",
       "      <td>-0.003544</td>\n",
       "      <td>-0.002242</td>\n",
       "    </tr>\n",
       "    <tr>\n",
       "      <th>time_spend_company</th>\n",
       "      <td>-0.100866</td>\n",
       "      <td>0.131591</td>\n",
       "      <td>0.196786</td>\n",
       "      <td>0.127755</td>\n",
       "      <td>1.000000</td>\n",
       "      <td>0.002120</td>\n",
       "      <td>0.144822</td>\n",
       "      <td>0.067433</td>\n",
       "      <td>0.048715</td>\n",
       "    </tr>\n",
       "    <tr>\n",
       "      <th>Work_accident</th>\n",
       "      <td>0.058697</td>\n",
       "      <td>-0.007104</td>\n",
       "      <td>-0.004741</td>\n",
       "      <td>-0.010143</td>\n",
       "      <td>0.002120</td>\n",
       "      <td>1.000000</td>\n",
       "      <td>-0.154622</td>\n",
       "      <td>0.039245</td>\n",
       "      <td>0.009247</td>\n",
       "    </tr>\n",
       "    <tr>\n",
       "      <th>left</th>\n",
       "      <td>-0.388375</td>\n",
       "      <td>0.006567</td>\n",
       "      <td>0.023787</td>\n",
       "      <td>0.071287</td>\n",
       "      <td>0.144822</td>\n",
       "      <td>-0.154622</td>\n",
       "      <td>1.000000</td>\n",
       "      <td>-0.061788</td>\n",
       "      <td>-0.157898</td>\n",
       "    </tr>\n",
       "    <tr>\n",
       "      <th>promotion_last_5years</th>\n",
       "      <td>0.025605</td>\n",
       "      <td>-0.008684</td>\n",
       "      <td>-0.006064</td>\n",
       "      <td>-0.003544</td>\n",
       "      <td>0.067433</td>\n",
       "      <td>0.039245</td>\n",
       "      <td>-0.061788</td>\n",
       "      <td>1.000000</td>\n",
       "      <td>0.098119</td>\n",
       "    </tr>\n",
       "    <tr>\n",
       "      <th>new_salary</th>\n",
       "      <td>0.050022</td>\n",
       "      <td>-0.013002</td>\n",
       "      <td>-0.001803</td>\n",
       "      <td>-0.002242</td>\n",
       "      <td>0.048715</td>\n",
       "      <td>0.009247</td>\n",
       "      <td>-0.157898</td>\n",
       "      <td>0.098119</td>\n",
       "      <td>1.000000</td>\n",
       "    </tr>\n",
       "  </tbody>\n",
       "</table>\n",
       "</div>"
      ],
      "text/plain": [
       "                       satisfaction_level  last_evaluation  number_project  \\\n",
       "satisfaction_level               1.000000         0.105021       -0.142970   \n",
       "last_evaluation                  0.105021         1.000000        0.349333   \n",
       "number_project                  -0.142970         0.349333        1.000000   \n",
       "average_montly_hours            -0.020048         0.339742        0.417211   \n",
       "time_spend_company              -0.100866         0.131591        0.196786   \n",
       "Work_accident                    0.058697        -0.007104       -0.004741   \n",
       "left                            -0.388375         0.006567        0.023787   \n",
       "promotion_last_5years            0.025605        -0.008684       -0.006064   \n",
       "new_salary                       0.050022        -0.013002       -0.001803   \n",
       "\n",
       "                       average_montly_hours  time_spend_company  \\\n",
       "satisfaction_level                -0.020048           -0.100866   \n",
       "last_evaluation                    0.339742            0.131591   \n",
       "number_project                     0.417211            0.196786   \n",
       "average_montly_hours               1.000000            0.127755   \n",
       "time_spend_company                 0.127755            1.000000   \n",
       "Work_accident                     -0.010143            0.002120   \n",
       "left                               0.071287            0.144822   \n",
       "promotion_last_5years             -0.003544            0.067433   \n",
       "new_salary                        -0.002242            0.048715   \n",
       "\n",
       "                       Work_accident      left  promotion_last_5years  \\\n",
       "satisfaction_level          0.058697 -0.388375               0.025605   \n",
       "last_evaluation            -0.007104  0.006567              -0.008684   \n",
       "number_project             -0.004741  0.023787              -0.006064   \n",
       "average_montly_hours       -0.010143  0.071287              -0.003544   \n",
       "time_spend_company          0.002120  0.144822               0.067433   \n",
       "Work_accident               1.000000 -0.154622               0.039245   \n",
       "left                       -0.154622  1.000000              -0.061788   \n",
       "promotion_last_5years       0.039245 -0.061788               1.000000   \n",
       "new_salary                  0.009247 -0.157898               0.098119   \n",
       "\n",
       "                       new_salary  \n",
       "satisfaction_level       0.050022  \n",
       "last_evaluation         -0.013002  \n",
       "number_project          -0.001803  \n",
       "average_montly_hours    -0.002242  \n",
       "time_spend_company       0.048715  \n",
       "Work_accident            0.009247  \n",
       "left                    -0.157898  \n",
       "promotion_last_5years    0.098119  \n",
       "new_salary               1.000000  "
      ]
     },
     "execution_count": 14,
     "metadata": {},
     "output_type": "execute_result"
    }
   ],
   "source": [
    "df.corr()\n"
   ]
  },
  {
   "cell_type": "code",
   "execution_count": 15,
   "metadata": {},
   "outputs": [
    {
     "data": {
      "image/png": "[encoded data removed]",
      "text/plain": [
       "<Figure size 864x864 with 2 Axes>"
      ]
     },
     "metadata": {
      "needs_background": "light"
     },
     "output_type": "display_data"
    }
   ],
   "source": [
    "sns.heatmap(df.corr(),annot=True,cmap='RdYlGn',linewidths=0.2) \n",
    "fig=plt.gcf()\n",
    "fig.set_size_inches(12,12)\n",
    "plt.show()"
   ]
  },
  {
   "cell_type": "markdown",
   "metadata": {},
   "source": [
    "видно зависимости увольнений с временем работы в компании, заработной платы от повышений за последние 5 лет"
   ]
  },
  {
   "cell_type": "code",
   "execution_count": 16,
   "metadata": {},
   "outputs": [
    {
     "data": {
      "text/plain": [
       "array(['sales', 'accounting', 'hr', 'technical', 'support', 'management',\n",
       "       'IT', 'product_mng', 'marketing', 'RandD'], dtype=object)"
      ]
     },
     "execution_count": 16,
     "metadata": {},
     "output_type": "execute_result"
    }
   ],
   "source": [
    "df.sales.unique()   #посмотрим какие отделы (департаменты) есть в компании"
   ]
  },
  {
   "cell_type": "code",
   "execution_count": 17,
   "metadata": {},
   "outputs": [
    {
     "data": {
      "text/plain": [
       "array([2, 5, 7, 6, 4, 3])"
      ]
     },
     "execution_count": 17,
     "metadata": {},
     "output_type": "execute_result"
    }
   ],
   "source": [
    "df.number_project.unique() #смотрим, какие варианты есть по количеству проектов на сотрудника "
   ]
  },
  {
   "cell_type": "code",
   "execution_count": 18,
   "metadata": {},
   "outputs": [
    {
     "name": "stdout",
     "output_type": "stream",
     "text": [
      "<class 'pandas.core.frame.DataFrame'>\n",
      "RangeIndex: 14999 entries, 0 to 14998\n",
      "Data columns (total 11 columns):\n",
      " #   Column                 Non-Null Count  Dtype  \n",
      "---  ------                 --------------  -----  \n",
      " 0   satisfaction_level     14999 non-null  float64\n",
      " 1   last_evaluation        14999 non-null  float64\n",
      " 2   number_project         14999 non-null  int64  \n",
      " 3   average_montly_hours   14999 non-null  int64  \n",
      " 4   time_spend_company     14999 non-null  int64  \n",
      " 5   Work_accident          14999 non-null  int64  \n",
      " 6   left                   14999 non-null  int64  \n",
      " 7   promotion_last_5years  14999 non-null  int64  \n",
      " 8   sales                  14999 non-null  object \n",
      " 9   salary                 14999 non-null  object \n",
      " 10  new_salary             14999 non-null  int64  \n",
      "dtypes: float64(2), int64(7), object(2)\n",
      "memory usage: 1.3+ MB\n"
     ]
    }
   ],
   "source": [
    "df.info()     #смотрим наличие пропусков в данных"
   ]
  },
  {
   "cell_type": "markdown",
   "metadata": {},
   "source": [
    "4.Визуализировать несколько взаимосвязей между переменными."
   ]
  },
  {
   "cell_type": "code",
   "execution_count": 24,
   "metadata": {},
   "outputs": [
    {
     "data": {
      "text/html": [
       "<div>\n",
       "<style scoped>\n",
       "    .dataframe tbody tr th:only-of-type {\n",
       "        vertical-align: middle;\n",
       "    }\n",
       "\n",
       "    .dataframe tbody tr th {\n",
       "        vertical-align: top;\n",
       "    }\n",
       "\n",
       "    .dataframe thead th {\n",
       "        text-align: right;\n",
       "    }\n",
       "</style>\n",
       "<table border=\"1\" class=\"dataframe\">\n",
       "  <thead>\n",
       "    <tr style=\"text-align: right;\">\n",
       "      <th></th>\n",
       "      <th>satisfaction_level</th>\n",
       "      <th>last_evaluation</th>\n",
       "      <th>average_montly_hours</th>\n",
       "      <th>time_spend_company</th>\n",
       "      <th>Work_accident</th>\n",
       "      <th>left</th>\n",
       "      <th>promotion_last_5years</th>\n",
       "      <th>sales</th>\n",
       "      <th>salary</th>\n",
       "      <th>new_salary</th>\n",
       "    </tr>\n",
       "    <tr>\n",
       "      <th>number_project</th>\n",
       "      <th></th>\n",
       "      <th></th>\n",
       "      <th></th>\n",
       "      <th></th>\n",
       "      <th></th>\n",
       "      <th></th>\n",
       "      <th></th>\n",
       "      <th></th>\n",
       "      <th></th>\n",
       "      <th></th>\n",
       "    </tr>\n",
       "  </thead>\n",
       "  <tbody>\n",
       "    <tr>\n",
       "      <th>2</th>\n",
       "      <td>2388.0</td>\n",
       "      <td>2388.0</td>\n",
       "      <td>2388</td>\n",
       "      <td>2388</td>\n",
       "      <td>2388</td>\n",
       "      <td>2388</td>\n",
       "      <td>2388</td>\n",
       "      <td>2388</td>\n",
       "      <td>2388</td>\n",
       "      <td>2388</td>\n",
       "    </tr>\n",
       "    <tr>\n",
       "      <th>3</th>\n",
       "      <td>4055.0</td>\n",
       "      <td>4055.0</td>\n",
       "      <td>4055</td>\n",
       "      <td>4055</td>\n",
       "      <td>4055</td>\n",
       "      <td>4055</td>\n",
       "      <td>4055</td>\n",
       "      <td>4055</td>\n",
       "      <td>4055</td>\n",
       "      <td>4055</td>\n",
       "    </tr>\n",
       "    <tr>\n",
       "      <th>4</th>\n",
       "      <td>4365.0</td>\n",
       "      <td>4365.0</td>\n",
       "      <td>4365</td>\n",
       "      <td>4365</td>\n",
       "      <td>4365</td>\n",
       "      <td>4365</td>\n",
       "      <td>4365</td>\n",
       "      <td>4365</td>\n",
       "      <td>4365</td>\n",
       "      <td>4365</td>\n",
       "    </tr>\n",
       "    <tr>\n",
       "      <th>5</th>\n",
       "      <td>2761.0</td>\n",
       "      <td>2761.0</td>\n",
       "      <td>2761</td>\n",
       "      <td>2761</td>\n",
       "      <td>2761</td>\n",
       "      <td>2761</td>\n",
       "      <td>2761</td>\n",
       "      <td>2761</td>\n",
       "      <td>2761</td>\n",
       "      <td>2761</td>\n",
       "    </tr>\n",
       "    <tr>\n",
       "      <th>6</th>\n",
       "      <td>1174.0</td>\n",
       "      <td>1174.0</td>\n",
       "      <td>1174</td>\n",
       "      <td>1174</td>\n",
       "      <td>1174</td>\n",
       "      <td>1174</td>\n",
       "      <td>1174</td>\n",
       "      <td>1174</td>\n",
       "      <td>1174</td>\n",
       "      <td>1174</td>\n",
       "    </tr>\n",
       "    <tr>\n",
       "      <th>7</th>\n",
       "      <td>256.0</td>\n",
       "      <td>256.0</td>\n",
       "      <td>256</td>\n",
       "      <td>256</td>\n",
       "      <td>256</td>\n",
       "      <td>256</td>\n",
       "      <td>256</td>\n",
       "      <td>256</td>\n",
       "      <td>256</td>\n",
       "      <td>256</td>\n",
       "    </tr>\n",
       "  </tbody>\n",
       "</table>\n",
       "</div>"
      ],
      "text/plain": [
       "                satisfaction_level  last_evaluation  average_montly_hours  \\\n",
       "number_project                                                              \n",
       "2                           2388.0           2388.0                  2388   \n",
       "3                           4055.0           4055.0                  4055   \n",
       "4                           4365.0           4365.0                  4365   \n",
       "5                           2761.0           2761.0                  2761   \n",
       "6                           1174.0           1174.0                  1174   \n",
       "7                            256.0            256.0                   256   \n",
       "\n",
       "                time_spend_company  Work_accident  left  \\\n",
       "number_project                                            \n",
       "2                             2388           2388  2388   \n",
       "3                             4055           4055  4055   \n",
       "4                             4365           4365  4365   \n",
       "5                             2761           2761  2761   \n",
       "6                             1174           1174  1174   \n",
       "7                              256            256   256   \n",
       "\n",
       "                promotion_last_5years  sales  salary  new_salary  \n",
       "number_project                                                    \n",
       "2                                2388   2388    2388        2388  \n",
       "3                                4055   4055    4055        4055  \n",
       "4                                4365   4365    4365        4365  \n",
       "5                                2761   2761    2761        2761  \n",
       "6                                1174   1174    1174        1174  \n",
       "7                                 256    256     256         256  "
      ]
     },
     "execution_count": 24,
     "metadata": {},
     "output_type": "execute_result"
    }
   ],
   "source": [
    "df1=df.groupby(['number_project']).agg(len)   #смотрим распределение количества проектов по сотрудникам\n",
    "                                              # (например, есть 256 струдников, которые реализуют 7 проектов)\n",
    "df1"
   ]
  },
  {
   "cell_type": "code",
   "execution_count": 25,
   "metadata": {},
   "outputs": [
    {
     "data": {
      "text/html": [
       "<div>\n",
       "<style scoped>\n",
       "    .dataframe tbody tr th:only-of-type {\n",
       "        vertical-align: middle;\n",
       "    }\n",
       "\n",
       "    .dataframe tbody tr th {\n",
       "        vertical-align: top;\n",
       "    }\n",
       "\n",
       "    .dataframe thead th {\n",
       "        text-align: right;\n",
       "    }\n",
       "</style>\n",
       "<table border=\"1\" class=\"dataframe\">\n",
       "  <thead>\n",
       "    <tr style=\"text-align: right;\">\n",
       "      <th></th>\n",
       "      <th>satisfaction_level</th>\n",
       "      <th>last_evaluation</th>\n",
       "      <th>number_project</th>\n",
       "      <th>average_montly_hours</th>\n",
       "      <th>time_spend_company</th>\n",
       "      <th>Work_accident</th>\n",
       "      <th>left</th>\n",
       "      <th>promotion_last_5years</th>\n",
       "      <th>sales</th>\n",
       "      <th>salary</th>\n",
       "    </tr>\n",
       "    <tr>\n",
       "      <th>new_salary</th>\n",
       "      <th></th>\n",
       "      <th></th>\n",
       "      <th></th>\n",
       "      <th></th>\n",
       "      <th></th>\n",
       "      <th></th>\n",
       "      <th></th>\n",
       "      <th></th>\n",
       "      <th></th>\n",
       "      <th></th>\n",
       "    </tr>\n",
       "  </thead>\n",
       "  <tbody>\n",
       "    <tr>\n",
       "      <th>0</th>\n",
       "      <td>7316.0</td>\n",
       "      <td>7316.0</td>\n",
       "      <td>7316</td>\n",
       "      <td>7316</td>\n",
       "      <td>7316</td>\n",
       "      <td>7316</td>\n",
       "      <td>7316</td>\n",
       "      <td>7316</td>\n",
       "      <td>7316</td>\n",
       "      <td>7316</td>\n",
       "    </tr>\n",
       "    <tr>\n",
       "      <th>1</th>\n",
       "      <td>6446.0</td>\n",
       "      <td>6446.0</td>\n",
       "      <td>6446</td>\n",
       "      <td>6446</td>\n",
       "      <td>6446</td>\n",
       "      <td>6446</td>\n",
       "      <td>6446</td>\n",
       "      <td>6446</td>\n",
       "      <td>6446</td>\n",
       "      <td>6446</td>\n",
       "    </tr>\n",
       "    <tr>\n",
       "      <th>2</th>\n",
       "      <td>1237.0</td>\n",
       "      <td>1237.0</td>\n",
       "      <td>1237</td>\n",
       "      <td>1237</td>\n",
       "      <td>1237</td>\n",
       "      <td>1237</td>\n",
       "      <td>1237</td>\n",
       "      <td>1237</td>\n",
       "      <td>1237</td>\n",
       "      <td>1237</td>\n",
       "    </tr>\n",
       "  </tbody>\n",
       "</table>\n",
       "</div>"
      ],
      "text/plain": [
       "            satisfaction_level  last_evaluation  number_project  \\\n",
       "new_salary                                                        \n",
       "0                       7316.0           7316.0            7316   \n",
       "1                       6446.0           6446.0            6446   \n",
       "2                       1237.0           1237.0            1237   \n",
       "\n",
       "            average_montly_hours  time_spend_company  Work_accident  left  \\\n",
       "new_salary                                                                  \n",
       "0                           7316                7316           7316  7316   \n",
       "1                           6446                6446           6446  6446   \n",
       "2                           1237                1237           1237  1237   \n",
       "\n",
       "            promotion_last_5years  sales  salary  \n",
       "new_salary                                        \n",
       "0                            7316   7316    7316  \n",
       "1                            6446   6446    6446  \n",
       "2                            1237   1237    1237  "
      ]
     },
     "execution_count": 25,
     "metadata": {},
     "output_type": "execute_result"
    }
   ],
   "source": [
    "df.groupby(['new_salary']).agg(len)       #смотрим распределение сотрудников по уровню оплаты:\n",
    "                                          # низкая - 7316 сотрудников\n",
    "                                          # средняя - 6446 сотрудников\n",
    "                                          # высокая - 1237 сотрудников"
   ]
  },
  {
   "cell_type": "code",
   "execution_count": 22,
   "metadata": {},
   "outputs": [
    {
     "data": {
      "text/html": [
       "<div>\n",
       "<style scoped>\n",
       "    .dataframe tbody tr th:only-of-type {\n",
       "        vertical-align: middle;\n",
       "    }\n",
       "\n",
       "    .dataframe tbody tr th {\n",
       "        vertical-align: top;\n",
       "    }\n",
       "\n",
       "    .dataframe thead th {\n",
       "        text-align: right;\n",
       "    }\n",
       "</style>\n",
       "<table border=\"1\" class=\"dataframe\">\n",
       "  <thead>\n",
       "    <tr style=\"text-align: right;\">\n",
       "      <th></th>\n",
       "      <th>satisfaction_level</th>\n",
       "      <th>last_evaluation</th>\n",
       "      <th>average_montly_hours</th>\n",
       "      <th>time_spend_company</th>\n",
       "      <th>Work_accident</th>\n",
       "      <th>left</th>\n",
       "      <th>promotion_last_5years</th>\n",
       "      <th>new_salary</th>\n",
       "    </tr>\n",
       "    <tr>\n",
       "      <th>number_project</th>\n",
       "      <th></th>\n",
       "      <th></th>\n",
       "      <th></th>\n",
       "      <th></th>\n",
       "      <th></th>\n",
       "      <th></th>\n",
       "      <th></th>\n",
       "      <th></th>\n",
       "    </tr>\n",
       "  </thead>\n",
       "  <tbody>\n",
       "    <tr>\n",
       "      <th>2</th>\n",
       "      <td>1143.30</td>\n",
       "      <td>1357.59</td>\n",
       "      <td>382898</td>\n",
       "      <td>7595</td>\n",
       "      <td>222</td>\n",
       "      <td>1567</td>\n",
       "      <td>37</td>\n",
       "      <td>1184</td>\n",
       "    </tr>\n",
       "    <tr>\n",
       "      <th>3</th>\n",
       "      <td>2788.50</td>\n",
       "      <td>2905.70</td>\n",
       "      <td>800893</td>\n",
       "      <td>13327</td>\n",
       "      <td>710</td>\n",
       "      <td>72</td>\n",
       "      <td>95</td>\n",
       "      <td>2672</td>\n",
       "    </tr>\n",
       "    <tr>\n",
       "      <th>4</th>\n",
       "      <td>3034.25</td>\n",
       "      <td>3230.14</td>\n",
       "      <td>895358</td>\n",
       "      <td>15081</td>\n",
       "      <td>683</td>\n",
       "      <td>409</td>\n",
       "      <td>117</td>\n",
       "      <td>2646</td>\n",
       "    </tr>\n",
       "    <tr>\n",
       "      <th>5</th>\n",
       "      <td>1874.41</td>\n",
       "      <td>2103.91</td>\n",
       "      <td>585502</td>\n",
       "      <td>10492</td>\n",
       "      <td>416</td>\n",
       "      <td>612</td>\n",
       "      <td>50</td>\n",
       "      <td>1689</td>\n",
       "    </tr>\n",
       "    <tr>\n",
       "      <th>6</th>\n",
       "      <td>321.04</td>\n",
       "      <td>923.41</td>\n",
       "      <td>280227</td>\n",
       "      <td>4922</td>\n",
       "      <td>134</td>\n",
       "      <td>655</td>\n",
       "      <td>20</td>\n",
       "      <td>614</td>\n",
       "    </tr>\n",
       "    <tr>\n",
       "      <th>7</th>\n",
       "      <td>30.39</td>\n",
       "      <td>220.06</td>\n",
       "      <td>70676</td>\n",
       "      <td>1053</td>\n",
       "      <td>4</td>\n",
       "      <td>256</td>\n",
       "      <td>0</td>\n",
       "      <td>115</td>\n",
       "    </tr>\n",
       "  </tbody>\n",
       "</table>\n",
       "</div>"
      ],
      "text/plain": [
       "                satisfaction_level  last_evaluation  average_montly_hours  \\\n",
       "number_project                                                              \n",
       "2                          1143.30          1357.59                382898   \n",
       "3                          2788.50          2905.70                800893   \n",
       "4                          3034.25          3230.14                895358   \n",
       "5                          1874.41          2103.91                585502   \n",
       "6                           321.04           923.41                280227   \n",
       "7                            30.39           220.06                 70676   \n",
       "\n",
       "                time_spend_company  Work_accident  left  \\\n",
       "number_project                                            \n",
       "2                             7595            222  1567   \n",
       "3                            13327            710    72   \n",
       "4                            15081            683   409   \n",
       "5                            10492            416   612   \n",
       "6                             4922            134   655   \n",
       "7                             1053              4   256   \n",
       "\n",
       "                promotion_last_5years  new_salary  \n",
       "number_project                                     \n",
       "2                                  37        1184  \n",
       "3                                  95        2672  \n",
       "4                                 117        2646  \n",
       "5                                  50        1689  \n",
       "6                                  20         614  \n",
       "7                                   0         115  "
      ]
     },
     "execution_count": 22,
     "metadata": {},
     "output_type": "execute_result"
    }
   ],
   "source": [
    "df2=df.groupby(['number_project']).agg(sum)   \n",
    "df2"
   ]
  },
  {
   "cell_type": "code",
   "execution_count": 26,
   "metadata": {},
   "outputs": [
    {
     "data": {
      "text/plain": [
       "Int64Index([2, 3, 4, 5, 6, 7], dtype='int64', name='number_project')"
      ]
     },
     "execution_count": 26,
     "metadata": {},
     "output_type": "execute_result"
    }
   ],
   "source": [
    "df3=df2['average_montly_hours']/df1.average_montly_hours\n",
    "df3.index"
   ]
  },
  {
   "cell_type": "code",
   "execution_count": 27,
   "metadata": {},
   "outputs": [
    {
     "data": {
      "text/plain": [
       "<BarContainer object of 6 artists>"
      ]
     },
     "execution_count": 27,
     "metadata": {},
     "output_type": "execute_result"
    },
    {
     "data": {
      "image/png": "[encoded data removed]",
      "text/plain": [
       "<Figure size 432x288 with 1 Axes>"
      ]
     },
     "metadata": {
      "needs_background": "light"
     },
     "output_type": "display_data"
    }
   ],
   "source": [
    "#строим график зависимости среднего времени работы в месяц сотрудников от количества проектов у сотрудника\n",
    "# убеждаемся в логической закономерности - чем больше проектов, тем больше среднее время работы в месяц. \n",
    "#зависимость линейная.\n",
    "y=df3\n",
    "x=df3.index\n",
    "plt.bar(x,y)"
   ]
  },
  {
   "cell_type": "code",
   "execution_count": 28,
   "metadata": {},
   "outputs": [
    {
     "name": "stdout",
     "output_type": "stream",
     "text": [
      "Коэффициент корреляции Пирсона: 0.4172106344017771\n"
     ]
    },
    {
     "data": {
      "image/png": "[encoded data removed]",
      "text/plain": [
       "<Figure size 432x288 with 1 Axes>"
      ]
     },
     "metadata": {
      "needs_background": "light"
     },
     "output_type": "display_data"
    }
   ],
   "source": [
    "from scipy.stats import pearsonr\n",
    "x=df['average_montly_hours']\n",
    "y=df['number_project']\n",
    "corr, p_value = pearsonr(df['average_montly_hours'], df['number_project'])\n",
    "plt.scatter(x, y, marker='.')\n",
    "print('Коэффициент корреляции Пирсона:', corr)\n",
    "#знак коэффициента корреляции Пирсона (положительный) говорит о том что есть положительная зависимость \n",
    "#(прямая корреляция)значений - при росте значения числа проектов у сотрудника растет среднее время в месяц "
   ]
  },
  {
   "cell_type": "markdown",
   "metadata": {},
   "source": [
    "5.С использованием t-test статистики проверить взаимосвязи между несколькими переменными."
   ]
  },
  {
   "cell_type": "markdown",
   "metadata": {},
   "source": [
    "сравним последние оценки компанией (last_evaluation) у уволенных и работающих сотрудников"
   ]
  },
  {
   "cell_type": "code",
   "execution_count": 50,
   "metadata": {},
   "outputs": [
    {
     "name": "stdout",
     "output_type": "stream",
     "text": [
      "Ttest_indResult(statistic=-0.8042416167796329, pvalue=0.4212701963735056)\n"
     ]
    }
   ],
   "source": [
    "left_0 = df[df['left']==0]['last_evaluation']\n",
    "\n",
    "left_1 = df[df['left']==1]['last_evaluation']\n",
    "\n",
    "print(stats.ttest_ind(left_0, left_1))"
   ]
  },
  {
   "cell_type": "markdown",
   "metadata": {},
   "source": [
    "вывод: pvalue=0.421>0.05 и показывает отсутствие статистического различия между уволенными и работающими сотрудниками из-за (по параметру) оценок выставляемых компанией сотруднику. Оценка не характеризует причину увольнения сотрудника."
   ]
  },
  {
   "cell_type": "code",
   "execution_count": 51,
   "metadata": {},
   "outputs": [
    {
     "data": {
      "image/png": "[encoded data removed]",
      "text/plain": [
       "<Figure size 432x288 with 1 Axes>"
      ]
     },
     "metadata": {
      "needs_background": "light"
     },
     "output_type": "display_data"
    }
   ],
   "source": [
    "sns.distplot(left_0, 50)\n",
    "sns.distplot(left_1, 50)\n",
    "plt.title('Плотность вероятности распределения last_evaluation')\n",
    "plt.legend(['работают', 'уволен'])\n",
    "plt.show()"
   ]
  },
  {
   "cell_type": "markdown",
   "metadata": {},
   "source": [
    "на основании графика можно выдвинуть предположение, что сотрудники с низкими оценками\n",
    "были уволены или уволнялись сами по причине сложности работы, а сотрудники с высокими оценками уволнялись сами \n",
    "(в поисках роста) низкая текучисть кадров у сотрудников со  средними оценками "
   ]
  },
  {
   "cell_type": "markdown",
   "metadata": {},
   "source": [
    "Проверим гипотезу что уровень заработной платы не влияет на увольнения сотрудников. \n",
    "Посмотрим уровень заработной платы у уволившихся и работающих сотрудников"
   ]
  },
  {
   "cell_type": "code",
   "execution_count": 52,
   "metadata": {},
   "outputs": [
    {
     "name": "stdout",
     "output_type": "stream",
     "text": [
      "Ttest_indResult(statistic=19.58216626170969, pvalue=2.475238171818194e-84)\n"
     ]
    }
   ],
   "source": [
    "salary_0 = df[df['left']==0]['new_salary']\n",
    "\n",
    "salary_1 = df[df['left']==1]['new_salary']\n",
    "\n",
    "print(stats.ttest_ind(salary_0, salary_1))"
   ]
  },
  {
   "cell_type": "code",
   "execution_count": 53,
   "metadata": {},
   "outputs": [
    {
     "data": {
      "image/png": "[encoded data removed]",
      "text/plain": [
       "<Figure size 432x288 with 1 Axes>"
      ]
     },
     "metadata": {
      "needs_background": "light"
     },
     "output_type": "display_data"
    }
   ],
   "source": [
    "sns.distplot(salary_0, 50)\n",
    "sns.distplot(salary_1, 50)\n",
    "plt.title('Плотность вероятности распределения new_salary')\n",
    "plt.legend(['работают', 'уволен'])\n",
    "plt.show()\n",
    "\n",
    "# Вывод: pvalue<0.05 и показывает статистическую значимость между уволенениями и заработной платой.\n",
    "# увольняются чаще и больше сотрудники с низкой заработной платой. нулевую гипотезу отвергаем"
   ]
  },
  {
   "cell_type": "code",
   "execution_count": 61,
   "metadata": {},
   "outputs": [
    {
     "data": {
      "text/plain": [
       "(array([0, 1, 2, 3, 4, 5, 6, 7, 8, 9]), <a list of 10 Text xticklabel objects>)"
      ]
     },
     "execution_count": 61,
     "metadata": {},
     "output_type": "execute_result"
    },
    {
     "data": {
      "image/png": "[encoded data removed]",
      "text/plain": [
       "<Figure size 432x288 with 1 Axes>"
      ]
     },
     "metadata": {
      "needs_background": "light"
     },
     "output_type": "display_data"
    }
   ],
   "source": [
    "ax = sns.violinplot(x=\"sales\", y=\"satisfaction_level\", hue=\"left\",\n",
    "                   data=df, palette=\"muted\", split=True)\n",
    "plt.xticks(rotation=45)"
   ]
  },
  {
   "cell_type": "code",
   "execution_count": 76,
   "metadata": {},
   "outputs": [
    {
     "name": "stdout",
     "output_type": "stream",
     "text": [
      "Ttest_indResult(statistic=-17.924210234916142, pvalue=4.207680457692835e-71)\n"
     ]
    }
   ],
   "source": [
    "# Влияние на увольнение времени работы в компании\n",
    "left_0_time = df[df['left']==0]['time_spend_company']\n",
    "\n",
    "left_1_time = df[df['left']==1]['time_spend_company']\n",
    "\n",
    "print(stats.ttest_ind(left_0_time, left_1_time))"
   ]
  },
  {
   "cell_type": "markdown",
   "metadata": {},
   "source": [
    "Вывод: чем дольше сотрудник работает в компании, тем меньше увольнений, зависимость увольнений от стажа работы имеется\n",
    "pvalue<0.05"
   ]
  },
  {
   "cell_type": "code",
   "execution_count": 77,
   "metadata": {},
   "outputs": [
    {
     "data": {
      "image/png": "[encoded data removed]",
      "text/plain": [
       "<Figure size 432x288 with 1 Axes>"
      ]
     },
     "metadata": {
      "needs_background": "light"
     },
     "output_type": "display_data"
    }
   ],
   "source": [
    "sns.distplot(left_0_time, 50)\n",
    "sns.distplot(left_1_time, 50)\n",
    "plt.title('Плотность вероятности распределения time_spend_company')\n",
    "plt.legend(['работают', 'уволен'])\n",
    "plt.show()"
   ]
  },
  {
   "cell_type": "code",
   "execution_count": 79,
   "metadata": {},
   "outputs": [
    {
     "name": "stdout",
     "output_type": "stream",
     "text": [
      "Ttest_indResult(statistic=51.61280155890104, pvalue=0.0)\n"
     ]
    }
   ],
   "source": [
    "# влияние на увольнение уроня удовлетворенности\n",
    "\n",
    "left_0_stlevel = df[df['left']==0]['satisfaction_level']\n",
    "\n",
    "left_1_stlevel = df[df['left']==1]['satisfaction_level']\n",
    "\n",
    "print(stats.ttest_ind(left_0_stlevel, left_1_stlevel))"
   ]
  },
  {
   "cell_type": "markdown",
   "metadata": {},
   "source": [
    "вывод: чем больше уровень удовлетворенности сотрудника, тем меньше увольнений"
   ]
  },
  {
   "cell_type": "code",
   "execution_count": 80,
   "metadata": {},
   "outputs": [
    {
     "data": {
      "image/png": "[encoded data removed]",
      "text/plain": [
       "<Figure size 432x288 with 1 Axes>"
      ]
     },
     "metadata": {
      "needs_background": "light"
     },
     "output_type": "display_data"
    }
   ],
   "source": [
    "sns.distplot(left_0_stlevel, 50)\n",
    "sns.distplot(left_1_stlevel, 50)\n",
    "plt.title('Плотность вероятности распределения satisfaction_level')\n",
    "plt.legend(['работают', 'уволен'])\n",
    "plt.show()"
   ]
  },
  {
   "cell_type": "code",
   "execution_count": 30,
   "metadata": {},
   "outputs": [
    {
     "name": "stdout",
     "output_type": "stream",
     "text": [
      "Ttest_indResult(statistic=19.58216626170969, pvalue=2.475238171818194e-84)\n"
     ]
    }
   ],
   "source": [
    "# влияние на увольнение уроня заработной платы\n",
    "# \n",
    "left_0_salary = df[df['left']==0]['new_salary']\n",
    "\n",
    "left_1_salary = df[df['left']==1]['new_salary']\n",
    "\n",
    "print(stats.ttest_ind(left_0_salary, left_1_salary))"
   ]
  },
  {
   "cell_type": "code",
   "execution_count": 57,
   "metadata": {},
   "outputs": [
    {
     "data": {
      "image/png": "[encoded data removed]",
      "text/plain": [
       "<Figure size 432x288 with 1 Axes>"
      ]
     },
     "metadata": {
      "needs_background": "light"
     },
     "output_type": "display_data"
    }
   ],
   "source": [
    "# увольнения в зависимости от уровня заработной платы по отделам\n",
    "ax = sns.violinplot(x=\"sales\", y=\"new_salary\", hue=\"left\",\n",
    "                   data=df, palette=\"muted\", split=True)"
   ]
  },
  {
   "cell_type": "code",
   "execution_count": 32,
   "metadata": {},
   "outputs": [
    {
     "data": {
      "image/png": "[encoded data removed]",
      "text/plain": [
       "<Figure size 432x288 with 1 Axes>"
      ]
     },
     "metadata": {
      "needs_background": "light"
     },
     "output_type": "display_data"
    }
   ],
   "source": [
    "sns.distplot(left_0_salary, 50)\n",
    "sns.distplot(left_1_salary, 50)\n",
    "plt.title('Плотность вероятности распределения заработной платы')\n",
    "plt.legend(['работают', 'уволен'])\n",
    "plt.show()"
   ]
  },
  {
   "cell_type": "markdown",
   "metadata": {},
   "source": [
    "вывод: чем выше заработная плата, тем меньше увольнений, больше всего увольняются работники с низкой оплатой труда\n",
    "(распределение сотрудников по уровню оплаты:\n",
    "                                           низкая - 7316 сотрудников\n",
    "                                           средняя - 6446 сотрудников\n",
    "                                           высокая - 1237 сотрудников)"
   ]
  },
  {
   "cell_type": "code",
   "execution_count": 58,
   "metadata": {},
   "outputs": [
    {
     "data": {
      "image/png": "[encoded data removed]",
      "text/plain": [
       "<Figure size 432x288 with 1 Axes>"
      ]
     },
     "metadata": {
      "needs_background": "light"
     },
     "output_type": "display_data"
    }
   ],
   "source": [
    "# увольнения в зависимости от количества проектов и уровня заработной платы\n",
    "ax = sns.violinplot(x=\"number_project\", y=\"new_salary\", hue=\"left\",\n",
    "                   data=df, palette=\"muted\", split=True)\n",
    "\n",
    "# Вывод: зависимости увольнений от количества проектов нет"
   ]
  },
  {
   "cell_type": "markdown",
   "metadata": {},
   "source": [
    "6.Рассчитать сколько работников работает в каждом департаменте.\n"
   ]
  },
  {
   "cell_type": "code",
   "execution_count": 44,
   "metadata": {},
   "outputs": [
    {
     "data": {
      "text/plain": [
       "sales          4140\n",
       "technical      2720\n",
       "support        2229\n",
       "IT             1227\n",
       "product_mng     902\n",
       "marketing       858\n",
       "RandD           787\n",
       "accounting      767\n",
       "hr              739\n",
       "management      630\n",
       "Name: sales, dtype: int64"
      ]
     },
     "execution_count": 44,
     "metadata": {},
     "output_type": "execute_result"
    }
   ],
   "source": [
    "df['sales'].value_counts().head(10)"
   ]
  },
  {
   "cell_type": "markdown",
   "metadata": {},
   "source": [
    "Посмотрим количество увольнений по отделам (департаментам), %"
   ]
  },
  {
   "cell_type": "code",
   "execution_count": 46,
   "metadata": {},
   "outputs": [
    {
     "data": {
      "text/plain": [
       "IT             22.249389\n",
       "RandD          15.374841\n",
       "accounting     26.597132\n",
       "hr             29.093369\n",
       "management     14.444444\n",
       "marketing      23.659674\n",
       "product_mng    21.951220\n",
       "sales          24.492754\n",
       "support        24.899058\n",
       "technical      25.625000\n",
       "Name: sales, dtype: float64"
      ]
     },
     "execution_count": 46,
     "metadata": {},
     "output_type": "execute_result"
    }
   ],
   "source": [
    "sales_left=((df[df['left']==1]['sales'].value_counts())/(df['sales'].value_counts()))*100\n",
    "sales_left\n"
   ]
  },
  {
   "cell_type": "markdown",
   "metadata": {},
   "source": [
    "Вывод: гипотеза о увольнении по причине \"неадекватного\" руководителя/лей отделов не подтверждается\n",
    "количество уволевшихся приблизительно равномерное по всем отделам"
   ]
  },
  {
   "cell_type": "markdown",
   "metadata": {},
   "source": [
    "7.Показать распределение сотрудников по зарплатам."
   ]
  },
  {
   "cell_type": "code",
   "execution_count": 92,
   "metadata": {},
   "outputs": [
    {
     "data": {
      "text/plain": [
       "array(['low', 'medium', 'high'], dtype=object)"
      ]
     },
     "execution_count": 92,
     "metadata": {},
     "output_type": "execute_result"
    }
   ],
   "source": [
    "df['salary'].unique()"
   ]
  },
  {
   "cell_type": "code",
   "execution_count": 95,
   "metadata": {},
   "outputs": [
    {
     "data": {
      "text/plain": [
       "low       7316\n",
       "medium    6446\n",
       "high      1237\n",
       "Name: salary, dtype: int64"
      ]
     },
     "execution_count": 95,
     "metadata": {},
     "output_type": "execute_result"
    }
   ],
   "source": [
    "df['salary'].value_counts()"
   ]
  },
  {
   "cell_type": "markdown",
   "metadata": {},
   "source": [
    "8.Показать распределение сотрудников по зарплатам совместно с департаментами."
   ]
  },
  {
   "cell_type": "code",
   "execution_count": 60,
   "metadata": {},
   "outputs": [
    {
     "data": {
      "text/plain": [
       "sales        salary\n",
       "IT           high        83\n",
       "             low        609\n",
       "             medium     535\n",
       "RandD        high        51\n",
       "             low        364\n",
       "             medium     372\n",
       "accounting   high        74\n",
       "             low        358\n",
       "             medium     335\n",
       "hr           high        45\n",
       "             low        335\n",
       "             medium     359\n",
       "management   high       225\n",
       "             low        180\n",
       "             medium     225\n",
       "marketing    high        80\n",
       "             low        402\n",
       "             medium     376\n",
       "product_mng  high        68\n",
       "             low        451\n",
       "             medium     383\n",
       "sales        high       269\n",
       "             low       2099\n",
       "             medium    1772\n",
       "support      high       141\n",
       "             low       1146\n",
       "             medium     942\n",
       "technical    high       201\n",
       "             low       1372\n",
       "             medium    1147\n",
       "Name: left, dtype: int64"
      ]
     },
     "execution_count": 60,
     "metadata": {},
     "output_type": "execute_result"
    }
   ],
   "source": [
    "df.groupby(['sales','salary']).count()['left'].head(100)"
   ]
  },
  {
   "cell_type": "markdown",
   "metadata": {},
   "source": [
    "9.Сколько сотрудников покинули компанию.\n"
   ]
  },
  {
   "cell_type": "code",
   "execution_count": 111,
   "metadata": {},
   "outputs": [
    {
     "data": {
      "text/plain": [
       "satisfaction_level       3571\n",
       "last_evaluation          3571\n",
       "number_project           3571\n",
       "average_montly_hours     3571\n",
       "time_spend_company       3571\n",
       "Work_accident            3571\n",
       "left                     3571\n",
       "promotion_last_5years    3571\n",
       "sales                    3571\n",
       "salary                   3571\n",
       "salary_new               3571\n",
       "dtype: int64"
      ]
     },
     "execution_count": 111,
     "metadata": {},
     "output_type": "execute_result"
    }
   ],
   "source": [
    "df[df['left']==1].count()"
   ]
  },
  {
   "cell_type": "code",
   "execution_count": 67,
   "metadata": {},
   "outputs": [
    {
     "data": {
      "text/html": [
       "<div>\n",
       "<style scoped>\n",
       "    .dataframe tbody tr th:only-of-type {\n",
       "        vertical-align: middle;\n",
       "    }\n",
       "\n",
       "    .dataframe tbody tr th {\n",
       "        vertical-align: top;\n",
       "    }\n",
       "\n",
       "    .dataframe thead th {\n",
       "        text-align: right;\n",
       "    }\n",
       "</style>\n",
       "<table border=\"1\" class=\"dataframe\">\n",
       "  <thead>\n",
       "    <tr style=\"text-align: right;\">\n",
       "      <th></th>\n",
       "      <th></th>\n",
       "      <th></th>\n",
       "      <th>satisfaction_level</th>\n",
       "      <th>last_evaluation</th>\n",
       "      <th>number_project</th>\n",
       "      <th>average_montly_hours</th>\n",
       "      <th>time_spend_company</th>\n",
       "      <th>Work_accident</th>\n",
       "      <th>promotion_last_5years</th>\n",
       "      <th>new_salary</th>\n",
       "    </tr>\n",
       "    <tr>\n",
       "      <th>sales</th>\n",
       "      <th>salary</th>\n",
       "      <th>left</th>\n",
       "      <th></th>\n",
       "      <th></th>\n",
       "      <th></th>\n",
       "      <th></th>\n",
       "      <th></th>\n",
       "      <th></th>\n",
       "      <th></th>\n",
       "      <th></th>\n",
       "    </tr>\n",
       "  </thead>\n",
       "  <tbody>\n",
       "    <tr>\n",
       "      <th rowspan=\"5\" valign=\"top\">IT</th>\n",
       "      <th rowspan=\"2\" valign=\"top\">high</th>\n",
       "      <th>0</th>\n",
       "      <td>79</td>\n",
       "      <td>79</td>\n",
       "      <td>79</td>\n",
       "      <td>79</td>\n",
       "      <td>79</td>\n",
       "      <td>79</td>\n",
       "      <td>79</td>\n",
       "      <td>79</td>\n",
       "    </tr>\n",
       "    <tr>\n",
       "      <th>1</th>\n",
       "      <td>4</td>\n",
       "      <td>4</td>\n",
       "      <td>4</td>\n",
       "      <td>4</td>\n",
       "      <td>4</td>\n",
       "      <td>4</td>\n",
       "      <td>4</td>\n",
       "      <td>4</td>\n",
       "    </tr>\n",
       "    <tr>\n",
       "      <th rowspan=\"2\" valign=\"top\">low</th>\n",
       "      <th>0</th>\n",
       "      <td>437</td>\n",
       "      <td>437</td>\n",
       "      <td>437</td>\n",
       "      <td>437</td>\n",
       "      <td>437</td>\n",
       "      <td>437</td>\n",
       "      <td>437</td>\n",
       "      <td>437</td>\n",
       "    </tr>\n",
       "    <tr>\n",
       "      <th>1</th>\n",
       "      <td>172</td>\n",
       "      <td>172</td>\n",
       "      <td>172</td>\n",
       "      <td>172</td>\n",
       "      <td>172</td>\n",
       "      <td>172</td>\n",
       "      <td>172</td>\n",
       "      <td>172</td>\n",
       "    </tr>\n",
       "    <tr>\n",
       "      <th>medium</th>\n",
       "      <th>0</th>\n",
       "      <td>438</td>\n",
       "      <td>438</td>\n",
       "      <td>438</td>\n",
       "      <td>438</td>\n",
       "      <td>438</td>\n",
       "      <td>438</td>\n",
       "      <td>438</td>\n",
       "      <td>438</td>\n",
       "    </tr>\n",
       "  </tbody>\n",
       "</table>\n",
       "</div>"
      ],
      "text/plain": [
       "                   satisfaction_level  last_evaluation  number_project  \\\n",
       "sales salary left                                                        \n",
       "IT    high   0                     79               79              79   \n",
       "             1                      4                4               4   \n",
       "      low    0                    437              437             437   \n",
       "             1                    172              172             172   \n",
       "      medium 0                    438              438             438   \n",
       "\n",
       "                   average_montly_hours  time_spend_company  Work_accident  \\\n",
       "sales salary left                                                            \n",
       "IT    high   0                       79                  79             79   \n",
       "             1                        4                   4              4   \n",
       "      low    0                      437                 437            437   \n",
       "             1                      172                 172            172   \n",
       "      medium 0                      438                 438            438   \n",
       "\n",
       "                   promotion_last_5years  new_salary  \n",
       "sales salary left                                     \n",
       "IT    high   0                        79          79  \n",
       "             1                         4           4  \n",
       "      low    0                       437         437  \n",
       "             1                       172         172  \n",
       "      medium 0                       438         438  "
      ]
     },
     "execution_count": 67,
     "metadata": {},
     "output_type": "execute_result"
    }
   ],
   "source": [
    "# количество уволившихся сотрудников по отделам  и по уровню заработной платы\n",
    "df.groupby(['sales','salary','left']).count().head()"
   ]
  },
  {
   "cell_type": "markdown",
   "metadata": {},
   "source": [
    "10.Проверить несколько гипотез для данных, чтобы понять почему сотрудники покидают компанию."
   ]
  },
  {
   "cell_type": "markdown",
   "metadata": {},
   "source": [
    "1. H0 - чем меньше уровень удовлетворенности, тем больше увольнений\n",
    "2. Н0 - уровень заработной платы не зависит от количества выполняемых проектов - увольнений больше\n",
    "3. чем больше заработная плата , тем меньше увольнений\n",
    "4. наличие повышений за последние 5 лет не влияет на увольнение\n",
    "5. Я думаю, что здесь нужно подойти статистически к решению вопроса.\n",
    "Допустим, можно разделить всех сотрудников на 3 группы (или две, или больше чем 3), взять их отделы и посмотреть, представители какого отдела чаще встречаются в каждой из групп.\n",
    "Или можно взять разделённые на группы сотрудников и посмотреть на средний стаж в каждой из групп\n",
    "Или на кол-во проектов среднее в каждой группе\n",
    "И так далее в таком же духе\n",
    "\n",
    "Во-первых, необходимо убедиться, что данные распределены нормально в наших случайных выборках, во-вторых, нужно убедиться, что дисперсии двух выборок(если мы проверяем две не взаимосвязанные переменные) одинаковы или отличаются минимально и только после этого мы можем провести t-test"
   ]
  },
  {
   "cell_type": "markdown",
   "metadata": {},
   "source": [
    "H0 - наличие повышений за последние 5 лет не влияет на увольнение"
   ]
  },
  {
   "cell_type": "markdown",
   "metadata": {},
   "source": [
    "Выводы:\n",
    "1. Исследования выявили зависимости между уволнением, заработной платой, последними оценками, уровня удовлетворенности и стажа работы в компании. Основной причиной увольнений является низкая заработная плата. Чем выше уровень удовлетворенности и стаж работы, тем меньше увольнений\n",
    "\n",
    "2. Исследования оценок показали что сотрудники с низкими оценками были уволены или уволнялись сами по причине сложности работы, а сотрудники с высокими оценками уволнялись сами (в поисках роста) низкая текучисть кадров у сотрудников со  средними оценками \n",
    "\n",
    "3. Проверена гипотеза причины увольнений из-за \"неадекватного руководителя\" отдела. Все увольнения не связаны с данной гипотезой. Неоднородностей (выбросов) в разрезе отделов по уволившимся сотрудникам не выявлено. Процент увольнений по отделам примерно одинаковый\n",
    "\n",
    "4. установлено, что количество проектов на сотрудника не является причиной увольнений\n",
    "\n",
    "Рекомендации:\n",
    "1. Пересмотреть систему не материальной мотивации с точки зрения повышения уровня удовлетворенности сотрудников работой в Компании\n",
    "\n",
    "2. Разработать программу повышения квалификации, наставничества для сотрудников с низкими последними оценками с целью смещения большего количества сотрудников в область средних оценок.\n",
    "\n",
    "3. Разработать мероприятия по карьерному росту сотрудников с высокими оценками\n",
    "\n",
    "4. Пересмотреть систему примирования сотрудников, предоставив им возможность повышать свой уровень заработной платы за счет новых компетенций, лучших оценок"
   ]
  }
 ],
 "metadata": {
  "kernelspec": {
   "display_name": "Python 3",
   "language": "python",
   "name": "python3"
  },
  "language_info": {
   "codemirror_mode": {
    "name": "ipython",
    "version": 3
   },
   "file_extension": ".py",
   "mimetype": "text/x-python",
   "name": "python",
   "nbconvert_exporter": "python",
   "pygments_lexer": "ipython3",
   "version": "3.7.6"
  }
 },
 "nbformat": 4,
 "nbformat_minor": 4
}
