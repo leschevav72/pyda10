{
 "cells": [
  {
   "cell_type": "markdown",
   "metadata": {},
   "source": [
    "**Задание 1**. Дан список с визитами по городам и странам. \n",
    "Напишите код, который возвращает отфильтрованный список geo_logs, содержащий только визиты из России."
   ]
  },
  {
   "cell_type": "code",
   "execution_count": 25,
   "metadata": {},
   "outputs": [],
   "source": [
    "geo_logs = [\n",
    "    {'visit1': ['Москва', 'Россия']},\n",
    "    {'visit2': ['Дели', 'Индия']},\n",
    "    {'visit3': ['Владимир', 'Россия']},\n",
    "    {'visit4': ['Лиссабон', 'Португалия']},\n",
    "    {'visit5': ['Париж', 'Франция']},\n",
    "    {'visit6': ['Лиссабон', 'Португалия']},\n",
    "    {'visit7': ['Тула', 'Россия']},\n",
    "    {'visit8': ['Тула', 'Россия']},\n",
    "    {'visit9': ['Курск', 'Россия']},\n",
    "    {'visit10': ['Архангельск', 'Россия']}\n",
    "]"
   ]
  },
  {
   "cell_type": "code",
   "execution_count": 28,
   "metadata": {},
   "outputs": [
    {
     "name": "stdout",
     "output_type": "stream",
     "text": [
      "{'visit1': ['Москва', 'Россия']}\n",
      "{'visit3': ['Владимир', 'Россия']}\n",
      "{'visit7': ['Тула', 'Россия']}\n",
      "{'visit8': ['Тула', 'Россия']}\n",
      "{'visit9': ['Курск', 'Россия']}\n",
      "{'visit10': ['Архангельск', 'Россия']}\n"
     ]
    }
   ],
   "source": [
    "#исправленный вариант\n",
    "for russia in geo_logs:\n",
    "    for rus in russia.values():\n",
    "        if 'Россия' in rus:\n",
    "            print(russia)"
   ]
  },
  {
   "cell_type": "code",
   "execution_count": 87,
   "metadata": {},
   "outputs": [
    {
     "name": "stdout",
     "output_type": "stream",
     "text": [
      "{'visit1': ['Москва', 'Россия']}\n",
      "{'visit3': ['Владимир', 'Россия']}\n",
      "{'visit7': ['Тула', 'Россия']}\n",
      "{'visit8': ['Тула', 'Россия']}\n",
      "{'visit9': ['Курск', 'Россия']}\n",
      "{'visit10': ['Архангельск', 'Россия']}\n"
     ]
    }
   ],
   "source": [
    "for russia in geo_logs:\n",
    "    for key, russia_filtr in russia.items():\n",
    "        for russia_filtr_r in russia_filtr:\n",
    "            if 'Россия' in russia_filtr_r:\n",
    "                print(russia)\n",
    "            "
   ]
  },
  {
   "cell_type": "markdown",
   "metadata": {},
   "source": [
    "**Задание 2**. Выведите на экран все уникальные гео-ID из значений словаря ids. Т. е. список вида [213, 15, 54, 119, 98, 35]"
   ]
  },
  {
   "cell_type": "code",
   "execution_count": 88,
   "metadata": {},
   "outputs": [],
   "source": [
    "ids = {'user1': [213, 213, 213, 15, 213], \n",
    "       'user2': [54, 54, 119, 119, 119], \n",
    "       'user3': [213, 98, 98, 35]}"
   ]
  },
  {
   "cell_type": "code",
   "execution_count": 101,
   "metadata": {},
   "outputs": [
    {
     "name": "stdout",
     "output_type": "stream",
     "text": [
      "{98, 35, 15, 213, 54, 119}\n"
     ]
    }
   ],
   "source": [
    "geoid_unic=[]\n",
    "for id_ids in ids.values():\n",
    "    geoid_unic+=id_ids\n",
    "print(set(geoid_unic))\n",
    "    "
   ]
  },
  {
   "cell_type": "markdown",
   "metadata": {},
   "source": [
    "**Задание 3**. Дан список поисковых запросов. Получить распределение количества слов в них. \n",
    "Т. е. поисковых запросов из одного - слова 5%, из двух - 7%, из трех - 3% и т.д."
   ]
  },
  {
   "cell_type": "code",
   "execution_count": 29,
   "metadata": {},
   "outputs": [],
   "source": [
    "queries = [\n",
    "    'смотреть сериалы онлайн',\n",
    "    'новости спорта',\n",
    "    'афиша кино',\n",
    "    'курс доллара',\n",
    "    'сериалы этим летом',\n",
    "    'курс по питону',\n",
    "    'сериалы про спорт',\n",
    "]"
   ]
  },
  {
   "cell_type": "code",
   "execution_count": 40,
   "metadata": {},
   "outputs": [
    {
     "name": "stdout",
     "output_type": "stream",
     "text": [
      "введите количество слов в запросе: 15\n",
      "Поисковых запросов из 15 слов: 0.0, %\n"
     ]
    }
   ],
   "source": [
    "#ИСПРАВЛЕННЫЙ ВАРИАНТ\n",
    "count_queries=len(queries)\n",
    "n=int(input('введите количество слов в запросе: '))\n",
    "word_res=0\n",
    "for el in queries:\n",
    "    if el.count(' ')==(n-1):\n",
    "        word_res+=1\n",
    "print(f\"Поисковых запросов из {n} слов: {round((word_res/7)*100,2)}, %\")"
   ]
  },
  {
   "cell_type": "code",
   "execution_count": 151,
   "metadata": {},
   "outputs": [
    {
     "name": "stdout",
     "output_type": "stream",
     "text": [
      "Поисковых запросов из одного слова: 0.0 %\n",
      "                           из двух: 42.86 %\n",
      "                           из трех: 57.14 %\n"
     ]
    }
   ],
   "source": [
    "count_queries=len(queries)\n",
    "word_3=0\n",
    "word_2=0\n",
    "word_1=0\n",
    "for el in queries:\n",
    "    if el.count(' ')==2:\n",
    "        word_1+=1\n",
    "    elif el.count(' ')==1:\n",
    "        word_2+=1\n",
    "    elif el.count(' ')==0:\n",
    "        word_3+=1\n",
    "print('Поисковых запросов из одного слова:',round((word_3/7)*100,2), '%')\n",
    "print('                           из двух:',round((word_2/7)*100,2), '%')\n",
    "print('                           из трех:',round((word_1/7)*100,2), '%')\n",
    "        "
   ]
  },
  {
   "cell_type": "markdown",
   "metadata": {},
   "source": [
    "**Задание 4**. Дана статистика рекламных каналов по объемам продаж. Напишите скрипт, который возвращает название канала с максимальным объемом.\n",
    "Т. е. в данном примере скрипт должен возвращать 'yandex'."
   ]
  },
  {
   "cell_type": "code",
   "execution_count": 56,
   "metadata": {},
   "outputs": [],
   "source": [
    "stats = {'facebook': 55, 'yandex': 120, 'vk': 115, 'google': 99, 'email': 42, 'ok': 98}"
   ]
  },
  {
   "cell_type": "code",
   "execution_count": 71,
   "metadata": {},
   "outputs": [
    {
     "data": {
      "text/plain": [
       "{'yandex'}"
      ]
     },
     "execution_count": 71,
     "metadata": {},
     "output_type": "execute_result"
    }
   ],
   "source": [
    "#ИСПРАВЛЕННЫЙ \n",
    "{key for key, values in stats.items() if stats[key]==max(list(stats.values()))}"
   ]
  },
  {
   "cell_type": "code",
   "execution_count": 66,
   "metadata": {},
   "outputs": [
    {
     "name": "stdout",
     "output_type": "stream",
     "text": [
      "yandex\n"
     ]
    }
   ],
   "source": [
    "#ИСПРАВЛЕННЫЙ\n",
    "for key, values in stats.items():\n",
    "    if stats[key]==max(list(stats.values())):\n",
    "        print(key)\n"
   ]
  },
  {
   "cell_type": "code",
   "execution_count": 53,
   "metadata": {},
   "outputs": [
    {
     "name": "stdout",
     "output_type": "stream",
     "text": [
      "[55, 120, 115, 99, 42, 98]\n",
      "yandex\n"
     ]
    }
   ],
   "source": [
    "s=list(stats.values())\n",
    "print(s)\n",
    "s_max=max(s)\n",
    "for key, values in stats.items():\n",
    "    if values==s_max:\n",
    "        print(key)\n"
   ]
  },
  {
   "cell_type": "markdown",
   "metadata": {},
   "source": [
    "**Задание 5**. Напишите код для преобразования произвольного списка вида ['2018-01-01', 'yandex', 'cpc', 100] (он может быть любой длины) в словарь {'2018-01-01': {'yandex': {'cpc': 100}}}"
   ]
  },
  {
   "cell_type": "code",
   "execution_count": 50,
   "metadata": {},
   "outputs": [
    {
     "name": "stdout",
     "output_type": "stream",
     "text": [
      "{'2018-01-01': {'yandex': {'cpc': {'cpc': 100}}}}\n"
     ]
    }
   ],
   "source": [
    "#ИСПРАВЛЕННЫЙ ВАРИАНТ\n",
    "b=['2018-01-01', 'yandex', 'cpc', 100]\n",
    "dicts={}\n",
    "dicts[b[-2]]=b[-1]\n",
    "for i in b[-2::-1]:\n",
    "    dicts={i:dicts}\n",
    "print(dicts)"
   ]
  },
  {
   "cell_type": "code",
   "execution_count": 45,
   "metadata": {},
   "outputs": [
    {
     "name": "stdout",
     "output_type": "stream",
     "text": [
      "{'cpc': 100}\n",
      "{'2018-01-01': {'yandex': {'cpc': {'cpc': 100}}}}\n"
     ]
    }
   ],
   "source": [
    "b=['2018-01-01', 'yandex', 'cpc', 100]\n",
    "b1=b[-2::-1]\n",
    "a1={}\n",
    "a2={}\n",
    "a3={}\n",
    "a={}\n",
    "t={}\n",
    "a1[b[-2]]=b[-1]\n",
    "a2[b[-3]]=a1\n",
    "a3[b[-4]]=a2\n",
    "print(a1)\n",
    "for i in b1:\n",
    "    a1={i:a1}\n",
    "    #a1.update(a)\n",
    "print(a1)"
   ]
  }
 ],
 "metadata": {
  "kernelspec": {
   "display_name": "Python 3",
   "language": "python",
   "name": "python3"
  },
  "language_info": {
   "codemirror_mode": {
    "name": "ipython",
    "version": 3
   },
   "file_extension": ".py",
   "mimetype": "text/x-python",
   "name": "python",
   "nbconvert_exporter": "python",
   "pygments_lexer": "ipython3",
   "version": "3.7.6"
  }
 },
 "nbformat": 4,
 "nbformat_minor": 2
}
