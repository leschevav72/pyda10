{
 "cells": [
  {
   "cell_type": "markdown",
   "metadata": {},
   "source": [
    "Вы работаете секретарем и вам постоянно приходят различные документы. Вы должны быть очень внимательны, чтобы не потерять ни один документ. Каталог документов хранится в следующем виде:"
   ]
  },
  {
   "cell_type": "code",
   "execution_count": 583,
   "metadata": {},
   "outputs": [],
   "source": [
    "documents = [\n",
    "    {'type': 'passport', 'number': '2207 876234', 'name': 'Василий Гупкин'},\n",
    "    {'type': 'invoice', 'number': '11-2', 'name': 'Геннадий Покемонов'},\n",
    "    {'type': 'insurance', 'number': '10006', 'name': 'Аристарх Павлов'}\n",
    "]"
   ]
  },
  {
   "cell_type": "markdown",
   "metadata": {},
   "source": [
    "Перечень полок, на которых находятся документы хранится в следующем виде:"
   ]
  },
  {
   "cell_type": "code",
   "execution_count": 584,
   "metadata": {},
   "outputs": [],
   "source": [
    "directories = {\n",
    "    '1': ['2207 876234', '11-2'],\n",
    "    '2': ['10006'],\n",
    "    '3': []\n",
    "}\n"
   ]
  },
  {
   "cell_type": "code",
   "execution_count": 585,
   "metadata": {},
   "outputs": [
    {
     "name": "stdout",
     "output_type": "stream",
     "text": [
      "введите номер документа:11-2\n",
      "Геннадий Покемонов\n"
     ]
    }
   ],
   "source": [
    "def name_doc():\n",
    "    p=input('введите номер документа:')\n",
    "    for doc in documents:\n",
    "        if doc['number']==p:\n",
    "            print(doc['name'])\n",
    "            return\n",
    "    else:\n",
    "        print('не правильный номер документа')\n",
    "name_doc()    "
   ]
  },
  {
   "cell_type": "code",
   "execution_count": 586,
   "metadata": {},
   "outputs": [
    {
     "name": "stdout",
     "output_type": "stream",
     "text": [
      "введите номер документа:10006\n",
      "2\n"
     ]
    }
   ],
   "source": [
    "def shelf_doc():\n",
    "    s=input('введите номер документа:')\n",
    "    for key, direct in directories.items():\n",
    "        for doc1 in direct:\n",
    "            if doc1==s:\n",
    "                print(key)\n",
    "                return\n",
    "    else:\n",
    "            print('не существующий документ')\n",
    "            \n",
    "shelf_doc()    "
   ]
  },
  {
   "cell_type": "code",
   "execution_count": 587,
   "metadata": {},
   "outputs": [
    {
     "name": "stdout",
     "output_type": "stream",
     "text": [
      "**passport \"2207 876234\"\"Василий Гупкин\"**\n",
      "**invoice \"11-2\"\"Геннадий Покемонов\"**\n",
      "**insurance \"10006\"\"Аристарх Павлов\"**\n"
     ]
    }
   ],
   "source": [
    "def list():\n",
    "    for doc in documents:\n",
    "        print(f'**{doc[\"type\"]} \"{doc[\"number\"]}\"\"{doc[\"name\"]}\"**')\n",
    "    return\n",
    "list() "
   ]
  },
  {
   "cell_type": "code",
   "execution_count": 588,
   "metadata": {},
   "outputs": [
    {
     "name": "stdout",
     "output_type": "stream",
     "text": [
      "введите номер новой полки: 11\n",
      "{'1': ['2207 876234', '11-2'], '2': ['10006'], '3': [], '11': []}\n"
     ]
    }
   ],
   "source": [
    "def add_on_shelf():\n",
    "    asa=input('введите номер новой полки: ')\n",
    "    for d_new, vl in directories.items():\n",
    "        if d_new==asa:\n",
    "            print('полка уже существует')\n",
    "            return\n",
    "    else:\n",
    "        directories[asa]=[]\n",
    "        \n",
    "add_on_shelf()\n",
    "print(directories)"
   ]
  },
  {
   "cell_type": "code",
   "execution_count": 478,
   "metadata": {},
   "outputs": [
    {
     "name": "stdout",
     "output_type": "stream",
     "text": [
      "введите номер документа:fejfjfe\n",
      "не существующий документ\n"
     ]
    }
   ],
   "source": [
    "def delete():\n",
    "    d=input('введите номер документа:')\n",
    "    res1=delete_doc(d)\n",
    "    res2=delete_direct(d)\n",
    "    if not res1:\n",
    "        print('не существующий документ')\n",
    "def delete_direct(d):\n",
    "    for d_del in directories.values():\n",
    "        for i_del in d_del[:]:\n",
    "            if i_del==d:\n",
    "                d_del.remove(d)\n",
    "                return True\n",
    "    return False\n",
    "            \n",
    "def delete_doc(d):\n",
    "    for d_doc in documents:\n",
    "        if 'number' in d_doc.keys():\n",
    "            if d_doc['number']==d:\n",
    "                del(d_doc['number'])\n",
    "                return True\n",
    "    return False\n",
    "delete()  \n",
    "\n"
   ]
  },
  {
   "cell_type": "code",
   "execution_count": 556,
   "metadata": {},
   "outputs": [
    {
     "name": "stdout",
     "output_type": "stream",
     "text": [
      "введите номер документа:11-2\n",
      "введите номер полки3\n",
      "{'1': 'пп', '2': ['10006'], '3': ['11-2']}\n"
     ]
    }
   ],
   "source": [
    "def move():\n",
    "    d=input('введите номер документа:')\n",
    "    shelf=input('введите номер полки')\n",
    "    if doc_exist(d):\n",
    "        move_direct(d,shelf)\n",
    "    else:\n",
    "        print('не существующий документ')\n",
    "        \n",
    "   \n",
    "def move_direct(d,shelf):\n",
    "    if shelf in directories.keys():\n",
    "        for key, direct in directories.items():\n",
    "            for doc1 in direct:\n",
    "                if doc1==d:\n",
    "                    directories[key].remove(d)\n",
    "        directories[shelf].append(d)\n",
    "    else:\n",
    "        print('не существующая полка')\n",
    "            \n",
    "def doc_exist(d):\n",
    "    for d_doc in documents:\n",
    "        if 'number' in d_doc.keys():\n",
    "            if d_doc['number']==d:\n",
    "                return True\n",
    "    return False\n",
    "move() \n",
    "print(directories)"
   ]
  },
  {
   "cell_type": "code",
   "execution_count": 571,
   "metadata": {},
   "outputs": [
    {
     "name": "stdout",
     "output_type": "stream",
     "text": [
      "введите номер документа: 222\n",
      "введите тип документа: dfv\n",
      "введите имя и фамилию владельца: dfv\n",
      "введите номер полки: 1\n",
      "{'1': ['2207 876234', '11-2', '75757', '222'], '2': ['10006'], '3': []}\n",
      "[{'type': 'passport', 'number': '2207 876234', 'name': 'Василий Гупкин'}, {'type': 'invoice', 'number': '11-2', 'name': 'Геннадий Покемонов'}, {'type': 'insurance', 'number': '10006', 'name': 'Аристарх Павлов'}, {'type': 'fgfg', 'number': '75757', 'name': 'gdgdg'}, {'type': 'fvdfv', 'number': '3241', 'name': 'svev'}, {'type': 'dfv', 'number': '222', 'name': 'dfv'}]\n"
     ]
    }
   ],
   "source": [
    "def add_doc():\n",
    "    a_number=input('введите номер документа: ')\n",
    "    a_type=input('введите тип документа: ')\n",
    "    a_name=input('введите имя и фамилию владельца: ')\n",
    "    a_shelf_num=input('введите номер полки: ')\n",
    "    b_dct={}\n",
    "    b_dct['type']=a_type\n",
    "    b_dct['number']=a_number\n",
    "    b_dct['name']=a_name             \n",
    "    documents.append(b_dct)\n",
    "    if a_shelf_num in directories:\n",
    "        directories[a_shelf_num].append(a_number)\n",
    "    else:\n",
    "        print('указанной полки не существует')\n",
    "    return\n",
    "add_doc()\n",
    "print(directories)\n",
    "print(documents)\n",
    "            \n"
   ]
  },
  {
   "cell_type": "code",
   "execution_count": 589,
   "metadata": {},
   "outputs": [
    {
     "name": "stdout",
     "output_type": "stream",
     "text": [
      "Введите командуp\n",
      "введите номер документа:11-2\n",
      "Геннадий Покемонов\n",
      "Введите командуas\n",
      "введите номер новой полки: 11\n",
      "полка уже существует\n",
      "Введите командуa\n",
      "введите номер документа: 10006\n",
      "введите тип документа: passport\n",
      "введите имя и фамилию владельца: ivanov\n",
      "введите номер полки: 3\n"
     ]
    }
   ],
   "source": [
    "def main():\n",
    "    while True:\n",
    "        user_input = input('Введите команду - ')\n",
    "        if user_input == 'p':\n",
    "            name_doc()\n",
    "        elif user_input == 'S':\n",
    "            shelf_doc()\n",
    "        elif user_input == 'l':\n",
    "            list()\n",
    "        elif user_input == 'as':\n",
    "            add_on_shelf()\n",
    "        elif user_input == 'd':\n",
    "            delete()\n",
    "        elif user_input == 'm':\n",
    "            move() \n",
    "        elif user_input == 'a':\n",
    "            add_doc()\n",
    "            break\n",
    "\n",
    "main()\n"
   ]
  },
  {
   "cell_type": "code",
   "execution_count": null,
   "metadata": {},
   "outputs": [],
   "source": []
  },
  {
   "cell_type": "markdown",
   "metadata": {},
   "source": [
    "Необходимо реализовать пользовательские команды (внимание! это не название функций, которые должны быть выразительными, а команды, которые вводит пользователь, чтобы получить необходимый результат):\n",
    "  \n",
    "- p – people – команда, которая спросит номер документа и выведет имя человека, которому он принадлежит;  \n",
    "- s – shelf – команда, которая спросит номер документа и выведет номер полки, на которой он находится  \n",
    "*Правильно обработайте ситуации, когда пользователь будет вводить несуществующий документ*.\n",
    "- l – list – команда, которая выведет список всех документов в формате   \n",
    "**passport \"2207 876234\" \"Василий Гупкин\"**  \n",
    "- as – add shelf – команда, которая спросит номер новой полки и добавит ее в перечень. *Предусмотрите случай, когда пользователь добавляет полку, которая уже существует*.\n",
    "- d – delete – команда, которая спросит номер документа и удалит его из каталога и из перечня полок. *Предусмотрите сценарий, когда пользователь вводит несуществующий документ*;  \n",
    "- m – move – команда, которая спросит номер документа и целевую полку и переместит его с текущей полки на целевую. *Корректно обработайте кейсы, когда пользователь пытается переместить несуществующий документ или переместить документ на несуществующую полку*;  \n",
    "- a – add – команда, которая добавит новый документ в каталог и в перечень полок, спросив его номер, тип, имя владельца и номер полки, на котором он будет храниться. *Корректно обработайте ситуацию, когда пользователь будет пытаться добавить документ на несуществующую полку*."
   ]
  },
  {
   "cell_type": "code",
   "execution_count": null,
   "metadata": {},
   "outputs": [],
   "source": []
  }
 ],
 "metadata": {
  "kernelspec": {
   "display_name": "Python 3",
   "language": "python",
   "name": "python3"
  },
  "language_info": {
   "codemirror_mode": {
    "name": "ipython",
    "version": 3
   },
   "file_extension": ".py",
   "mimetype": "text/x-python",
   "name": "python",
   "nbconvert_exporter": "python",
   "pygments_lexer": "ipython3",
   "version": "3.7.6"
  }
 },
 "nbformat": 4,
 "nbformat_minor": 2
}
