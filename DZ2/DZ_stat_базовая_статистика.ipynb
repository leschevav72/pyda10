{
 "cells": [
  {
   "cell_type": "markdown",
   "metadata": {},
   "source": [
    "# Домашнее задание к лекции \"Базовые понятия статистики\""
   ]
  },
  {
   "cell_type": "markdown",
   "metadata": {},
   "source": [
    "## Обязательная часть\n",
    "\n",
    "Будем осуществлять работу с непростым [набором данных](https://raw.githubusercontent.com/obulygin/pyda_homeworks/master/statistics_basics/horse_data.csv) о состоянии здоровья лошадей, испытывающих кишечные колики. \n",
    "\n",
    "### Задание 1. Базовое изучение\n",
    "\n",
    "Изучить представленный набор данных на основе [описания его столбцов](https://raw.githubusercontent.com/obulygin/pyda_homeworks/master/statistics_basics/horse_data.names) и выбрать 8 столбцов для дальнейшего изучения (среди них должны быть как числовые, так и категориальные). Провести расчет базовых метрик для них, кратко описать результаты.\n",
    "\n",
    "### Задание 2. Работа с выбросами\n",
    "\n",
    "В выбранных числовых столбцах найти выбросы, выдвинуть гипотезы об их причинах и проинтерпретировать результаты. Принять и обосновать решение о дальнейшей работе с ними.\n",
    "\n",
    "### Задание 3. Работа с пропусками\n",
    "\n",
    "Рассчитать количество выбросов для всех выбранных столбцов. Принять и обосновать решение о методе работы с пропусками по каждому столбцу, сформировать датафрейм, в котором пропуски будут отсутствовать."
   ]
  },
  {
   "cell_type": "code",
   "execution_count": 236,
   "metadata": {},
   "outputs": [],
   "source": [
    "import pandas as pd\n",
    "import numpy as np\n",
    "import matplotlib.pyplot as plt"
   ]
  },
  {
   "cell_type": "code",
   "execution_count": 354,
   "metadata": {},
   "outputs": [
    {
     "data": {
      "text/html": [
       "<div>\n",
       "<style scoped>\n",
       "    .dataframe tbody tr th:only-of-type {\n",
       "        vertical-align: middle;\n",
       "    }\n",
       "\n",
       "    .dataframe tbody tr th {\n",
       "        vertical-align: top;\n",
       "    }\n",
       "\n",
       "    .dataframe thead th {\n",
       "        text-align: right;\n",
       "    }\n",
       "</style>\n",
       "<table border=\"1\" class=\"dataframe\">\n",
       "  <thead>\n",
       "    <tr style=\"text-align: right;\">\n",
       "      <th></th>\n",
       "      <th>операция</th>\n",
       "      <th>Возраст</th>\n",
       "      <th>Номер больницы</th>\n",
       "      <th>ректальная температура</th>\n",
       "      <th>пульс</th>\n",
       "      <th>вздутие живота</th>\n",
       "      <th>общий белок</th>\n",
       "      <th>результат</th>\n",
       "    </tr>\n",
       "  </thead>\n",
       "  <tbody>\n",
       "    <tr>\n",
       "      <th>0</th>\n",
       "      <td>2</td>\n",
       "      <td>1</td>\n",
       "      <td>530101</td>\n",
       "      <td>38.5</td>\n",
       "      <td>66</td>\n",
       "      <td>4</td>\n",
       "      <td>8.40</td>\n",
       "      <td>2</td>\n",
       "    </tr>\n",
       "    <tr>\n",
       "      <th>1</th>\n",
       "      <td>1</td>\n",
       "      <td>1</td>\n",
       "      <td>534817</td>\n",
       "      <td>39.2</td>\n",
       "      <td>88</td>\n",
       "      <td>2</td>\n",
       "      <td>85</td>\n",
       "      <td>3</td>\n",
       "    </tr>\n",
       "    <tr>\n",
       "      <th>2</th>\n",
       "      <td>2</td>\n",
       "      <td>1</td>\n",
       "      <td>530334</td>\n",
       "      <td>38.3</td>\n",
       "      <td>40</td>\n",
       "      <td>1</td>\n",
       "      <td>6.70</td>\n",
       "      <td>1</td>\n",
       "    </tr>\n",
       "  </tbody>\n",
       "</table>\n",
       "</div>"
      ],
      "text/plain": [
       "  операция  Возраст  Номер больницы  ректальная температура пульс  \\\n",
       "0        2        1          530101                    38.5    66   \n",
       "1        1        1          534817                    39.2    88   \n",
       "2        2        1          530334                    38.3    40   \n",
       "\n",
       "   вздутие живота общий белок результат  \n",
       "0               4        8.40         2  \n",
       "1               2          85         3  \n",
       "2               1        6.70         1  "
      ]
     },
     "execution_count": 354,
     "metadata": {},
     "output_type": "execute_result"
    }
   ],
   "source": [
    "df1 = pd.read_csv('horse_data.csv')\n",
    "df.head(3)"
   ]
  },
  {
   "cell_type": "markdown",
   "metadata": {},
   "source": [
    "Создадим колонки (названия)"
   ]
  },
  {
   "cell_type": "code",
   "execution_count": 372,
   "metadata": {},
   "outputs": [
    {
     "data": {
      "text/html": [
       "<div>\n",
       "<style scoped>\n",
       "    .dataframe tbody tr th:only-of-type {\n",
       "        vertical-align: middle;\n",
       "    }\n",
       "\n",
       "    .dataframe tbody tr th {\n",
       "        vertical-align: top;\n",
       "    }\n",
       "\n",
       "    .dataframe thead th {\n",
       "        text-align: right;\n",
       "    }\n",
       "</style>\n",
       "<table border=\"1\" class=\"dataframe\">\n",
       "  <thead>\n",
       "    <tr style=\"text-align: right;\">\n",
       "      <th></th>\n",
       "      <th>операция</th>\n",
       "      <th>Возраст</th>\n",
       "      <th>Номер больницы</th>\n",
       "      <th>ректальная температура</th>\n",
       "      <th>пульс</th>\n",
       "      <th>частота дыхания</th>\n",
       "      <th>температура конечностей</th>\n",
       "      <th>периферический пульс</th>\n",
       "      <th>слизистые оболочки</th>\n",
       "      <th>время наполнения капилляров</th>\n",
       "      <th>...</th>\n",
       "      <th>объем упакованной ячейки</th>\n",
       "      <th>общий белок</th>\n",
       "      <th>внешний вид брюшной полости</th>\n",
       "      <th>общий белок брюшной полости</th>\n",
       "      <th>результат</th>\n",
       "      <th>хирургическое поражение</th>\n",
       "      <th>тип поражения1</th>\n",
       "      <th>тип поражения2</th>\n",
       "      <th>тип поражения3</th>\n",
       "      <th>cp_data</th>\n",
       "    </tr>\n",
       "  </thead>\n",
       "  <tbody>\n",
       "    <tr>\n",
       "      <th>0</th>\n",
       "      <td>2</td>\n",
       "      <td>1</td>\n",
       "      <td>530101</td>\n",
       "      <td>38.50</td>\n",
       "      <td>66</td>\n",
       "      <td>28</td>\n",
       "      <td>3</td>\n",
       "      <td>3</td>\n",
       "      <td>?</td>\n",
       "      <td>2</td>\n",
       "      <td>...</td>\n",
       "      <td>45.00</td>\n",
       "      <td>8.40</td>\n",
       "      <td>?</td>\n",
       "      <td>?</td>\n",
       "      <td>2</td>\n",
       "      <td>2</td>\n",
       "      <td>11300</td>\n",
       "      <td>0</td>\n",
       "      <td>0</td>\n",
       "      <td>2</td>\n",
       "    </tr>\n",
       "    <tr>\n",
       "      <th>1</th>\n",
       "      <td>1</td>\n",
       "      <td>1</td>\n",
       "      <td>534817</td>\n",
       "      <td>39.2</td>\n",
       "      <td>88</td>\n",
       "      <td>20</td>\n",
       "      <td>?</td>\n",
       "      <td>?</td>\n",
       "      <td>4</td>\n",
       "      <td>1</td>\n",
       "      <td>...</td>\n",
       "      <td>50</td>\n",
       "      <td>85</td>\n",
       "      <td>2</td>\n",
       "      <td>2</td>\n",
       "      <td>3</td>\n",
       "      <td>2</td>\n",
       "      <td>2208</td>\n",
       "      <td>0</td>\n",
       "      <td>0</td>\n",
       "      <td>2</td>\n",
       "    </tr>\n",
       "    <tr>\n",
       "      <th>2</th>\n",
       "      <td>2</td>\n",
       "      <td>1</td>\n",
       "      <td>530334</td>\n",
       "      <td>38.30</td>\n",
       "      <td>40</td>\n",
       "      <td>24</td>\n",
       "      <td>1</td>\n",
       "      <td>1</td>\n",
       "      <td>3</td>\n",
       "      <td>1</td>\n",
       "      <td>...</td>\n",
       "      <td>33.00</td>\n",
       "      <td>6.70</td>\n",
       "      <td>?</td>\n",
       "      <td>?</td>\n",
       "      <td>1</td>\n",
       "      <td>2</td>\n",
       "      <td>0</td>\n",
       "      <td>0</td>\n",
       "      <td>0</td>\n",
       "      <td>1</td>\n",
       "    </tr>\n",
       "  </tbody>\n",
       "</table>\n",
       "<p>3 rows × 28 columns</p>\n",
       "</div>"
      ],
      "text/plain": [
       "  операция  Возраст  Номер больницы ректальная температура пульс  \\\n",
       "0        2        1          530101                  38.50    66   \n",
       "1        1        1          534817                   39.2    88   \n",
       "2        2        1          530334                  38.30    40   \n",
       "\n",
       "  частота дыхания температура конечностей периферический пульс  \\\n",
       "0              28                       3                    3   \n",
       "1              20                       ?                    ?   \n",
       "2              24                       1                    1   \n",
       "\n",
       "  слизистые оболочки время наполнения капилляров  ...  \\\n",
       "0                  ?                           2  ...   \n",
       "1                  4                           1  ...   \n",
       "2                  3                           1  ...   \n",
       "\n",
       "  объем упакованной ячейки общий белок внешний вид брюшной полости  \\\n",
       "0                    45.00        8.40                           ?   \n",
       "1                       50          85                           2   \n",
       "2                    33.00        6.70                           ?   \n",
       "\n",
       "  общий белок брюшной полости результат хирургическое поражение  \\\n",
       "0                           ?         2                       2   \n",
       "1                           2         3                       2   \n",
       "2                           ?         1                       2   \n",
       "\n",
       "  тип поражения1 тип поражения2 тип поражения3 cp_data  \n",
       "0          11300              0              0       2  \n",
       "1           2208              0              0       2  \n",
       "2              0              0              0       1  \n",
       "\n",
       "[3 rows x 28 columns]"
      ]
     },
     "execution_count": 372,
     "metadata": {},
     "output_type": "execute_result"
    }
   ],
   "source": [
    "df_new = pd.read_csv('horse_data.csv', names=['операция','Возраст','Номер больницы','ректальная температура','пульс',\n",
    "                                         'частота дыхания','температура конечностей','периферический пульс',\n",
    "                                         'слизистые оболочки','время наполнения капилляров','боль','перистальтика',\n",
    "                                         'вздутие живота','назогастральный зонд','назогастральный рефлюкс',\n",
    "                                         'назогастральный рефлюкс, PH','ректальное исследование - кал','живот',\n",
    "                                         'объем упакованной ячейки','общий белок','внешний вид брюшной полости',\n",
    "                                         'общий белок брюшной полости','результат','хирургическое поражение',\n",
    "                                         'тип поражения1','тип поражения2','тип поражения3','cp_data'])\n",
    "df_new.head(3)"
   ]
  },
  {
   "cell_type": "markdown",
   "metadata": {},
   "source": [
    "Выберим для анализа 8 столбцов"
   ]
  },
  {
   "cell_type": "code",
   "execution_count": 373,
   "metadata": {},
   "outputs": [
    {
     "data": {
      "text/html": [
       "<div>\n",
       "<style scoped>\n",
       "    .dataframe tbody tr th:only-of-type {\n",
       "        vertical-align: middle;\n",
       "    }\n",
       "\n",
       "    .dataframe tbody tr th {\n",
       "        vertical-align: top;\n",
       "    }\n",
       "\n",
       "    .dataframe thead th {\n",
       "        text-align: right;\n",
       "    }\n",
       "</style>\n",
       "<table border=\"1\" class=\"dataframe\">\n",
       "  <thead>\n",
       "    <tr style=\"text-align: right;\">\n",
       "      <th></th>\n",
       "      <th>операция</th>\n",
       "      <th>Возраст</th>\n",
       "      <th>Номер больницы</th>\n",
       "      <th>ректальная температура</th>\n",
       "      <th>пульс</th>\n",
       "      <th>вздутие живота</th>\n",
       "      <th>общий белок</th>\n",
       "      <th>результат</th>\n",
       "    </tr>\n",
       "  </thead>\n",
       "  <tbody>\n",
       "    <tr>\n",
       "      <th>0</th>\n",
       "      <td>2</td>\n",
       "      <td>1</td>\n",
       "      <td>530101</td>\n",
       "      <td>38.50</td>\n",
       "      <td>66</td>\n",
       "      <td>4</td>\n",
       "      <td>8.40</td>\n",
       "      <td>2</td>\n",
       "    </tr>\n",
       "    <tr>\n",
       "      <th>1</th>\n",
       "      <td>1</td>\n",
       "      <td>1</td>\n",
       "      <td>534817</td>\n",
       "      <td>39.2</td>\n",
       "      <td>88</td>\n",
       "      <td>2</td>\n",
       "      <td>85</td>\n",
       "      <td>3</td>\n",
       "    </tr>\n",
       "    <tr>\n",
       "      <th>2</th>\n",
       "      <td>2</td>\n",
       "      <td>1</td>\n",
       "      <td>530334</td>\n",
       "      <td>38.30</td>\n",
       "      <td>40</td>\n",
       "      <td>1</td>\n",
       "      <td>6.70</td>\n",
       "      <td>1</td>\n",
       "    </tr>\n",
       "    <tr>\n",
       "      <th>3</th>\n",
       "      <td>1</td>\n",
       "      <td>9</td>\n",
       "      <td>5290409</td>\n",
       "      <td>39.10</td>\n",
       "      <td>164</td>\n",
       "      <td>4</td>\n",
       "      <td>7.20</td>\n",
       "      <td>2</td>\n",
       "    </tr>\n",
       "    <tr>\n",
       "      <th>4</th>\n",
       "      <td>2</td>\n",
       "      <td>1</td>\n",
       "      <td>530255</td>\n",
       "      <td>37.30</td>\n",
       "      <td>104</td>\n",
       "      <td>?</td>\n",
       "      <td>7.40</td>\n",
       "      <td>2</td>\n",
       "    </tr>\n",
       "  </tbody>\n",
       "</table>\n",
       "</div>"
      ],
      "text/plain": [
       "  операция  Возраст  Номер больницы ректальная температура пульс  \\\n",
       "0        2        1          530101                  38.50    66   \n",
       "1        1        1          534817                   39.2    88   \n",
       "2        2        1          530334                  38.30    40   \n",
       "3        1        9         5290409                  39.10   164   \n",
       "4        2        1          530255                  37.30   104   \n",
       "\n",
       "  вздутие живота общий белок результат  \n",
       "0              4        8.40         2  \n",
       "1              2          85         3  \n",
       "2              1        6.70         1  \n",
       "3              4        7.20         2  \n",
       "4              ?        7.40         2  "
      ]
     },
     "execution_count": 373,
     "metadata": {},
     "output_type": "execute_result"
    }
   ],
   "source": [
    "df=df_new.filter(items = ['операция','Возраст','Номер больницы','ректальная температура','пульс','вздутие живота',\n",
    "                      'общий белок','результат'])                                       \n",
    "df.head()"
   ]
  },
  {
   "cell_type": "markdown",
   "metadata": {},
   "source": [
    "Для выбора метода замены неизвестных (неопределенных) значений либо методом удаления строк/столбцов\n",
    "или замены на другое значение (0, среднее, близлежащее)\n",
    "проверяем как часто и в какой последовательности в датафрейме встречается значение \"?\""
   ]
  },
  {
   "cell_type": "code",
   "execution_count": 277,
   "metadata": {},
   "outputs": [
    {
     "data": {
      "text/html": [
       "<div>\n",
       "<style scoped>\n",
       "    .dataframe tbody tr th:only-of-type {\n",
       "        vertical-align: middle;\n",
       "    }\n",
       "\n",
       "    .dataframe tbody tr th {\n",
       "        vertical-align: top;\n",
       "    }\n",
       "\n",
       "    .dataframe thead th {\n",
       "        text-align: right;\n",
       "    }\n",
       "</style>\n",
       "<table border=\"1\" class=\"dataframe\">\n",
       "  <thead>\n",
       "    <tr style=\"text-align: right;\">\n",
       "      <th></th>\n",
       "      <th>операция</th>\n",
       "      <th>Возраст</th>\n",
       "      <th>Номер больницы</th>\n",
       "      <th>ректальная температура</th>\n",
       "      <th>пульс</th>\n",
       "      <th>вздутие живота</th>\n",
       "      <th>общий белок</th>\n",
       "      <th>результат</th>\n",
       "    </tr>\n",
       "  </thead>\n",
       "  <tbody>\n",
       "    <tr>\n",
       "      <th>132</th>\n",
       "      <td>?</td>\n",
       "      <td>1</td>\n",
       "      <td>534572</td>\n",
       "      <td>38.0</td>\n",
       "      <td>48</td>\n",
       "      <td>1</td>\n",
       "      <td>73</td>\n",
       "      <td>?</td>\n",
       "    </tr>\n",
       "  </tbody>\n",
       "</table>\n",
       "</div>"
      ],
      "text/plain": [
       "    операция  Возраст  Номер больницы ректальная температура пульс  \\\n",
       "132        ?        1          534572                   38.0    48   \n",
       "\n",
       "    вздутие живота общий белок результат  \n",
       "132              1          73         ?  "
      ]
     },
     "execution_count": 277,
     "metadata": {},
     "output_type": "execute_result"
    }
   ],
   "source": [
    "df.loc[df['операция']=='?']"
   ]
  },
  {
   "cell_type": "code",
   "execution_count": 312,
   "metadata": {},
   "outputs": [
    {
     "data": {
      "text/plain": [
       "60"
      ]
     },
     "execution_count": 312,
     "metadata": {},
     "output_type": "execute_result"
    }
   ],
   "source": [
    "len(df.loc[df['ректальная температура']=='?'])"
   ]
  },
  {
   "cell_type": "code",
   "execution_count": 279,
   "metadata": {},
   "outputs": [
    {
     "data": {
      "text/plain": [
       "24"
      ]
     },
     "execution_count": 279,
     "metadata": {},
     "output_type": "execute_result"
    }
   ],
   "source": [
    "len(df.loc[df['пульс']=='?'])"
   ]
  },
  {
   "cell_type": "markdown",
   "metadata": {},
   "source": [
    "Вывод: не удаляем, производим замену значения \"?\" на моду,медиану или среднее значения в зависимости от столбца"
   ]
  },
  {
   "cell_type": "code",
   "execution_count": 313,
   "metadata": {},
   "outputs": [
    {
     "name": "stdout",
     "output_type": "stream",
     "text": [
      "<class 'pandas.core.frame.DataFrame'>\n",
      "RangeIndex: 300 entries, 0 to 299\n",
      "Data columns (total 8 columns):\n",
      " #   Column                  Non-Null Count  Dtype \n",
      "---  ------                  --------------  ----- \n",
      " 0   операция                300 non-null    object\n",
      " 1   Возраст                 300 non-null    int64 \n",
      " 2   Номер больницы          300 non-null    int64 \n",
      " 3   ректальная температура  300 non-null    object\n",
      " 4   пульс                   300 non-null    object\n",
      " 5   вздутие живота          300 non-null    object\n",
      " 6   общий белок             300 non-null    object\n",
      " 7   результат               300 non-null    object\n",
      "dtypes: int64(2), object(6)\n",
      "memory usage: 18.9+ KB\n"
     ]
    }
   ],
   "source": [
    "df.info()    # посмотрим тип записанных данных"
   ]
  },
  {
   "cell_type": "markdown",
   "metadata": {},
   "source": [
    "Преобразуем столбцы с типом object в числовые значения"
   ]
  },
  {
   "cell_type": "code",
   "execution_count": 281,
   "metadata": {},
   "outputs": [
    {
     "data": {
      "text/plain": [
       "array(['2', '1', '?'], dtype=object)"
      ]
     },
     "execution_count": 281,
     "metadata": {},
     "output_type": "execute_result"
    }
   ],
   "source": [
    "df['операция'].unique()     # смотрим записанные значения, выявляем не валидные"
   ]
  },
  {
   "cell_type": "code",
   "execution_count": 282,
   "metadata": {},
   "outputs": [
    {
     "name": "stdout",
     "output_type": "stream",
     "text": [
      "180\n",
      "119\n",
      "1\n"
     ]
    }
   ],
   "source": [
    "print(len(df.loc[df['операция']=='1']))\n",
    "print(len(df.loc[df['операция']=='2']))\n",
    "print(len(df.loc[df['операция']=='?']))  # '?' после замены, например на 0, будет является выбросом, \n",
    "                                         # заменим его на моду"
   ]
  },
  {
   "cell_type": "code",
   "execution_count": 283,
   "metadata": {},
   "outputs": [
    {
     "data": {
      "text/plain": [
       "array(['2', '1', 1], dtype=object)"
      ]
     },
     "execution_count": 283,
     "metadata": {},
     "output_type": "execute_result"
    }
   ],
   "source": [
    "df['операция'].replace(['?'],[1],inplace=True)  # заменяем не корректные значение на 1 (мода),\n",
    "                                                # как наиболее встречающееся значение при условии того что  \n",
    "                                                #значение \"?\" встречается 1 раз\n",
    "df['операция'].unique()                         # проверяем"
   ]
  },
  {
   "cell_type": "code",
   "execution_count": 284,
   "metadata": {},
   "outputs": [
    {
     "data": {
      "text/plain": [
       "array([2, 1])"
      ]
     },
     "execution_count": 284,
     "metadata": {},
     "output_type": "execute_result"
    }
   ],
   "source": [
    "df['операция']=pd.to_numeric(df['операция'])  # преобразовываем значения в числовой тип\n",
    "df['операция'].unique()                       # проверяем"
   ]
  },
  {
   "cell_type": "code",
   "execution_count": 285,
   "metadata": {},
   "outputs": [
    {
     "name": "stdout",
     "output_type": "stream",
     "text": [
      "мода:  1\n",
      "медиана:  1.0\n",
      "среднее:  1.3966666666666667\n",
      "СКО:  0.49002309230504354\n",
      "Дисперсия:  0.24012263099219724\n",
      "максимум:  2\n",
      "минимум:  1\n",
      "размах:  1\n",
      "квантили:  1.0\n",
      "межквартильный размах:  1.0\n",
      "1-ый и 3-ий квантили:  0.25    1.0\n",
      "0.75    2.0\n",
      "Name: операция, dtype: float64\n"
     ]
    }
   ],
   "source": [
    "print('мода: ',df['операция'].round().mode()[0]) #  проверяем значение 1=мода\n",
    "print('медиана: ',df['операция'].median())\n",
    "print('среднее: ',df['операция'].mean())\n",
    "print('СКО: ',df['операция'].std())\n",
    "print('Дисперсия: ',df['операция'].var())\n",
    "print('максимум: ',df['операция'].max())\n",
    "print('минимум: ',df['операция'].min())\n",
    "print('размах: ',df['операция'].max()-df['операция'].min())  \n",
    "print('квантили: ',df['операция'].quantile())\n",
    "print('межквартильный размах: ',df['операция'].quantile(0.75)-df['операция'].quantile(0.25))\n",
    "print('1-ый и 3-ий квантили: ',df['операция'].quantile([0.25,0.75]))"
   ]
  },
  {
   "cell_type": "markdown",
   "metadata": {},
   "source": [
    "аналогично проверяем и преобразовываем по другим столбцам с типом данных object"
   ]
  },
  {
   "cell_type": "code",
   "execution_count": 330,
   "metadata": {},
   "outputs": [
    {
     "data": {
      "text/plain": [
       "60"
      ]
     },
     "execution_count": 330,
     "metadata": {},
     "output_type": "execute_result"
    }
   ],
   "source": [
    "len(df.loc[df['ректальная температура']=='?'])"
   ]
  },
  {
   "cell_type": "code",
   "execution_count": 331,
   "metadata": {},
   "outputs": [
    {
     "data": {
      "text/plain": [
       "array(['38.50', '39.2', '38.30', '39.10', '37.30', 0, '37.90', '38.10',\n",
       "       '37.20', '38.00', '38.2', '37.60', '37.50', '39.4', '39.90',\n",
       "       '38.40', '38.60', '38.3', '38.1', '37.80', '37.7', '37.70',\n",
       "       '38.20', '37.8', '39.20', '39.00', '35.4', '38.90', '37.40',\n",
       "       '40.30', '37.9', '37.00', '39.7', '37.6', '38.7', '36.40', '37.3',\n",
       "       '38.0', '38.80', '39.60', '36.80', '38.4', '39.50', '36.5',\n",
       "       '39.40', '38.70', '37.4', '38', '36.00', '37.1', '38.9', '39.30',\n",
       "       '38.8', '39.5', '37.5', '38.5', '37.10', '36.10', '39.3', '36.60',\n",
       "       '40.80', '36.90', '38.6', '40.00', '36.50', '37.2'], dtype=object)"
      ]
     },
     "execution_count": 331,
     "metadata": {},
     "output_type": "execute_result"
    }
   ],
   "source": [
    "df['ректальная температура'].replace(['?'],[0],inplace=True)     \n",
    "df['ректальная температура'].unique()"
   ]
  },
  {
   "cell_type": "markdown",
   "metadata": {},
   "source": [
    "значение \"0\" является выбросом, таких значений в столбце 60 и они (значение 0) сильно отличаються от всей совокупности данных\n",
    "Вывод: данные выбросы удалять нельзя - это повлияет на все данные датасета, надо заменить"
   ]
  },
  {
   "cell_type": "code",
   "execution_count": 332,
   "metadata": {},
   "outputs": [],
   "source": [
    "df['ректальная температура']=pd.to_numeric(df['ректальная температура'])\n",
    "#df['ректальная температура'].unique()"
   ]
  },
  {
   "cell_type": "code",
   "execution_count": 333,
   "metadata": {},
   "outputs": [
    {
     "data": {
      "text/html": [
       "<div>\n",
       "<style scoped>\n",
       "    .dataframe tbody tr th:only-of-type {\n",
       "        vertical-align: middle;\n",
       "    }\n",
       "\n",
       "    .dataframe tbody tr th {\n",
       "        vertical-align: top;\n",
       "    }\n",
       "\n",
       "    .dataframe thead th {\n",
       "        text-align: right;\n",
       "    }\n",
       "</style>\n",
       "<table border=\"1\" class=\"dataframe\">\n",
       "  <thead>\n",
       "    <tr style=\"text-align: right;\">\n",
       "      <th></th>\n",
       "      <th>операция</th>\n",
       "      <th>Возраст</th>\n",
       "      <th>Номер больницы</th>\n",
       "      <th>ректальная температура</th>\n",
       "      <th>пульс</th>\n",
       "      <th>вздутие живота</th>\n",
       "      <th>общий белок</th>\n",
       "      <th>результат</th>\n",
       "    </tr>\n",
       "  </thead>\n",
       "  <tbody>\n",
       "    <tr>\n",
       "      <th>5</th>\n",
       "      <td>2</td>\n",
       "      <td>1</td>\n",
       "      <td>528355</td>\n",
       "      <td>0.0</td>\n",
       "      <td>?</td>\n",
       "      <td>2</td>\n",
       "      <td>?</td>\n",
       "      <td>1</td>\n",
       "    </tr>\n",
       "    <tr>\n",
       "      <th>7</th>\n",
       "      <td>1</td>\n",
       "      <td>1</td>\n",
       "      <td>529607</td>\n",
       "      <td>0.0</td>\n",
       "      <td>60</td>\n",
       "      <td>2</td>\n",
       "      <td>8.30</td>\n",
       "      <td>2</td>\n",
       "    </tr>\n",
       "    <tr>\n",
       "      <th>8</th>\n",
       "      <td>2</td>\n",
       "      <td>1</td>\n",
       "      <td>530051</td>\n",
       "      <td>0.0</td>\n",
       "      <td>80</td>\n",
       "      <td>4</td>\n",
       "      <td>6.20</td>\n",
       "      <td>3</td>\n",
       "    </tr>\n",
       "    <tr>\n",
       "      <th>16</th>\n",
       "      <td>1</td>\n",
       "      <td>9</td>\n",
       "      <td>5301219</td>\n",
       "      <td>0.0</td>\n",
       "      <td>128</td>\n",
       "      <td>3</td>\n",
       "      <td>7.80</td>\n",
       "      <td>2</td>\n",
       "    </tr>\n",
       "    <tr>\n",
       "      <th>28</th>\n",
       "      <td>1</td>\n",
       "      <td>1</td>\n",
       "      <td>5279442</td>\n",
       "      <td>0.0</td>\n",
       "      <td>?</td>\n",
       "      <td>?</td>\n",
       "      <td>?</td>\n",
       "      <td>2</td>\n",
       "    </tr>\n",
       "    <tr>\n",
       "      <th>...</th>\n",
       "      <td>...</td>\n",
       "      <td>...</td>\n",
       "      <td>...</td>\n",
       "      <td>...</td>\n",
       "      <td>...</td>\n",
       "      <td>...</td>\n",
       "      <td>...</td>\n",
       "      <td>...</td>\n",
       "    </tr>\n",
       "    <tr>\n",
       "      <th>274</th>\n",
       "      <td>1</td>\n",
       "      <td>1</td>\n",
       "      <td>534624</td>\n",
       "      <td>0.0</td>\n",
       "      <td>76</td>\n",
       "      <td>4</td>\n",
       "      <td>?</td>\n",
       "      <td>3</td>\n",
       "    </tr>\n",
       "    <tr>\n",
       "      <th>282</th>\n",
       "      <td>1</td>\n",
       "      <td>1</td>\n",
       "      <td>527544</td>\n",
       "      <td>0.0</td>\n",
       "      <td>70</td>\n",
       "      <td>2</td>\n",
       "      <td>7.50</td>\n",
       "      <td>2</td>\n",
       "    </tr>\n",
       "    <tr>\n",
       "      <th>288</th>\n",
       "      <td>1</td>\n",
       "      <td>1</td>\n",
       "      <td>529428</td>\n",
       "      <td>0.0</td>\n",
       "      <td>?</td>\n",
       "      <td>?</td>\n",
       "      <td>?</td>\n",
       "      <td>1</td>\n",
       "    </tr>\n",
       "    <tr>\n",
       "      <th>293</th>\n",
       "      <td>1</td>\n",
       "      <td>1</td>\n",
       "      <td>534004</td>\n",
       "      <td>0.0</td>\n",
       "      <td>78</td>\n",
       "      <td>?</td>\n",
       "      <td>62</td>\n",
       "      <td>3</td>\n",
       "    </tr>\n",
       "    <tr>\n",
       "      <th>295</th>\n",
       "      <td>1</td>\n",
       "      <td>1</td>\n",
       "      <td>533886</td>\n",
       "      <td>0.0</td>\n",
       "      <td>120</td>\n",
       "      <td>?</td>\n",
       "      <td>65</td>\n",
       "      <td>3</td>\n",
       "    </tr>\n",
       "  </tbody>\n",
       "</table>\n",
       "<p>61 rows × 8 columns</p>\n",
       "</div>"
      ],
      "text/plain": [
       "    операция  Возраст  Номер больницы  ректальная температура пульс  \\\n",
       "5          2        1          528355                     0.0     ?   \n",
       "7          1        1          529607                     0.0    60   \n",
       "8          2        1          530051                     0.0    80   \n",
       "16         1        9         5301219                     0.0   128   \n",
       "28         1        1         5279442                     0.0     ?   \n",
       "..       ...      ...             ...                     ...   ...   \n",
       "274        1        1          534624                     0.0    76   \n",
       "282        1        1          527544                     0.0    70   \n",
       "288        1        1          529428                     0.0     ?   \n",
       "293        1        1          534004                     0.0    78   \n",
       "295        1        1          533886                     0.0   120   \n",
       "\n",
       "    вздутие живота общий белок результат  \n",
       "5                2           ?         1  \n",
       "7                2        8.30         2  \n",
       "8                4        6.20         3  \n",
       "16               3        7.80         2  \n",
       "28               ?           ?         2  \n",
       "..             ...         ...       ...  \n",
       "274              4           ?         3  \n",
       "282              2        7.50         2  \n",
       "288              ?           ?         1  \n",
       "293              ?          62         3  \n",
       "295              ?          65         3  \n",
       "\n",
       "[61 rows x 8 columns]"
      ]
     },
     "execution_count": 333,
     "metadata": {},
     "output_type": "execute_result"
    }
   ],
   "source": [
    "# определяем выбросы через межквартильный размах\n",
    "q_temp1 = df['ректальная температура'].quantile(0.25)\n",
    "q_temp3 = df['ректальная температура'].quantile(0.75)\n",
    "iqr_temp = q_temp3 - q_temp1\n",
    "lower_bound_temp = q_temp1 - (1.5 * iqr_temp) \n",
    "upper_bound_temp = q_temp3 + (1.5 * iqr_temp)\n",
    "remove_outliers_temp = df[~df['ректальная температура'].between(lower_bound_temp, upper_bound_temp, inclusive=True)]\n",
    "remove_outliers_temp"
   ]
  },
  {
   "cell_type": "code",
   "execution_count": 334,
   "metadata": {},
   "outputs": [
    {
     "data": {
      "text/plain": [
       "<matplotlib.collections.PathCollection at 0x11931c590>"
      ]
     },
     "execution_count": 334,
     "metadata": {},
     "output_type": "execute_result"
    },
    {
     "data": {
      "image/png": "[encoded data removed]",
      "text/plain": [
       "<Figure size 432x288 with 1 Axes>"
      ]
     },
     "metadata": {
      "needs_background": "light"
     },
     "output_type": "display_data"
    }
   ],
   "source": [
    "# рисуем точечный график, чтоб посмотреть наличие зависимостей и выбросов, а так же корректность выводов \n",
    "# по результатам проведенных рассчетов статистик \n",
    "\n",
    "plt.scatter(x=range(len(df['ректальная температура'])),y=df['ректальная температура'])"
   ]
  },
  {
   "cell_type": "code",
   "execution_count": 335,
   "metadata": {},
   "outputs": [
    {
     "data": {
      "text/plain": [
       "30.534333333333354"
      ]
     },
     "execution_count": 335,
     "metadata": {},
     "output_type": "execute_result"
    }
   ],
   "source": [
    "df['ректальная температура'].mean()    # вычисляем среднее для замены \"?\" "
   ]
  },
  {
   "cell_type": "markdown",
   "metadata": {},
   "source": [
    "смотрим как изменилось среднее значение после замены 0 на среднее (с 0-ем) 30.53433333\n",
    "                                       # Вывод: Замена не подходит. значение 30.534 так же остается выбросами (проверял через межквартильный размах) и среднее изменилось на 17% в сторону увеличения. \n",
    "                                       # применить метод Заполнения медианой"
   ]
  },
  {
   "cell_type": "code",
   "execution_count": 336,
   "metadata": {},
   "outputs": [
    {
     "data": {
      "text/plain": [
       "38.0"
      ]
     },
     "execution_count": 336,
     "metadata": {},
     "output_type": "execute_result"
    }
   ],
   "source": [
    "df['ректальная температура'].median()   # вычисляем медиану для замены'?''"
   ]
  },
  {
   "cell_type": "code",
   "execution_count": 342,
   "metadata": {},
   "outputs": [
    {
     "data": {
      "text/plain": [
       "array([38.5, 39.2, 38.3, 39.1, 37.3, 38. , 37.9, 38.1, 37.2, 38.2, 37.6,\n",
       "       37.5, 39.4, 39.9, 38.4, 38.6, 37.8, 37.7, 39. , 35.4, 38.9, 37.4,\n",
       "       40.3, 37. , 39.7, 38.7, 36.4, 38.8, 39.6, 36.8, 39.5, 36.5, 36. ,\n",
       "       37.1, 39.3, 36.1, 36.6, 40.8, 36.9, 40. ])"
      ]
     },
     "execution_count": 342,
     "metadata": {},
     "output_type": "execute_result"
    }
   ],
   "source": [
    "df['ректальная температура'].replace([0],[38],inplace=True)     \n",
    "df['ректальная температура'].unique()"
   ]
  },
  {
   "cell_type": "code",
   "execution_count": 343,
   "metadata": {},
   "outputs": [
    {
     "data": {
      "text/html": [
       "<div>\n",
       "<style scoped>\n",
       "    .dataframe tbody tr th:only-of-type {\n",
       "        vertical-align: middle;\n",
       "    }\n",
       "\n",
       "    .dataframe tbody tr th {\n",
       "        vertical-align: top;\n",
       "    }\n",
       "\n",
       "    .dataframe thead th {\n",
       "        text-align: right;\n",
       "    }\n",
       "</style>\n",
       "<table border=\"1\" class=\"dataframe\">\n",
       "  <thead>\n",
       "    <tr style=\"text-align: right;\">\n",
       "      <th></th>\n",
       "      <th>операция</th>\n",
       "      <th>Возраст</th>\n",
       "      <th>Номер больницы</th>\n",
       "      <th>ректальная температура</th>\n",
       "      <th>пульс</th>\n",
       "      <th>вздутие живота</th>\n",
       "      <th>общий белок</th>\n",
       "      <th>результат</th>\n",
       "    </tr>\n",
       "  </thead>\n",
       "  <tbody>\n",
       "    <tr>\n",
       "      <th>20</th>\n",
       "      <td>1</td>\n",
       "      <td>1</td>\n",
       "      <td>530157</td>\n",
       "      <td>39.9</td>\n",
       "      <td>72</td>\n",
       "      <td>4</td>\n",
       "      <td>6.10</td>\n",
       "      <td>1</td>\n",
       "    </tr>\n",
       "    <tr>\n",
       "      <th>44</th>\n",
       "      <td>1</td>\n",
       "      <td>1</td>\n",
       "      <td>535407</td>\n",
       "      <td>35.4</td>\n",
       "      <td>140</td>\n",
       "      <td>?</td>\n",
       "      <td>69</td>\n",
       "      <td>3</td>\n",
       "    </tr>\n",
       "    <tr>\n",
       "      <th>54</th>\n",
       "      <td>2</td>\n",
       "      <td>1</td>\n",
       "      <td>529461</td>\n",
       "      <td>40.3</td>\n",
       "      <td>114</td>\n",
       "      <td>3</td>\n",
       "      <td>8.10</td>\n",
       "      <td>3</td>\n",
       "    </tr>\n",
       "    <tr>\n",
       "      <th>75</th>\n",
       "      <td>1</td>\n",
       "      <td>9</td>\n",
       "      <td>534092</td>\n",
       "      <td>39.7</td>\n",
       "      <td>100</td>\n",
       "      <td>?</td>\n",
       "      <td>57</td>\n",
       "      <td>3</td>\n",
       "    </tr>\n",
       "    <tr>\n",
       "      <th>80</th>\n",
       "      <td>1</td>\n",
       "      <td>1</td>\n",
       "      <td>527518</td>\n",
       "      <td>36.4</td>\n",
       "      <td>98</td>\n",
       "      <td>2</td>\n",
       "      <td>6.40</td>\n",
       "      <td>2</td>\n",
       "    </tr>\n",
       "    <tr>\n",
       "      <th>91</th>\n",
       "      <td>2</td>\n",
       "      <td>1</td>\n",
       "      <td>529461</td>\n",
       "      <td>40.3</td>\n",
       "      <td>114</td>\n",
       "      <td>3</td>\n",
       "      <td>8.10</td>\n",
       "      <td>2</td>\n",
       "    </tr>\n",
       "    <tr>\n",
       "      <th>99</th>\n",
       "      <td>2</td>\n",
       "      <td>1</td>\n",
       "      <td>530002</td>\n",
       "      <td>39.6</td>\n",
       "      <td>108</td>\n",
       "      <td>3</td>\n",
       "      <td>8.00</td>\n",
       "      <td>1</td>\n",
       "    </tr>\n",
       "    <tr>\n",
       "      <th>113</th>\n",
       "      <td>1</td>\n",
       "      <td>1</td>\n",
       "      <td>527933</td>\n",
       "      <td>36.8</td>\n",
       "      <td>60</td>\n",
       "      <td>?</td>\n",
       "      <td>?</td>\n",
       "      <td>2</td>\n",
       "    </tr>\n",
       "    <tr>\n",
       "      <th>117</th>\n",
       "      <td>2</td>\n",
       "      <td>1</td>\n",
       "      <td>5290482</td>\n",
       "      <td>39.5</td>\n",
       "      <td>?</td>\n",
       "      <td>3</td>\n",
       "      <td>6.70</td>\n",
       "      <td>3</td>\n",
       "    </tr>\n",
       "    <tr>\n",
       "      <th>118</th>\n",
       "      <td>1</td>\n",
       "      <td>1</td>\n",
       "      <td>533983</td>\n",
       "      <td>36.5</td>\n",
       "      <td>78</td>\n",
       "      <td>1</td>\n",
       "      <td>75</td>\n",
       "      <td>1</td>\n",
       "    </tr>\n",
       "    <tr>\n",
       "      <th>141</th>\n",
       "      <td>2</td>\n",
       "      <td>1</td>\n",
       "      <td>522979</td>\n",
       "      <td>36.0</td>\n",
       "      <td>42</td>\n",
       "      <td>?</td>\n",
       "      <td>6.80</td>\n",
       "      <td>2</td>\n",
       "    </tr>\n",
       "    <tr>\n",
       "      <th>162</th>\n",
       "      <td>2</td>\n",
       "      <td>1</td>\n",
       "      <td>535176</td>\n",
       "      <td>39.5</td>\n",
       "      <td>60</td>\n",
       "      <td>2</td>\n",
       "      <td>56</td>\n",
       "      <td>1</td>\n",
       "    </tr>\n",
       "    <tr>\n",
       "      <th>231</th>\n",
       "      <td>2</td>\n",
       "      <td>1</td>\n",
       "      <td>530028</td>\n",
       "      <td>39.5</td>\n",
       "      <td>92</td>\n",
       "      <td>1</td>\n",
       "      <td>6.40</td>\n",
       "      <td>2</td>\n",
       "    </tr>\n",
       "    <tr>\n",
       "      <th>238</th>\n",
       "      <td>2</td>\n",
       "      <td>1</td>\n",
       "      <td>528702</td>\n",
       "      <td>36.1</td>\n",
       "      <td>88</td>\n",
       "      <td>2</td>\n",
       "      <td>7.00</td>\n",
       "      <td>3</td>\n",
       "    </tr>\n",
       "    <tr>\n",
       "      <th>251</th>\n",
       "      <td>2</td>\n",
       "      <td>1</td>\n",
       "      <td>527940</td>\n",
       "      <td>36.6</td>\n",
       "      <td>42</td>\n",
       "      <td>1</td>\n",
       "      <td>7.10</td>\n",
       "      <td>2</td>\n",
       "    </tr>\n",
       "    <tr>\n",
       "      <th>259</th>\n",
       "      <td>1</td>\n",
       "      <td>1</td>\n",
       "      <td>527734</td>\n",
       "      <td>40.8</td>\n",
       "      <td>72</td>\n",
       "      <td>1</td>\n",
       "      <td>7.40</td>\n",
       "      <td>2</td>\n",
       "    </tr>\n",
       "    <tr>\n",
       "      <th>277</th>\n",
       "      <td>2</td>\n",
       "      <td>1</td>\n",
       "      <td>528620</td>\n",
       "      <td>36.9</td>\n",
       "      <td>50</td>\n",
       "      <td>2</td>\n",
       "      <td>6.50</td>\n",
       "      <td>1</td>\n",
       "    </tr>\n",
       "    <tr>\n",
       "      <th>281</th>\n",
       "      <td>2</td>\n",
       "      <td>1</td>\n",
       "      <td>530624</td>\n",
       "      <td>40.0</td>\n",
       "      <td>78</td>\n",
       "      <td>1</td>\n",
       "      <td>6.50</td>\n",
       "      <td>2</td>\n",
       "    </tr>\n",
       "    <tr>\n",
       "      <th>287</th>\n",
       "      <td>2</td>\n",
       "      <td>9</td>\n",
       "      <td>5305129</td>\n",
       "      <td>39.5</td>\n",
       "      <td>84</td>\n",
       "      <td>?</td>\n",
       "      <td>5.00</td>\n",
       "      <td>1</td>\n",
       "    </tr>\n",
       "    <tr>\n",
       "      <th>298</th>\n",
       "      <td>1</td>\n",
       "      <td>1</td>\n",
       "      <td>530612</td>\n",
       "      <td>36.5</td>\n",
       "      <td>100</td>\n",
       "      <td>3</td>\n",
       "      <td>6.00</td>\n",
       "      <td>1</td>\n",
       "    </tr>\n",
       "  </tbody>\n",
       "</table>\n",
       "</div>"
      ],
      "text/plain": [
       "    операция  Возраст  Номер больницы  ректальная температура пульс  \\\n",
       "20         1        1          530157                    39.9    72   \n",
       "44         1        1          535407                    35.4   140   \n",
       "54         2        1          529461                    40.3   114   \n",
       "75         1        9          534092                    39.7   100   \n",
       "80         1        1          527518                    36.4    98   \n",
       "91         2        1          529461                    40.3   114   \n",
       "99         2        1          530002                    39.6   108   \n",
       "113        1        1          527933                    36.8    60   \n",
       "117        2        1         5290482                    39.5     ?   \n",
       "118        1        1          533983                    36.5    78   \n",
       "141        2        1          522979                    36.0    42   \n",
       "162        2        1          535176                    39.5    60   \n",
       "231        2        1          530028                    39.5    92   \n",
       "238        2        1          528702                    36.1    88   \n",
       "251        2        1          527940                    36.6    42   \n",
       "259        1        1          527734                    40.8    72   \n",
       "277        2        1          528620                    36.9    50   \n",
       "281        2        1          530624                    40.0    78   \n",
       "287        2        9         5305129                    39.5    84   \n",
       "298        1        1          530612                    36.5   100   \n",
       "\n",
       "    вздутие живота общий белок результат  \n",
       "20               4        6.10         1  \n",
       "44               ?          69         3  \n",
       "54               3        8.10         3  \n",
       "75               ?          57         3  \n",
       "80               2        6.40         2  \n",
       "91               3        8.10         2  \n",
       "99               3        8.00         1  \n",
       "113              ?           ?         2  \n",
       "117              3        6.70         3  \n",
       "118              1          75         1  \n",
       "141              ?        6.80         2  \n",
       "162              2          56         1  \n",
       "231              1        6.40         2  \n",
       "238              2        7.00         3  \n",
       "251              1        7.10         2  \n",
       "259              1        7.40         2  \n",
       "277              2        6.50         1  \n",
       "281              1        6.50         2  \n",
       "287              ?        5.00         1  \n",
       "298              3        6.00         1  "
      ]
     },
     "execution_count": 343,
     "metadata": {},
     "output_type": "execute_result"
    }
   ],
   "source": [
    "# определяем выбросы через межквартильный размах\n",
    "q_temp1 = df['ректальная температура'].quantile(0.25)\n",
    "q_temp3 = df['ректальная температура'].quantile(0.75)\n",
    "iqr_temp = q_temp3 - q_temp1\n",
    "lower_bound_temp = q_temp1 - (1.5 * iqr_temp) \n",
    "upper_bound_temp = q_temp3 + (1.5 * iqr_temp)\n",
    "remove_outliers_temp = df[~df['ректальная температура'].between(lower_bound_temp, upper_bound_temp, inclusive=True)]\n",
    "remove_outliers_temp\n",
    "\n",
    "# данные в полученных выбросах валидны. далее работать путем выделения выбросов в отдельную группу и прводить аналииз\n",
    "# группы данных без выбросов и группы куда вошли выбросы"
   ]
  },
  {
   "cell_type": "code",
   "execution_count": 344,
   "metadata": {},
   "outputs": [
    {
     "data": {
      "text/plain": [
       "<matplotlib.collections.PathCollection at 0x11921a6d0>"
      ]
     },
     "execution_count": 344,
     "metadata": {},
     "output_type": "execute_result"
    },
    {
     "data": {
      "image/png": "[encoded data removed]",
      "text/plain": [
       "<Figure size 432x288 with 1 Axes>"
      ]
     },
     "metadata": {
      "needs_background": "light"
     },
     "output_type": "display_data"
    }
   ],
   "source": [
    "# смотрим как изменился график после замены на медиану. видим корректное отображение данных исходя \n",
    "# из описания датасета (линейный, Повышенная температура может возникнуть из-за инфекции, возможно снижение\n",
    "# температуры при позднем шоке, нормальная температура 37,8)\n",
    "plt.scatter(x=range(len(df['ректальная температура'])),y=df['ректальная температура'])"
   ]
  },
  {
   "cell_type": "code",
   "execution_count": 345,
   "metadata": {},
   "outputs": [
    {
     "name": "stdout",
     "output_type": "stream",
     "text": [
      "мода:  38.0\n",
      "медиана:  38.0\n",
      "среднее:  38.134333333333345\n",
      "СКО:  0.6581527982988336\n",
      "Дисперсия:  0.43316510590858504\n",
      "максимум:  40.8\n",
      "минимум:  35.4\n",
      "размах:  5.399999999999999\n",
      "квантили:  38.0\n",
      "межквартильный размах:  0.6000000000000014\n",
      "1-ый и 3-ий квантили:  0.25    37.9\n",
      "0.75    38.5\n",
      "Name: ректальная температура, dtype: float64\n"
     ]
    }
   ],
   "source": [
    "print('мода: ',df['ректальная температура'].round().mode()[0]) #  проверяем значение 1=мода\n",
    "print('медиана: ',df['ректальная температура'].median())\n",
    "print('среднее: ',df['ректальная температура'].mean())\n",
    "print('СКО: ',df['ректальная температура'].std())\n",
    "print('Дисперсия: ',df['ректальная температура'].var())\n",
    "print('максимум: ',df['ректальная температура'].max())\n",
    "print('минимум: ',df['ректальная температура'].min())\n",
    "print('размах: ',df['ректальная температура'].max()-df['ректальная температура'].min())  \n",
    "print('квантили: ',df['ректальная температура'].quantile())\n",
    "print('межквартильный размах: ',df['ректальная температура'].quantile(0.75)-df['ректальная температура'].quantile(0.25))\n",
    "print('1-ый и 3-ий квантили: ',df['ректальная температура'].quantile([0.25,0.75]))"
   ]
  },
  {
   "cell_type": "code",
   "execution_count": 295,
   "metadata": {},
   "outputs": [
    {
     "data": {
      "text/plain": [
       "24"
      ]
     },
     "execution_count": 295,
     "metadata": {},
     "output_type": "execute_result"
    }
   ],
   "source": [
    "len(df.loc[df['пульс']=='?']) # выбросы"
   ]
  },
  {
   "cell_type": "code",
   "execution_count": 296,
   "metadata": {},
   "outputs": [
    {
     "data": {
      "text/plain": [
       "array(['66', '88', '40', '164', '104', 0, '48', '60', '80', '90', '72',\n",
       "       '42', '92', '76', '96', '128', '64', '110', '130', '108', '100',\n",
       "       '112', '52', '146', '150', '120', '140', '84', '46', '114', '160',\n",
       "       '54', '56', '38', '98', '50', '44', '70', '78', '49', '30', '136',\n",
       "       '132', '65', '86', '129', '68', '36', '45', '124', '184', '75',\n",
       "       '82'], dtype=object)"
      ]
     },
     "execution_count": 296,
     "metadata": {},
     "output_type": "execute_result"
    }
   ],
   "source": [
    "df['пульс'].replace(['?'],[0],inplace=True)\n",
    "df['пульс'].unique()        "
   ]
  },
  {
   "cell_type": "code",
   "execution_count": 297,
   "metadata": {},
   "outputs": [],
   "source": [
    "df['пульс']=pd.to_numeric(df['пульс'])  \n",
    " "
   ]
  },
  {
   "cell_type": "markdown",
   "metadata": {},
   "source": [
    "смотрим наличие выбросов, кроме уже определенного значения \"0\" (после замены пропущенных значений \"?\""
   ]
  },
  {
   "cell_type": "code",
   "execution_count": 298,
   "metadata": {},
   "outputs": [
    {
     "data": {
      "text/plain": [
       "<matplotlib.collections.PathCollection at 0x118d0dd10>"
      ]
     },
     "execution_count": 298,
     "metadata": {},
     "output_type": "execute_result"
    },
    {
     "data": {
      "image/png": "[encoded data removed]",
      "text/plain": [
       "<Figure size 432x288 with 1 Axes>"
      ]
     },
     "metadata": {
      "needs_background": "light"
     },
     "output_type": "display_data"
    }
   ],
   "source": [
    "# рисуем точечный график, чтоб посмотреть наличие зависимостей и выбросов, а так же корректность выводов \n",
    "# по результатам проведенных рассчетов статистик \n",
    "\n",
    "plt.scatter(x=range(len(df['пульс'])),y=df['пульс'])\n"
   ]
  },
  {
   "cell_type": "code",
   "execution_count": 304,
   "metadata": {},
   "outputs": [
    {
     "data": {
      "text/html": [
       "<div>\n",
       "<style scoped>\n",
       "    .dataframe tbody tr th:only-of-type {\n",
       "        vertical-align: middle;\n",
       "    }\n",
       "\n",
       "    .dataframe tbody tr th {\n",
       "        vertical-align: top;\n",
       "    }\n",
       "\n",
       "    .dataframe thead th {\n",
       "        text-align: right;\n",
       "    }\n",
       "</style>\n",
       "<table border=\"1\" class=\"dataframe\">\n",
       "  <thead>\n",
       "    <tr style=\"text-align: right;\">\n",
       "      <th></th>\n",
       "      <th>операция</th>\n",
       "      <th>Возраст</th>\n",
       "      <th>Номер больницы</th>\n",
       "      <th>ректальная температура</th>\n",
       "      <th>пульс</th>\n",
       "      <th>вздутие живота</th>\n",
       "      <th>общий белок</th>\n",
       "      <th>результат</th>\n",
       "    </tr>\n",
       "  </thead>\n",
       "  <tbody>\n",
       "    <tr>\n",
       "      <th>3</th>\n",
       "      <td>1</td>\n",
       "      <td>9</td>\n",
       "      <td>5290409</td>\n",
       "      <td>39.1</td>\n",
       "      <td>164.0</td>\n",
       "      <td>4</td>\n",
       "      <td>7.20</td>\n",
       "      <td>2</td>\n",
       "    </tr>\n",
       "    <tr>\n",
       "      <th>41</th>\n",
       "      <td>2</td>\n",
       "      <td>9</td>\n",
       "      <td>5288249</td>\n",
       "      <td>39.0</td>\n",
       "      <td>150.0</td>\n",
       "      <td>?</td>\n",
       "      <td>8.50</td>\n",
       "      <td>1</td>\n",
       "    </tr>\n",
       "    <tr>\n",
       "      <th>55</th>\n",
       "      <td>1</td>\n",
       "      <td>9</td>\n",
       "      <td>5282839</td>\n",
       "      <td>38.6</td>\n",
       "      <td>160.0</td>\n",
       "      <td>4</td>\n",
       "      <td>?</td>\n",
       "      <td>2</td>\n",
       "    </tr>\n",
       "    <tr>\n",
       "      <th>255</th>\n",
       "      <td>1</td>\n",
       "      <td>9</td>\n",
       "      <td>5294539</td>\n",
       "      <td>38.8</td>\n",
       "      <td>184.0</td>\n",
       "      <td>3</td>\n",
       "      <td>3.30</td>\n",
       "      <td>2</td>\n",
       "    </tr>\n",
       "    <tr>\n",
       "      <th>275</th>\n",
       "      <td>1</td>\n",
       "      <td>9</td>\n",
       "      <td>5297159</td>\n",
       "      <td>38.8</td>\n",
       "      <td>150.0</td>\n",
       "      <td>2</td>\n",
       "      <td>6.20</td>\n",
       "      <td>2</td>\n",
       "    </tr>\n",
       "  </tbody>\n",
       "</table>\n",
       "</div>"
      ],
      "text/plain": [
       "     операция  Возраст  Номер больницы  ректальная температура  пульс  \\\n",
       "3           1        9         5290409                    39.1  164.0   \n",
       "41          2        9         5288249                    39.0  150.0   \n",
       "55          1        9         5282839                    38.6  160.0   \n",
       "255         1        9         5294539                    38.8  184.0   \n",
       "275         1        9         5297159                    38.8  150.0   \n",
       "\n",
       "    вздутие живота общий белок результат  \n",
       "3                4        7.20         2  \n",
       "41               ?        8.50         1  \n",
       "55               4           ?         2  \n",
       "255              3        3.30         2  \n",
       "275              2        6.20         2  "
      ]
     },
     "execution_count": 304,
     "metadata": {},
     "output_type": "execute_result"
    }
   ],
   "source": [
    "# определяем выбросы через межквартильный размах\n",
    "q1 = df['пульс'].quantile(0.25)\n",
    "q3 = df['пульс'].quantile(0.75)\n",
    "iqr = q3 - q1\n",
    "lower_bound = q1 - (1.5 * iqr) \n",
    "upper_bound = q3 + (1.5 * iqr)\n",
    "remove_outliers = df[~df['пульс'].between(lower_bound, upper_bound, inclusive=True)]\n",
    "remove_outliers\n",
    "\n",
    "#Вывод: 5 значений по параметру \"пульс\" являются валидными. Пульс выше средних значений был у лошадей, \n",
    "# перенесших операцию, старых и в результате умерших, лошадь без опреации (41) осталась жива\n",
    "# Решение - оставить в датасете как валидные, далее можно разбить датасет на 2 группы - ввделив выбросы в отдельную,\n",
    "# и проводить исследвания отдельно по группам, чтоб выбросы не увеличивали погрешность по средним результатам статистик"
   ]
  },
  {
   "cell_type": "markdown",
   "metadata": {},
   "source": [
    "пропущенные значения заменим на среднее"
   ]
  },
  {
   "cell_type": "code",
   "execution_count": 300,
   "metadata": {},
   "outputs": [
    {
     "name": "stdout",
     "output_type": "stream",
     "text": [
      "мода:  48\n",
      "медиана:  60.0\n",
      "среднее:  66.16\n"
     ]
    }
   ],
   "source": [
    "print('мода: ',df['пульс'].round().mode()[0]) #  посмотрим на что лучше менять \"0\"\n",
    "print('медиана: ',df['пульс'].median())\n",
    "print('среднее: ',df['пульс'].mean())"
   ]
  },
  {
   "cell_type": "code",
   "execution_count": 301,
   "metadata": {},
   "outputs": [
    {
     "data": {
      "text/plain": [
       "array([ 66.  ,  88.  ,  40.  , 164.  , 104.  ,  66.16,  48.  ,  60.  ,\n",
       "        80.  ,  90.  ,  72.  ,  42.  ,  92.  ,  76.  ,  96.  , 128.  ,\n",
       "        64.  , 110.  , 130.  , 108.  , 100.  , 112.  ,  52.  , 146.  ,\n",
       "       150.  , 120.  , 140.  ,  84.  ,  46.  , 114.  , 160.  ,  54.  ,\n",
       "        56.  ,  38.  ,  98.  ,  50.  ,  44.  ,  70.  ,  78.  ,  49.  ,\n",
       "        30.  , 136.  , 132.  ,  65.  ,  86.  , 129.  ,  68.  ,  36.  ,\n",
       "        45.  , 124.  , 184.  ,  75.  ,  82.  ])"
      ]
     },
     "execution_count": 301,
     "metadata": {},
     "output_type": "execute_result"
    }
   ],
   "source": [
    "df['пульс'].replace([0],[66.16],inplace=True)\n",
    "df['пульс'].unique()  "
   ]
  },
  {
   "cell_type": "code",
   "execution_count": 302,
   "metadata": {},
   "outputs": [
    {
     "data": {
      "text/plain": [
       "<matplotlib.collections.PathCollection at 0x118dc0410>"
      ]
     },
     "execution_count": 302,
     "metadata": {},
     "output_type": "execute_result"
    },
    {
     "data": {
      "image/png": "[encoded data removed]",
      "text/plain": [
       "<Figure size 432x288 with 1 Axes>"
      ]
     },
     "metadata": {
      "needs_background": "light"
     },
     "output_type": "display_data"
    }
   ],
   "source": [
    "# смотрим как изменился график после замены на медиану. видим корректное отображение данных исходя \n",
    "# из описания датасета (отражает состояние сердца: 30-40 - нормально для взрослых\n",
    "#          - редко бывает ниже нормы, хотя у спортивных лошадей может иметь показатель 20-25\n",
    "#         - животные с болезненными поражениями или страдающие от шока кровообращения\n",
    "#         -  может иметь повышенную частоту сердечных сокращений)\n",
    "plt.scatter(x=range(len(df['пульс'])),y=df['пульс'])"
   ]
  },
  {
   "cell_type": "code",
   "execution_count": 271,
   "metadata": {},
   "outputs": [
    {
     "name": "stdout",
     "output_type": "stream",
     "text": [
      "мода:  66.0\n",
      "медиана:  66.16\n",
      "среднее:  71.45279999999998\n",
      "СКО:  27.501943138889583\n",
      "Дисперсия:  756.3568764147158\n",
      "максимум:  184.0\n",
      "минимум:  30.0\n",
      "размах:  154.0\n",
      "квантили:  66.16\n",
      "межквартильный размах:  40.0\n",
      "1-ый и 3-ий квантили:  0.25    48.0\n",
      "0.75    88.0\n",
      "Name: пульс, dtype: float64\n"
     ]
    }
   ],
   "source": [
    "print('мода: ',df['пульс'].round().mode()[0]) #  проверяем значение 1=мода\n",
    "print('медиана: ',df['пульс'].median())\n",
    "print('среднее: ',df['пульс'].mean())\n",
    "print('СКО: ',df['пульс'].std())\n",
    "print('Дисперсия: ',df['пульс'].var())\n",
    "print('максимум: ',df['пульс'].max())\n",
    "print('минимум: ',df['пульс'].min())\n",
    "print('размах: ',df['пульс'].max()-df['пульс'].min())  \n",
    "print('квантили: ',df['пульс'].quantile())\n",
    "print('межквартильный размах: ',df['пульс'].quantile(0.75)-df['пульс'].quantile(0.25))\n",
    "print('1-ый и 3-ий квантили: ',df['пульс'].quantile([0.25,0.75]))"
   ]
  },
  {
   "cell_type": "code",
   "execution_count": 376,
   "metadata": {},
   "outputs": [
    {
     "name": "stdout",
     "output_type": "stream",
     "text": [
      "56\n",
      "76\n",
      "65\n",
      "65\n",
      "38\n"
     ]
    }
   ],
   "source": [
    "print(len(df.loc[df['вздутие живота']=='?'])) # выбросы\n",
    "print(len(df.loc[df['вздутие живота']=='1']))\n",
    "print(len(df.loc[df['вздутие живота']=='2']))\n",
    "print(len(df.loc[df['вздутие живота']=='3']))\n",
    "print(len(df.loc[df['вздутие живота']=='4']))"
   ]
  },
  {
   "cell_type": "code",
   "execution_count": 377,
   "metadata": {},
   "outputs": [
    {
     "data": {
      "text/plain": [
       "array(['4', '2', '1', 0, '3'], dtype=object)"
      ]
     },
     "execution_count": 377,
     "metadata": {},
     "output_type": "execute_result"
    }
   ],
   "source": [
    "# заменим пропуски на значение 0, затем выделим это в отдельную группу и будем анализировать в совокупности с другими\n",
    "# заимозависимыми параметрами датасета\n",
    "df['вздутие живота'].replace(['?'],[0],inplace=True)\n",
    "df['вздутие живота'].unique()       "
   ]
  },
  {
   "cell_type": "code",
   "execution_count": 378,
   "metadata": {},
   "outputs": [],
   "source": [
    "df['вздутие живота']=pd.to_numeric(df['вздутие живота'])  "
   ]
  },
  {
   "cell_type": "code",
   "execution_count": 379,
   "metadata": {},
   "outputs": [
    {
     "data": {
      "text/plain": [
       "<matplotlib.collections.PathCollection at 0x119a0a110>"
      ]
     },
     "execution_count": 379,
     "metadata": {},
     "output_type": "execute_result"
    },
    {
     "data": {
      "image/png": "[encoded data removed]",
      "text/plain": [
       "<Figure size 432x288 with 1 Axes>"
      ]
     },
     "metadata": {
      "needs_background": "light"
     },
     "output_type": "display_data"
    }
   ],
   "source": [
    "# рисуем точечный график, чтоб посмотреть наличие зависимостей и выбросов, а так же корректность выводов \n",
    "# по результатам проведенных рассчетов статистик \n",
    "plt.scatter(x=range(len(df['вздутие живота'])),y=df['вздутие живота'])"
   ]
  },
  {
   "cell_type": "code",
   "execution_count": 371,
   "metadata": {},
   "outputs": [
    {
     "data": {
      "text/plain": [
       "array(['4', '2', '1', 'NaN', '3'], dtype=object)"
      ]
     },
     "execution_count": 371,
     "metadata": {},
     "output_type": "execute_result"
    }
   ],
   "source": [
    "print('мода: ',df['вздутие живота'].round().mode()[0]) #  проверяем значение 1=мода\n",
    "print('медиана: ',df['вздутие живота'].median())\n",
    "print('среднее: ',df['вздутие живота'].mean())\n",
    "print('СКО: ',df['вздутие живота'].std())\n",
    "print('Дисперсия: ',df['вздутие живота'].var())\n",
    "print('максимум: ',df['вздутие живота'].max())\n",
    "print('минимум: ',df['вздутие живота'].min())\n",
    "print('размах: ',df['вздутие живота'].max()-df['вздутие живота'].min())  \n",
    "print('квантили: ',df['вздутие живота'].quantile())\n",
    "print('межквартильный размах: ',df['вздутие живота'].quantile(0.75)-df['вздутие живота'].quantile(0.25))\n",
    "print('1-ый и 3-ий квантили: ',df['вздутие живота'].quantile([0.25,0.75]))"
   ]
  },
  {
   "cell_type": "code",
   "execution_count": 88,
   "metadata": {},
   "outputs": [
    {
     "data": {
      "text/plain": [
       "array(['8.40', '85', '6.70', '7.20', '7.40', 0, '7.00', '8.30', '6.20',\n",
       "       '6.00', '7.80', '6.10', '81', '6.80', '8.7', '70', '65', '5.50',\n",
       "       '76', '7.50', '8.20', '6.60', '8.60', '80', '6.50', '8.50', '67',\n",
       "       '69', '9.10', '7.70', '6.40', '8.10', '5.90', '8.00', '82', '72',\n",
       "       '74', '6.30', '7.60', '4.90', '57', '68', '77', '8.90', '5.70',\n",
       "       '4.50', '61', '86', '60', '66', '5.30', '7.30', '64', '58', '56',\n",
       "       '75', '10.2', '62', '7.90', '73', '71', '7.0', '63', '46', '7.2',\n",
       "       '5.80', '53', '4.70', '59', '55', '8.70', '89', '51', '4.00',\n",
       "       '11.00', '8.80', '50', '54', '6.90', '4.60', '13', '7.10', '3.30',\n",
       "       '9.00', '5.00'], dtype=object)"
      ]
     },
     "execution_count": 88,
     "metadata": {},
     "output_type": "execute_result"
    }
   ],
   "source": [
    "df['общий белок'].replace(['?'],[0],inplace=True)\n",
    "df['общий белок'].unique()    "
   ]
  },
  {
   "cell_type": "code",
   "execution_count": 89,
   "metadata": {},
   "outputs": [],
   "source": [
    "df['общий белок']=pd.to_numeric(df['общий белок'])  "
   ]
  },
  {
   "cell_type": "code",
   "execution_count": 91,
   "metadata": {},
   "outputs": [
    {
     "data": {
      "text/plain": [
       "array(['2', '3', '1', 0], dtype=object)"
      ]
     },
     "execution_count": 91,
     "metadata": {},
     "output_type": "execute_result"
    }
   ],
   "source": [
    "df['результат'].replace(['?'],[0],inplace=True)\n",
    "df['результат'].unique() "
   ]
  },
  {
   "cell_type": "code",
   "execution_count": 92,
   "metadata": {},
   "outputs": [],
   "source": [
    "df['результат']=pd.to_numeric(df['результат'])  "
   ]
  },
  {
   "cell_type": "code",
   "execution_count": 93,
   "metadata": {},
   "outputs": [
    {
     "name": "stdout",
     "output_type": "stream",
     "text": [
      "<class 'pandas.core.frame.DataFrame'>\n",
      "RangeIndex: 300 entries, 0 to 299\n",
      "Data columns (total 8 columns):\n",
      " #   Column                  Non-Null Count  Dtype  \n",
      "---  ------                  --------------  -----  \n",
      " 0   операция                300 non-null    int64  \n",
      " 1   Возраст                 300 non-null    int64  \n",
      " 2   Номер больницы          300 non-null    int64  \n",
      " 3   ректальная температура  300 non-null    float64\n",
      " 4   пульс                   300 non-null    int64  \n",
      " 5   вздутие живота          300 non-null    int64  \n",
      " 6   общий белок             300 non-null    float64\n",
      " 7   результат               300 non-null    int64  \n",
      "dtypes: float64(2), int64(6)\n",
      "memory usage: 18.9 KB\n"
     ]
    }
   ],
   "source": [
    "df.info()  # проверяем что в столбцах записаны числовые типы данных"
   ]
  },
  {
   "cell_type": "code",
   "execution_count": 37,
   "metadata": {},
   "outputs": [
    {
     "name": "stdout",
     "output_type": "stream",
     "text": [
      "ректальная температура:\n"
     ]
    },
    {
     "ename": "NameError",
     "evalue": "name 'statistics' is not defined",
     "output_type": "error",
     "traceback": [
      "\u001b[0;31m---------------------------------------------------------------------------\u001b[0m",
      "\u001b[0;31mNameError\u001b[0m                                 Traceback (most recent call last)",
      "\u001b[0;32m<ipython-input-37-72c412c70c0c>\u001b[0m in \u001b[0;36m<module>\u001b[0;34m\u001b[0m\n\u001b[1;32m      1\u001b[0m \u001b[0mprint\u001b[0m\u001b[0;34m(\u001b[0m\u001b[0;34m'ректальная температура:'\u001b[0m\u001b[0;34m)\u001b[0m\u001b[0;34m\u001b[0m\u001b[0;34m\u001b[0m\u001b[0m\n\u001b[0;32m----> 2\u001b[0;31m \u001b[0mprint\u001b[0m\u001b[0;34m(\u001b[0m\u001b[0;34m'Матожидание: '\u001b[0m\u001b[0;34m,\u001b[0m\u001b[0mstatistics\u001b[0m\u001b[0;34m.\u001b[0m\u001b[0mmean\u001b[0m\u001b[0;34m(\u001b[0m\u001b[0mdf\u001b[0m\u001b[0;34m[\u001b[0m\u001b[0;34m'ректальная температура'\u001b[0m\u001b[0;34m]\u001b[0m\u001b[0;34m)\u001b[0m\u001b[0;34m)\u001b[0m\u001b[0;34m\u001b[0m\u001b[0;34m\u001b[0m\u001b[0m\n\u001b[0m\u001b[1;32m      3\u001b[0m \u001b[0mprint\u001b[0m\u001b[0;34m(\u001b[0m\u001b[0;34m'Максимум: '\u001b[0m\u001b[0;34m,\u001b[0m\u001b[0mmax\u001b[0m\u001b[0;34m(\u001b[0m\u001b[0mdf\u001b[0m\u001b[0;34m[\u001b[0m\u001b[0;34m'ректальная температура'\u001b[0m\u001b[0;34m]\u001b[0m\u001b[0;34m)\u001b[0m\u001b[0;34m)\u001b[0m\u001b[0;34m\u001b[0m\u001b[0;34m\u001b[0m\u001b[0m\n\u001b[1;32m      4\u001b[0m \u001b[0mprint\u001b[0m\u001b[0;34m(\u001b[0m\u001b[0;34m'Минимум: '\u001b[0m\u001b[0;34m,\u001b[0m\u001b[0mmin\u001b[0m\u001b[0;34m(\u001b[0m\u001b[0mdf\u001b[0m\u001b[0;34m[\u001b[0m\u001b[0;34m'ректальная температура'\u001b[0m\u001b[0;34m]\u001b[0m\u001b[0;34m)\u001b[0m\u001b[0;34m)\u001b[0m\u001b[0;34m\u001b[0m\u001b[0;34m\u001b[0m\u001b[0m\n\u001b[1;32m      5\u001b[0m \u001b[0mprint\u001b[0m\u001b[0;34m(\u001b[0m\u001b[0;34m'размах: '\u001b[0m\u001b[0;34m,\u001b[0m\u001b[0mmax\u001b[0m\u001b[0;34m(\u001b[0m\u001b[0mdf\u001b[0m\u001b[0;34m[\u001b[0m\u001b[0;34m'ректальная температура'\u001b[0m\u001b[0;34m]\u001b[0m\u001b[0;34m)\u001b[0m\u001b[0;34m-\u001b[0m\u001b[0mmin\u001b[0m\u001b[0;34m(\u001b[0m\u001b[0mdf\u001b[0m\u001b[0;34m[\u001b[0m\u001b[0;34m'ректальная температура'\u001b[0m\u001b[0;34m]\u001b[0m\u001b[0;34m)\u001b[0m\u001b[0;34m)\u001b[0m\u001b[0;34m\u001b[0m\u001b[0;34m\u001b[0m\u001b[0m\n",
      "\u001b[0;31mNameError\u001b[0m: name 'statistics' is not defined"
     ]
    }
   ],
   "source": [
    "print('ректальная температура:')\n",
    "print('Матожидание: ',statistics.mean(df['ректальная температура']))\n",
    "print('Максимум: ',max(df['ректальная температура']))\n",
    "print('Минимум: ',min(df['ректальная температура']))\n",
    "print('размах: ',max(df['ректальная температура'])-min(df['ректальная температура']))\n",
    "print('стандартное отклонение: ',statistics.pstdev(df['ректальная температура']))\n",
    "print('дисперсия: ',statistics.pvariance(df['ректальная температура']))\n",
    "print('Медиана: ', statistics.median(df['ректальная температура']))\n",
    "print('Значение моды: ', statistics.mode(df['ректальная температура']))"
   ]
  },
  {
   "cell_type": "code",
   "execution_count": 69,
   "metadata": {},
   "outputs": [
    {
     "data": {
      "text/plain": [
       "38.0"
      ]
     },
     "execution_count": 69,
     "metadata": {},
     "output_type": "execute_result"
    }
   ],
   "source": [
    "df['ректальная температура'].round().mode()[0]"
   ]
  },
  {
   "cell_type": "code",
   "execution_count": 75,
   "metadata": {},
   "outputs": [
    {
     "ename": "TypeError",
     "evalue": "'DataFrame' object is not callable",
     "output_type": "error",
     "traceback": [
      "\u001b[0;31m---------------------------------------------------------------------------\u001b[0m",
      "\u001b[0;31mTypeError\u001b[0m                                 Traceback (most recent call last)",
      "\u001b[0;32m<ipython-input-75-bd809038e3b2>\u001b[0m in \u001b[0;36m<module>\u001b[0;34m\u001b[0m\n\u001b[0;32m----> 1\u001b[0;31m \u001b[0mdf\u001b[0m\u001b[0;34m(\u001b[0m\u001b[0mdf\u001b[0m\u001b[0;34m[\u001b[0m\u001b[0;34m'ректальная температура'\u001b[0m\u001b[0;34m]\u001b[0m\u001b[0;34m==\u001b[0m\u001b[0;36m38.0\u001b[0m\u001b[0;34m)\u001b[0m\u001b[0;34m.\u001b[0m\u001b[0mvalue_counts\u001b[0m\u001b[0;34m(\u001b[0m\u001b[0;34m)\u001b[0m\u001b[0;34m.\u001b[0m\u001b[0mhead\u001b[0m\u001b[0;34m(\u001b[0m\u001b[0;34m)\u001b[0m\u001b[0;34m\u001b[0m\u001b[0;34m\u001b[0m\u001b[0m\n\u001b[0m",
      "\u001b[0;31mTypeError\u001b[0m: 'DataFrame' object is not callable"
     ]
    }
   ],
   "source": [
    "df(df['ректальная температура']==38.0).value_counts().head()"
   ]
  },
  {
   "cell_type": "code",
   "execution_count": 44,
   "metadata": {},
   "outputs": [
    {
     "data": {
      "text/plain": [
       "1.0"
      ]
     },
     "execution_count": 44,
     "metadata": {},
     "output_type": "execute_result"
    }
   ],
   "source": [
    "np.median(df['Возраст'])"
   ]
  },
  {
   "cell_type": "code",
   "execution_count": 45,
   "metadata": {},
   "outputs": [
    {
     "data": {
      "text/plain": [
       "1"
      ]
     },
     "execution_count": 45,
     "metadata": {},
     "output_type": "execute_result"
    }
   ],
   "source": [
    "df['Возраст'].round().mode()[0]"
   ]
  },
  {
   "cell_type": "markdown",
   "metadata": {},
   "source": [
    "## Дополнительная часть (необязательная)\n",
    "\n",
    "Выполнить задания 1-3 для всего набора данных."
   ]
  },
  {
   "cell_type": "markdown",
   "metadata": {},
   "source": [
    "#### ПРИМЕЧАНИЕ\n",
    "Домашнее задание сдается ссылкой на репозиторий [GitHub](https://github.com/).\n",
    "Не сможем проверить или помочь, если вы пришлете:\n",
    "- файлы;\n",
    "- архивы;\n",
    "- скриншоты кода.\n",
    "\n",
    "Все обсуждения и консультации по выполнению домашнего задания ведутся только на соответствующем канале в slack.\n",
    "\n",
    "##### Как правильно задавать вопросы аспирантам, преподавателям и коллегам\n",
    "Прежде чем задать вопрос, попробуйте найти ответ в интернете. Навык самостоятельного поиска информации — один из важнейших. Каждый практикующий специалист любого уровня делает это ежедневно.\n",
    "\n",
    "Сформулируйте вопрос по алгоритму:  \n",
    "1) Что я делаю?  \n",
    "2) Какого результата я ожидаю?  \n",
    "3) Как фактический результат отличается от ожидаемого?  \n",
    "4) Что я уже попробовал сделать, чтобы исправить проблему?  \n",
    "\n",
    "По возможности прикрепите к вопросу скриншоты либо ссылки на код. Не выкладывайте все решение, оставляйте только проблемный и воспроизводимый участок кода."
   ]
  }
 ],
 "metadata": {
  "kernelspec": {
   "display_name": "Python 3",
   "language": "python",
   "name": "python3"
  },
  "language_info": {
   "codemirror_mode": {
    "name": "ipython",
    "version": 3
   },
   "file_extension": ".py",
   "mimetype": "text/x-python",
   "name": "python",
   "nbconvert_exporter": "python",
   "pygments_lexer": "ipython3",
   "version": "3.7.6"
  }
 },
 "nbformat": 4,
 "nbformat_minor": 2
}
